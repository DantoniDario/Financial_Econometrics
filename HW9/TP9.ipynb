{
 "cells": [
  {
   "cell_type": "code",
   "execution_count": 1,
   "metadata": {},
   "outputs": [],
   "source": [
    "# import packages\n",
    "import pandas as pd\n",
    "#import math\n",
    "import numpy as np\n",
    "import statsmodels.api as sm\n",
    "from statsmodels.stats.diagnostic import acorr_ljungbox\n",
    "#from scipy import stats\n",
    "#import statistics\n",
    "#import plotly.graph_objects as go\n",
    "#from scipy.stats import norm\n",
    "#from plotly.subplots import make_subplots\n",
    "#from sklearn.neighbors import KernelDensity\n",
    "#from scipy import optimize"
   ]
  },
  {
   "cell_type": "markdown",
   "metadata": {},
   "source": [
    "### Theory\n",
    "\n",
    "*  If the ACF dies oﬀ more or less geometrically with increasing lag number, it is a sign that the series obeys a pure AR process.\n",
    "*  If the PACF dies oﬀ more or less geometrically with increasing lag number, it is a sign that the series obeys a pure MA process.\n",
    "* If the ACF drops to zero after a small number of lags q, it is a sign that the series obeys a MA(q) process.\n",
    "* If the PACF drops to zero after a small number of lags p, it is a sign that the series obeys a AR(p) process.\n",
    "* If we see no geometric decrease neither in the ACF nor in the PACF, but that there is at least one non zero coeﬃcient, it is a sign that the process has no pure AR or MA."
   ]
  },
  {
   "cell_type": "markdown",
   "metadata": {},
   "source": [
    "### Preestimation Analysis on Simulated Data\n",
    "Simul1 : AR(2) because ACF is geometrically decreasing and PACF drops to zero after 2 lags.\n",
    "\n",
    "Simul2 : MA(3) because PACF is geometrically decreasing and ACF drops to zero after 3 lags."
   ]
  },
  {
   "cell_type": "markdown",
   "metadata": {},
   "source": [
    "### ARMA Representation and Stocks"
   ]
  },
  {
   "cell_type": "code",
   "execution_count": 2,
   "metadata": {},
   "outputs": [
    {
     "data": {
      "text/html": [
       "<div>\n",
       "<style scoped>\n",
       "    .dataframe tbody tr th:only-of-type {\n",
       "        vertical-align: middle;\n",
       "    }\n",
       "\n",
       "    .dataframe tbody tr th {\n",
       "        vertical-align: top;\n",
       "    }\n",
       "\n",
       "    .dataframe thead th {\n",
       "        text-align: right;\n",
       "    }\n",
       "</style>\n",
       "<table border=\"1\" class=\"dataframe\">\n",
       "  <thead>\n",
       "    <tr style=\"text-align: right;\">\n",
       "      <th></th>\n",
       "      <th>Microsoft</th>\n",
       "      <th>CreditSuisse</th>\n",
       "      <th>Boeing</th>\n",
       "      <th>CocaCola</th>\n",
       "      <th>Nike</th>\n",
       "    </tr>\n",
       "    <tr>\n",
       "      <th>Date</th>\n",
       "      <th></th>\n",
       "      <th></th>\n",
       "      <th></th>\n",
       "      <th></th>\n",
       "      <th></th>\n",
       "    </tr>\n",
       "  </thead>\n",
       "  <tbody>\n",
       "    <tr>\n",
       "      <th>1992-10-23</th>\n",
       "      <td>5.54</td>\n",
       "      <td>8.38</td>\n",
       "      <td>18.37</td>\n",
       "      <td>20.00</td>\n",
       "      <td>19.37</td>\n",
       "    </tr>\n",
       "    <tr>\n",
       "      <th>1992-10-26</th>\n",
       "      <td>5.62</td>\n",
       "      <td>8.50</td>\n",
       "      <td>17.88</td>\n",
       "      <td>20.37</td>\n",
       "      <td>19.31</td>\n",
       "    </tr>\n",
       "    <tr>\n",
       "      <th>1992-10-27</th>\n",
       "      <td>5.50</td>\n",
       "      <td>8.50</td>\n",
       "      <td>18.25</td>\n",
       "      <td>20.69</td>\n",
       "      <td>19.22</td>\n",
       "    </tr>\n",
       "    <tr>\n",
       "      <th>1992-10-28</th>\n",
       "      <td>5.53</td>\n",
       "      <td>8.38</td>\n",
       "      <td>18.06</td>\n",
       "      <td>20.69</td>\n",
       "      <td>19.37</td>\n",
       "    </tr>\n",
       "    <tr>\n",
       "      <th>1992-10-29</th>\n",
       "      <td>5.62</td>\n",
       "      <td>8.50</td>\n",
       "      <td>18.06</td>\n",
       "      <td>20.75</td>\n",
       "      <td>19.34</td>\n",
       "    </tr>\n",
       "  </tbody>\n",
       "</table>\n",
       "</div>"
      ],
      "text/plain": [
       "            Microsoft  CreditSuisse  Boeing  CocaCola   Nike\n",
       "Date                                                        \n",
       "1992-10-23       5.54          8.38   18.37     20.00  19.37\n",
       "1992-10-26       5.62          8.50   17.88     20.37  19.31\n",
       "1992-10-27       5.50          8.50   18.25     20.69  19.22\n",
       "1992-10-28       5.53          8.38   18.06     20.69  19.37\n",
       "1992-10-29       5.62          8.50   18.06     20.75  19.34"
      ]
     },
     "execution_count": 2,
     "metadata": {},
     "output_type": "execute_result"
    }
   ],
   "source": [
    "df = pd.read_excel(\"/Users/dantoni/HW9/TP9.xls\", skiprows = 4)\n",
    "df.columns = ['Date', 'Microsoft', 'CreditSuisse', 'Boeing', 'CocaCola', 'Nike']\n",
    "df = df.set_index('Date')\n",
    "df.head()"
   ]
  },
  {
   "cell_type": "markdown",
   "metadata": {},
   "source": [
    "## 1."
   ]
  },
  {
   "cell_type": "code",
   "execution_count": 3,
   "metadata": {},
   "outputs": [
    {
     "name": "stdout",
     "output_type": "stream",
     "text": [
      "Coca Cola :\n"
     ]
    },
    {
     "name": "stderr",
     "output_type": "stream",
     "text": [
      "/Users/dantoni/opt/anaconda3/lib/python3.7/site-packages/statsmodels/graphics/tsaplots.py:353: FutureWarning: The default method 'yw' can produce PACF values outside of the [-1,1] interval. After 0.13, the default will change tounadjusted Yule-Walker ('ywm'). You can use this method now by setting method='ywm'.\n",
      "  FutureWarning,\n"
     ]
    }
   ],
   "source": [
    "print('Coca Cola :')\n",
    "sm.graphics.tsa.plot_acf(df.CocaCola);\n",
    "sm.graphics.tsa.plot_pacf(df.CocaCola);"
   ]
  },
  {
   "cell_type": "code",
   "execution_count": 4,
   "metadata": {},
   "outputs": [
    {
     "name": "stdout",
     "output_type": "stream",
     "text": [
      "Credit Suisse :\n"
     ]
    },
    {
     "data": {
      "image/png": "[encoded data removed]",
      "text/plain": [
       "<Figure size 432x288 with 1 Axes>"
      ]
     },
     "metadata": {
      "needs_background": "light"
     },
     "output_type": "display_data"
    },
    {
     "data": {
      "image/png": "[encoded data removed]",
      "text/plain": [
       "<Figure size 432x288 with 1 Axes>"
      ]
     },
     "metadata": {
      "needs_background": "light"
     },
     "output_type": "display_data"
    }
   ],
   "source": [
    "print('Credit Suisse :')\n",
    "sm.graphics.tsa.plot_acf(df.CreditSuisse);\n",
    "sm.graphics.tsa.plot_pacf(df.CreditSuisse);"
   ]
  },
  {
   "cell_type": "markdown",
   "metadata": {},
   "source": [
    "Both processes are not stationary."
   ]
  },
  {
   "cell_type": "markdown",
   "metadata": {},
   "source": [
    "## 2.\n"
   ]
  },
  {
   "cell_type": "code",
   "execution_count": 5,
   "metadata": {},
   "outputs": [],
   "source": [
    "CS = df['CreditSuisse']\n",
    "Coca = df['CocaCola']\n",
    "CS_log_return = np.log(CS[1:len(CS)].values) - np.log(CS[0:(len(CS)-1)].values)\n",
    "Coca_log_return = np.log(Coca[1:len(Coca)].values) - np.log(Coca[0:(len(Coca)-1)].values)"
   ]
  },
  {
   "cell_type": "code",
   "execution_count": 6,
   "metadata": {},
   "outputs": [
    {
     "name": "stdout",
     "output_type": "stream",
     "text": [
      "Coca Cola :\n"
     ]
    },
    {
     "data": {
      "image/png": "[encoded data removed]",
      "text/plain": [
       "<Figure size 432x288 with 1 Axes>"
      ]
     },
     "metadata": {
      "needs_background": "light"
     },
     "output_type": "display_data"
    },
    {
     "data": {
      "image/png": "[encoded data removed]",
      "text/plain": [
       "<Figure size 432x288 with 1 Axes>"
      ]
     },
     "metadata": {
      "needs_background": "light"
     },
     "output_type": "display_data"
    }
   ],
   "source": [
    "print('Coca Cola :')\n",
    "sm.graphics.tsa.plot_acf(Coca_log_return);\n",
    "sm.graphics.tsa.plot_pacf(Coca_log_return);"
   ]
  },
  {
   "cell_type": "code",
   "execution_count": 7,
   "metadata": {},
   "outputs": [
    {
     "name": "stdout",
     "output_type": "stream",
     "text": [
      "Credit Suisse :\n"
     ]
    },
    {
     "data": {
      "image/png": "[encoded data removed]",
      "text/plain": [
       "<Figure size 432x288 with 1 Axes>"
      ]
     },
     "metadata": {
      "needs_background": "light"
     },
     "output_type": "display_data"
    },
    {
     "data": {
      "image/png": "[encoded data removed]",
      "text/plain": [
       "<Figure size 432x288 with 1 Axes>"
      ]
     },
     "metadata": {
      "needs_background": "light"
     },
     "output_type": "display_data"
    }
   ],
   "source": [
    "print('Credit Suisse :')\n",
    "sm.graphics.tsa.plot_acf(CS_log_return);\n",
    "sm.graphics.tsa.plot_pacf(CS_log_return);"
   ]
  },
  {
   "cell_type": "markdown",
   "metadata": {},
   "source": [
    "While Coca Cola's log returns do not exibit obvious correlation patterns, Credit Suisse does. Some spikes (wihout looking the first one which is the correlation with itself) are clearly above the confidence interval."
   ]
  },
  {
   "cell_type": "markdown",
   "metadata": {},
   "source": [
    "## 3."
   ]
  },
  {
   "cell_type": "code",
   "execution_count": 8,
   "metadata": {},
   "outputs": [
    {
     "name": "stdout",
     "output_type": "stream",
     "text": [
      "Coca Cola :\n"
     ]
    },
    {
     "data": {
      "text/html": [
       "<div>\n",
       "<style scoped>\n",
       "    .dataframe tbody tr th:only-of-type {\n",
       "        vertical-align: middle;\n",
       "    }\n",
       "\n",
       "    .dataframe tbody tr th {\n",
       "        vertical-align: top;\n",
       "    }\n",
       "\n",
       "    .dataframe thead th {\n",
       "        text-align: right;\n",
       "    }\n",
       "</style>\n",
       "<table border=\"1\" class=\"dataframe\">\n",
       "  <thead>\n",
       "    <tr style=\"text-align: right;\">\n",
       "      <th></th>\n",
       "      <th>lb_stat</th>\n",
       "      <th>lb_pvalue</th>\n",
       "    </tr>\n",
       "  </thead>\n",
       "  <tbody>\n",
       "    <tr>\n",
       "      <th>1</th>\n",
       "      <td>2.467339</td>\n",
       "      <td>0.116235</td>\n",
       "    </tr>\n",
       "    <tr>\n",
       "      <th>2</th>\n",
       "      <td>7.557230</td>\n",
       "      <td>0.022854</td>\n",
       "    </tr>\n",
       "    <tr>\n",
       "      <th>3</th>\n",
       "      <td>7.831999</td>\n",
       "      <td>0.049614</td>\n",
       "    </tr>\n",
       "    <tr>\n",
       "      <th>4</th>\n",
       "      <td>9.119977</td>\n",
       "      <td>0.058170</td>\n",
       "    </tr>\n",
       "    <tr>\n",
       "      <th>5</th>\n",
       "      <td>9.223100</td>\n",
       "      <td>0.100490</td>\n",
       "    </tr>\n",
       "    <tr>\n",
       "      <th>6</th>\n",
       "      <td>9.226487</td>\n",
       "      <td>0.161236</td>\n",
       "    </tr>\n",
       "    <tr>\n",
       "      <th>7</th>\n",
       "      <td>9.585704</td>\n",
       "      <td>0.213292</td>\n",
       "    </tr>\n",
       "    <tr>\n",
       "      <th>8</th>\n",
       "      <td>12.680771</td>\n",
       "      <td>0.123316</td>\n",
       "    </tr>\n",
       "    <tr>\n",
       "      <th>9</th>\n",
       "      <td>14.449347</td>\n",
       "      <td>0.107215</td>\n",
       "    </tr>\n",
       "    <tr>\n",
       "      <th>10</th>\n",
       "      <td>19.576752</td>\n",
       "      <td>0.033520</td>\n",
       "    </tr>\n",
       "    <tr>\n",
       "      <th>11</th>\n",
       "      <td>20.484739</td>\n",
       "      <td>0.039120</td>\n",
       "    </tr>\n",
       "    <tr>\n",
       "      <th>12</th>\n",
       "      <td>20.562010</td>\n",
       "      <td>0.057174</td>\n",
       "    </tr>\n",
       "    <tr>\n",
       "      <th>13</th>\n",
       "      <td>21.205318</td>\n",
       "      <td>0.068966</td>\n",
       "    </tr>\n",
       "    <tr>\n",
       "      <th>14</th>\n",
       "      <td>21.215158</td>\n",
       "      <td>0.096245</td>\n",
       "    </tr>\n",
       "    <tr>\n",
       "      <th>15</th>\n",
       "      <td>22.070432</td>\n",
       "      <td>0.105970</td>\n",
       "    </tr>\n",
       "    <tr>\n",
       "      <th>16</th>\n",
       "      <td>22.455578</td>\n",
       "      <td>0.129081</td>\n",
       "    </tr>\n",
       "    <tr>\n",
       "      <th>17</th>\n",
       "      <td>23.667970</td>\n",
       "      <td>0.128741</td>\n",
       "    </tr>\n",
       "    <tr>\n",
       "      <th>18</th>\n",
       "      <td>24.279261</td>\n",
       "      <td>0.146090</td>\n",
       "    </tr>\n",
       "    <tr>\n",
       "      <th>19</th>\n",
       "      <td>30.066160</td>\n",
       "      <td>0.050962</td>\n",
       "    </tr>\n",
       "    <tr>\n",
       "      <th>20</th>\n",
       "      <td>30.967526</td>\n",
       "      <td>0.055621</td>\n",
       "    </tr>\n",
       "  </tbody>\n",
       "</table>\n",
       "</div>"
      ],
      "text/plain": [
       "      lb_stat  lb_pvalue\n",
       "1    2.467339   0.116235\n",
       "2    7.557230   0.022854\n",
       "3    7.831999   0.049614\n",
       "4    9.119977   0.058170\n",
       "5    9.223100   0.100490\n",
       "6    9.226487   0.161236\n",
       "7    9.585704   0.213292\n",
       "8   12.680771   0.123316\n",
       "9   14.449347   0.107215\n",
       "10  19.576752   0.033520\n",
       "11  20.484739   0.039120\n",
       "12  20.562010   0.057174\n",
       "13  21.205318   0.068966\n",
       "14  21.215158   0.096245\n",
       "15  22.070432   0.105970\n",
       "16  22.455578   0.129081\n",
       "17  23.667970   0.128741\n",
       "18  24.279261   0.146090\n",
       "19  30.066160   0.050962\n",
       "20  30.967526   0.055621"
      ]
     },
     "execution_count": 8,
     "metadata": {},
     "output_type": "execute_result"
    }
   ],
   "source": [
    "print('Coca Cola :')\n",
    "acorr_ljungbox(Coca_log_return, lags =20, return_df=True)"
   ]
  },
  {
   "cell_type": "markdown",
   "metadata": {},
   "source": [
    "Most of the H0 (no correlation) can not be rejected. Lags 2, 3, 10 and 11 exibit very small patterns of correlation but their p-values are very closed to 5%."
   ]
  },
  {
   "cell_type": "code",
   "execution_count": 9,
   "metadata": {},
   "outputs": [
    {
     "name": "stdout",
     "output_type": "stream",
     "text": [
      "Credit Suisse :\n"
     ]
    },
    {
     "data": {
      "text/html": [
       "<div>\n",
       "<style scoped>\n",
       "    .dataframe tbody tr th:only-of-type {\n",
       "        vertical-align: middle;\n",
       "    }\n",
       "\n",
       "    .dataframe tbody tr th {\n",
       "        vertical-align: top;\n",
       "    }\n",
       "\n",
       "    .dataframe thead th {\n",
       "        text-align: right;\n",
       "    }\n",
       "</style>\n",
       "<table border=\"1\" class=\"dataframe\">\n",
       "  <thead>\n",
       "    <tr style=\"text-align: right;\">\n",
       "      <th></th>\n",
       "      <th>lb_stat</th>\n",
       "      <th>lb_pvalue</th>\n",
       "    </tr>\n",
       "  </thead>\n",
       "  <tbody>\n",
       "    <tr>\n",
       "      <th>1</th>\n",
       "      <td>51.673444</td>\n",
       "      <td>6.554329e-13</td>\n",
       "    </tr>\n",
       "    <tr>\n",
       "      <th>2</th>\n",
       "      <td>62.816632</td>\n",
       "      <td>2.288452e-14</td>\n",
       "    </tr>\n",
       "    <tr>\n",
       "      <th>3</th>\n",
       "      <td>71.287939</td>\n",
       "      <td>2.261713e-15</td>\n",
       "    </tr>\n",
       "    <tr>\n",
       "      <th>4</th>\n",
       "      <td>76.738457</td>\n",
       "      <td>8.543045e-16</td>\n",
       "    </tr>\n",
       "    <tr>\n",
       "      <th>5</th>\n",
       "      <td>77.347507</td>\n",
       "      <td>3.009010e-15</td>\n",
       "    </tr>\n",
       "    <tr>\n",
       "      <th>6</th>\n",
       "      <td>77.563644</td>\n",
       "      <td>1.137319e-14</td>\n",
       "    </tr>\n",
       "    <tr>\n",
       "      <th>7</th>\n",
       "      <td>79.825154</td>\n",
       "      <td>1.495354e-14</td>\n",
       "    </tr>\n",
       "    <tr>\n",
       "      <th>8</th>\n",
       "      <td>80.200902</td>\n",
       "      <td>4.454173e-14</td>\n",
       "    </tr>\n",
       "    <tr>\n",
       "      <th>9</th>\n",
       "      <td>81.375094</td>\n",
       "      <td>8.612304e-14</td>\n",
       "    </tr>\n",
       "    <tr>\n",
       "      <th>10</th>\n",
       "      <td>81.741783</td>\n",
       "      <td>2.285425e-13</td>\n",
       "    </tr>\n",
       "    <tr>\n",
       "      <th>11</th>\n",
       "      <td>82.603268</td>\n",
       "      <td>4.620231e-13</td>\n",
       "    </tr>\n",
       "    <tr>\n",
       "      <th>12</th>\n",
       "      <td>82.894228</td>\n",
       "      <td>1.154329e-12</td>\n",
       "    </tr>\n",
       "    <tr>\n",
       "      <th>13</th>\n",
       "      <td>82.943627</td>\n",
       "      <td>3.072544e-12</td>\n",
       "    </tr>\n",
       "    <tr>\n",
       "      <th>14</th>\n",
       "      <td>83.020616</td>\n",
       "      <td>7.758327e-12</td>\n",
       "    </tr>\n",
       "    <tr>\n",
       "      <th>15</th>\n",
       "      <td>83.169597</td>\n",
       "      <td>1.830464e-11</td>\n",
       "    </tr>\n",
       "    <tr>\n",
       "      <th>16</th>\n",
       "      <td>83.279159</td>\n",
       "      <td>4.244622e-11</td>\n",
       "    </tr>\n",
       "    <tr>\n",
       "      <th>17</th>\n",
       "      <td>86.002918</td>\n",
       "      <td>3.231854e-11</td>\n",
       "    </tr>\n",
       "    <tr>\n",
       "      <th>18</th>\n",
       "      <td>91.482162</td>\n",
       "      <td>7.816865e-12</td>\n",
       "    </tr>\n",
       "    <tr>\n",
       "      <th>19</th>\n",
       "      <td>92.704834</td>\n",
       "      <td>1.096386e-11</td>\n",
       "    </tr>\n",
       "    <tr>\n",
       "      <th>20</th>\n",
       "      <td>93.533662</td>\n",
       "      <td>1.775656e-11</td>\n",
       "    </tr>\n",
       "  </tbody>\n",
       "</table>\n",
       "</div>"
      ],
      "text/plain": [
       "      lb_stat     lb_pvalue\n",
       "1   51.673444  6.554329e-13\n",
       "2   62.816632  2.288452e-14\n",
       "3   71.287939  2.261713e-15\n",
       "4   76.738457  8.543045e-16\n",
       "5   77.347507  3.009010e-15\n",
       "6   77.563644  1.137319e-14\n",
       "7   79.825154  1.495354e-14\n",
       "8   80.200902  4.454173e-14\n",
       "9   81.375094  8.612304e-14\n",
       "10  81.741783  2.285425e-13\n",
       "11  82.603268  4.620231e-13\n",
       "12  82.894228  1.154329e-12\n",
       "13  82.943627  3.072544e-12\n",
       "14  83.020616  7.758327e-12\n",
       "15  83.169597  1.830464e-11\n",
       "16  83.279159  4.244622e-11\n",
       "17  86.002918  3.231854e-11\n",
       "18  91.482162  7.816865e-12\n",
       "19  92.704834  1.096386e-11\n",
       "20  93.533662  1.775656e-11"
      ]
     },
     "execution_count": 9,
     "metadata": {},
     "output_type": "execute_result"
    }
   ],
   "source": [
    "print('Credit Suisse :')\n",
    "acorr_ljungbox(CS_log_return, lags =20, return_df=True)"
   ]
  },
  {
   "cell_type": "markdown",
   "metadata": {},
   "source": [
    "H0 is always rejected by far. There is correlation in the returns."
   ]
  },
  {
   "cell_type": "markdown",
   "metadata": {},
   "source": [
    "## 4."
   ]
  },
  {
   "cell_type": "code",
   "execution_count": 10,
   "metadata": {},
   "outputs": [
    {
     "name": "stdout",
     "output_type": "stream",
     "text": [
      "                            OLS Regression Results                            \n",
      "==============================================================================\n",
      "Dep. Variable:                      y   R-squared:                       0.039\n",
      "Model:                            OLS   Adj. R-squared:                  0.038\n",
      "Method:                 Least Squares   F-statistic:                     26.43\n",
      "Date:                Wed, 08 Dec 2021   Prob (F-statistic):           1.64e-21\n",
      "Time:                        00:29:29   Log-Likelihood:                 7253.0\n",
      "No. Observations:                2604   AIC:                        -1.450e+04\n",
      "Df Residuals:                    2599   BIC:                        -1.447e+04\n",
      "Df Model:                           4                                         \n",
      "Covariance Type:            nonrobust                                         \n",
      "==============================================================================\n",
      "                 coef    std err          t      P>|t|      [0.025      0.975]\n",
      "------------------------------------------------------------------------------\n",
      "const         -0.0004      0.000     -1.491      0.136      -0.001       0.000\n",
      "x1            -0.1658      0.020     -8.478      0.000      -0.204      -0.127\n",
      "x2            -0.1067      0.020     -5.400      0.000      -0.145      -0.068\n",
      "x3            -0.0940      0.020     -4.756      0.000      -0.133      -0.055\n",
      "x4            -0.0757      0.020     -3.864      0.000      -0.114      -0.037\n",
      "==============================================================================\n",
      "Omnibus:                      618.512   Durbin-Watson:                   2.002\n",
      "Prob(Omnibus):                  0.000   Jarque-Bera (JB):            26870.102\n",
      "Skew:                          -0.281   Prob(JB):                         0.00\n",
      "Kurtosis:                      18.727   Cond. No.                         79.1\n",
      "==============================================================================\n",
      "\n",
      "Notes:\n",
      "[1] Standard Errors assume that the covariance matrix of the errors is correctly specified.\n"
     ]
    }
   ],
   "source": [
    "# We first did a regression of the log returns with 3 lags, but we add a fourth one since there is a forth spike \"clearly\" out of the threshold.\n",
    "# Some other lags are also slightly above but not as much as the first 4, so we don't add them.\n",
    "\n",
    "independent_vars = np.column_stack((CS_log_return[3:-1], CS_log_return[2:-2], CS_log_return[1:-3],CS_log_return[0:-4]))\n",
    "X = sm.add_constant(independent_vars)\n",
    "y = CS_log_return[4:]\n",
    "\n",
    "reg1 = sm.OLS(endog = y, exog = X, missing='drop')\n",
    "results = reg1.fit()\n",
    "print(results.summary())"
   ]
  },
  {
   "cell_type": "markdown",
   "metadata": {},
   "source": [
    "All lags are highly significant. They do have an impact on the actual logs return."
   ]
  },
  {
   "cell_type": "code",
   "execution_count": 11,
   "metadata": {},
   "outputs": [
    {
     "name": "stdout",
     "output_type": "stream",
     "text": [
      "Credit Suisse :\n"
     ]
    },
    {
     "name": "stderr",
     "output_type": "stream",
     "text": [
      "/Users/dantoni/opt/anaconda3/lib/python3.7/site-packages/statsmodels/graphics/tsaplots.py:353: FutureWarning: The default method 'yw' can produce PACF values outside of the [-1,1] interval. After 0.13, the default will change tounadjusted Yule-Walker ('ywm'). You can use this method now by setting method='ywm'.\n",
      "  FutureWarning,\n"
     ]
    },
    {
     "data": {
      "image/png": "[encoded data removed]",
      "text/plain": [
       "<Figure size 432x288 with 1 Axes>"
      ]
     },
     "metadata": {
      "needs_background": "light"
     },
     "output_type": "display_data"
    },
    {
     "data": {
      "image/png": "[encoded data removed]",
      "text/plain": [
       "<Figure size 432x288 with 1 Axes>"
      ]
     },
     "metadata": {
      "needs_background": "light"
     },
     "output_type": "display_data"
    }
   ],
   "source": [
    "print('Credit Suisse :')\n",
    "sm.graphics.tsa.plot_acf(results.resid);\n",
    "sm.graphics.tsa.plot_pacf(results.resid);"
   ]
  },
  {
   "cell_type": "code",
   "execution_count": 12,
   "metadata": {},
   "outputs": [
    {
     "name": "stdout",
     "output_type": "stream",
     "text": [
      "Credit Suisse :\n"
     ]
    },
    {
     "data": {
      "text/html": [
       "<div>\n",
       "<style scoped>\n",
       "    .dataframe tbody tr th:only-of-type {\n",
       "        vertical-align: middle;\n",
       "    }\n",
       "\n",
       "    .dataframe tbody tr th {\n",
       "        vertical-align: top;\n",
       "    }\n",
       "\n",
       "    .dataframe thead th {\n",
       "        text-align: right;\n",
       "    }\n",
       "</style>\n",
       "<table border=\"1\" class=\"dataframe\">\n",
       "  <thead>\n",
       "    <tr style=\"text-align: right;\">\n",
       "      <th></th>\n",
       "      <th>lb_stat</th>\n",
       "      <th>lb_pvalue</th>\n",
       "    </tr>\n",
       "  </thead>\n",
       "  <tbody>\n",
       "    <tr>\n",
       "      <th>1</th>\n",
       "      <td>0.002210</td>\n",
       "      <td>0.962504</td>\n",
       "    </tr>\n",
       "    <tr>\n",
       "      <th>2</th>\n",
       "      <td>0.032540</td>\n",
       "      <td>0.983861</td>\n",
       "    </tr>\n",
       "    <tr>\n",
       "      <th>3</th>\n",
       "      <td>0.150790</td>\n",
       "      <td>0.985113</td>\n",
       "    </tr>\n",
       "    <tr>\n",
       "      <th>4</th>\n",
       "      <td>0.306043</td>\n",
       "      <td>0.989421</td>\n",
       "    </tr>\n",
       "    <tr>\n",
       "      <th>5</th>\n",
       "      <td>1.560320</td>\n",
       "      <td>0.906006</td>\n",
       "    </tr>\n",
       "    <tr>\n",
       "      <th>6</th>\n",
       "      <td>3.308712</td>\n",
       "      <td>0.769221</td>\n",
       "    </tr>\n",
       "    <tr>\n",
       "      <th>7</th>\n",
       "      <td>6.052393</td>\n",
       "      <td>0.533645</td>\n",
       "    </tr>\n",
       "    <tr>\n",
       "      <th>8</th>\n",
       "      <td>6.495083</td>\n",
       "      <td>0.591953</td>\n",
       "    </tr>\n",
       "    <tr>\n",
       "      <th>9</th>\n",
       "      <td>8.404116</td>\n",
       "      <td>0.493989</td>\n",
       "    </tr>\n",
       "    <tr>\n",
       "      <th>10</th>\n",
       "      <td>9.522430</td>\n",
       "      <td>0.483341</td>\n",
       "    </tr>\n",
       "    <tr>\n",
       "      <th>11</th>\n",
       "      <td>11.320457</td>\n",
       "      <td>0.416820</td>\n",
       "    </tr>\n",
       "    <tr>\n",
       "      <th>12</th>\n",
       "      <td>12.477760</td>\n",
       "      <td>0.408112</td>\n",
       "    </tr>\n",
       "    <tr>\n",
       "      <th>13</th>\n",
       "      <td>12.503165</td>\n",
       "      <td>0.486878</td>\n",
       "    </tr>\n",
       "    <tr>\n",
       "      <th>14</th>\n",
       "      <td>12.528542</td>\n",
       "      <td>0.563935</td>\n",
       "    </tr>\n",
       "    <tr>\n",
       "      <th>15</th>\n",
       "      <td>12.573158</td>\n",
       "      <td>0.635229</td>\n",
       "    </tr>\n",
       "    <tr>\n",
       "      <th>16</th>\n",
       "      <td>12.574326</td>\n",
       "      <td>0.703589</td>\n",
       "    </tr>\n",
       "    <tr>\n",
       "      <th>17</th>\n",
       "      <td>16.044892</td>\n",
       "      <td>0.520655</td>\n",
       "    </tr>\n",
       "    <tr>\n",
       "      <th>18</th>\n",
       "      <td>20.695455</td>\n",
       "      <td>0.295055</td>\n",
       "    </tr>\n",
       "    <tr>\n",
       "      <th>19</th>\n",
       "      <td>22.095317</td>\n",
       "      <td>0.279538</td>\n",
       "    </tr>\n",
       "    <tr>\n",
       "      <th>20</th>\n",
       "      <td>23.974727</td>\n",
       "      <td>0.243498</td>\n",
       "    </tr>\n",
       "  </tbody>\n",
       "</table>\n",
       "</div>"
      ],
      "text/plain": [
       "      lb_stat  lb_pvalue\n",
       "1    0.002210   0.962504\n",
       "2    0.032540   0.983861\n",
       "3    0.150790   0.985113\n",
       "4    0.306043   0.989421\n",
       "5    1.560320   0.906006\n",
       "6    3.308712   0.769221\n",
       "7    6.052393   0.533645\n",
       "8    6.495083   0.591953\n",
       "9    8.404116   0.493989\n",
       "10   9.522430   0.483341\n",
       "11  11.320457   0.416820\n",
       "12  12.477760   0.408112\n",
       "13  12.503165   0.486878\n",
       "14  12.528542   0.563935\n",
       "15  12.573158   0.635229\n",
       "16  12.574326   0.703589\n",
       "17  16.044892   0.520655\n",
       "18  20.695455   0.295055\n",
       "19  22.095317   0.279538\n",
       "20  23.974727   0.243498"
      ]
     },
     "execution_count": 12,
     "metadata": {},
     "output_type": "execute_result"
    }
   ],
   "source": [
    "print('Credit Suisse :')\n",
    "acorr_ljungbox(results.resid, lags =20, return_df=True)"
   ]
  },
  {
   "cell_type": "markdown",
   "metadata": {},
   "source": [
    "Now H0 is never rejected, the residuals are not correlated."
   ]
  },
  {
   "cell_type": "code",
   "execution_count": null,
   "metadata": {},
   "outputs": [],
   "source": []
  }
 ],
 "metadata": {
  "kernelspec": {
   "display_name": "Python 3",
   "language": "python",
   "name": "python3"
  },
  "language_info": {
   "codemirror_mode": {
    "name": "ipython",
    "version": 3
   },
   "file_extension": ".py",
   "mimetype": "text/x-python",
   "name": "python",
   "nbconvert_exporter": "python",
   "pygments_lexer": "ipython3",
   "version": "3.7.4"
  }
 },
 "nbformat": 4,
 "nbformat_minor": 4
}
