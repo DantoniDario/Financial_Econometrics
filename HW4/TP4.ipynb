{
 "cells": [
  {
   "cell_type": "code",
   "execution_count": 1,
   "metadata": {},
   "outputs": [],
   "source": [
    "# import packages\n",
    "import pandas as pd\n",
    "import math\n",
    "import numpy as np\n",
    "import statsmodels.api as sm\n",
    "from scipy import stats\n",
    "import statistics\n",
    "import plotly.graph_objects as go\n",
    "from scipy.stats import norm\n",
    "from plotly.subplots import make_subplots\n",
    "from sklearn.neighbors import KernelDensity"
   ]
  },
  {
   "cell_type": "code",
   "execution_count": 2,
   "metadata": {},
   "outputs": [],
   "source": [
    "# Load the market prices\n",
    "S_P100index = pd.read_excel(\"/Users/dantoni/HW4/TP4.xls\", sheet_name = 'S&P100Index', skiprows = 4)\n",
    "S_P100index.columns = ['date','S&P100','S&P500']\n",
    "S_P100index = S_P100index.set_index('date')\n",
    "\n",
    "# Load the stocks prices\n",
    "S_P100const = pd.read_excel(\"/Users/dantoni/HW4/TP4.xls\", sheet_name = 'S&P100Constituents', skiprows = 3)\n",
    "S_P100const = S_P100const.drop([0])\n",
    "S_P100const.rename(columns = {'Name': 'date'}, inplace=True)\n",
    "S_P100const = S_P100const.set_index('date')\n",
    "S_P100const = S_P100const.astype(float)\n",
    "\n",
    "# Load the risk free rates\n",
    "TBill3Months = pd.read_excel(\"/Users/dantoni/HW4/TP4.xls\", sheet_name = 'TBill3Months', skiprows = 4)\n",
    "TBill3Months.columns = ['date','US bill 3m']\n",
    "TBill3Months = TBill3Months.set_index('date')\n",
    "\n",
    "# Load something\n",
    "FamaFrenchPortfolios = pd.read_excel(\"/Users/dantoni/HW4/TP4.xls\", sheet_name = 'FamaFrenchPortfolios', skiprows = 21)\n",
    "FamaFrenchPortfolios.columns = ['date','Small_Low BE/ME', 'Small_Med BE/ME', 'Small_High BE/ME','Big_Low BE/ME', 'Big_Med BE/ME', 'Big_High BE/ME']\n",
    "FamaFrenchPortfolios = FamaFrenchPortfolios.set_index('date')"
   ]
  },
  {
   "cell_type": "code",
   "execution_count": 3,
   "metadata": {},
   "outputs": [
    {
     "data": {
      "text/plain": [
       "array([[192.13, 422.88],\n",
       "       [192.31, 423.61],\n",
       "       [195.36, 429.19],\n",
       "       ...,\n",
       "       [447.88, 882.5 ],\n",
       "       [451.2 , 885.76],\n",
       "       [460.55, 902.65]])"
      ]
     },
     "execution_count": 3,
     "metadata": {},
     "output_type": "execute_result"
    }
   ],
   "source": [
    "S_P100index.iloc[0:-1,0:].values"
   ]
  },
  {
   "cell_type": "code",
   "execution_count": 4,
   "metadata": {},
   "outputs": [],
   "source": [
    "# Compute Arithmetic return for each market\n",
    "AR_100 = pd.DataFrame((S_P100index.iloc[1:,0:].values - S_P100index.iloc[0:-1,0:].values) / S_P100index.iloc[0:-1,0:].values,  columns = ['S&P100','S&P500'])\n",
    "\n",
    "# Compute Arithmetic return for each stocks\n",
    "names_company = S_P100const.columns\n",
    "AR_100_const = pd.DataFrame((S_P100const.iloc[1:,0:].values - S_P100const.iloc[0:-1,0:].values) / S_P100const.iloc[0:-1,0:].values, columns = names_company)\n",
    "\n",
    "# Compute risk free rates (since it's given annualy we have to divide it by 100 and 52 to get weekly's rates)\n",
    "AR_US3M = pd.DataFrame((TBill3Months.iloc[1:,0:].values / (100*52)),  columns = ['US 3 month'])"
   ]
  },
  {
   "cell_type": "markdown",
   "metadata": {},
   "source": [
    "# Test of the CAPM : Time Series approach"
   ]
  },
  {
   "cell_type": "markdown",
   "metadata": {},
   "source": [
    "## Exercice 1"
   ]
  },
  {
   "cell_type": "code",
   "execution_count": 5,
   "metadata": {},
   "outputs": [],
   "source": [
    "# Compute the index of the return of interest\n",
    "index_start = int(np.where(S_P100index.index == '1992-11-12')[0])\n",
    "index_end = int(np.where(S_P100index.index == '2001-08-16')[0] - 1)"
   ]
  },
  {
   "cell_type": "code",
   "execution_count": 6,
   "metadata": {},
   "outputs": [
    {
     "data": {
      "text/html": [
       "<div>\n",
       "<style scoped>\n",
       "    .dataframe tbody tr th:only-of-type {\n",
       "        vertical-align: middle;\n",
       "    }\n",
       "\n",
       "    .dataframe tbody tr th {\n",
       "        vertical-align: top;\n",
       "    }\n",
       "\n",
       "    .dataframe thead th {\n",
       "        text-align: right;\n",
       "    }\n",
       "</style>\n",
       "<table border=\"1\" class=\"dataframe\">\n",
       "  <thead>\n",
       "    <tr style=\"text-align: right;\">\n",
       "      <th></th>\n",
       "      <th>Beta</th>\n",
       "    </tr>\n",
       "  </thead>\n",
       "  <tbody>\n",
       "    <tr>\n",
       "      <th>AES</th>\n",
       "      <td>1.012828</td>\n",
       "    </tr>\n",
       "    <tr>\n",
       "      <th>ALCOA</th>\n",
       "      <td>0.616923</td>\n",
       "    </tr>\n",
       "    <tr>\n",
       "      <th>ALLEGHENY TECHS.</th>\n",
       "      <td>0.702266</td>\n",
       "    </tr>\n",
       "    <tr>\n",
       "      <th>AMER.ELEC.PWR.</th>\n",
       "      <td>0.262885</td>\n",
       "    </tr>\n",
       "    <tr>\n",
       "      <th>AMER.EXPRESS</th>\n",
       "      <td>1.501120</td>\n",
       "    </tr>\n",
       "    <tr>\n",
       "      <th>...</th>\n",
       "      <td>...</td>\n",
       "    </tr>\n",
       "    <tr>\n",
       "      <th>WELLS FARGO &amp; CO</th>\n",
       "      <td>1.124522</td>\n",
       "    </tr>\n",
       "    <tr>\n",
       "      <th>WEYERHAEUSER</th>\n",
       "      <td>0.713086</td>\n",
       "    </tr>\n",
       "    <tr>\n",
       "      <th>WILLIAMS COS.</th>\n",
       "      <td>0.817679</td>\n",
       "    </tr>\n",
       "    <tr>\n",
       "      <th>XEROX</th>\n",
       "      <td>1.349616</td>\n",
       "    </tr>\n",
       "    <tr>\n",
       "      <th>3M CO.</th>\n",
       "      <td>0.562807</td>\n",
       "    </tr>\n",
       "  </tbody>\n",
       "</table>\n",
       "<p>95 rows × 1 columns</p>\n",
       "</div>"
      ],
      "text/plain": [
       "                      Beta\n",
       "AES               1.012828\n",
       "ALCOA             0.616923\n",
       "ALLEGHENY TECHS.  0.702266\n",
       "AMER.ELEC.PWR.    0.262885\n",
       "AMER.EXPRESS      1.501120\n",
       "...                    ...\n",
       "WELLS FARGO & CO  1.124522\n",
       "WEYERHAEUSER      0.713086\n",
       "WILLIAMS COS.     0.817679\n",
       "XEROX             1.349616\n",
       "3M CO.            0.562807\n",
       "\n",
       "[95 rows x 1 columns]"
      ]
     },
     "execution_count": 6,
     "metadata": {},
     "output_type": "execute_result"
    }
   ],
   "source": [
    "# Compute the beta of each stock thanks to the formula cov(ri,rm)/var(rm)\n",
    "beta_stock = np.ones(AR_100_const.shape[1])\n",
    "for i in range(0, AR_100_const.shape[1]):\n",
    "    beta_stock[i] = np.cov(AR_100_const.iloc[index_start:index_end, i].values, AR_100.iloc[index_start:index_end, 1].values)[0, 1] / np.cov(AR_100_const.iloc[index_start:index_end, i].values, AR_100.iloc[index_start:index_end, 1].values)[1, 1]\n",
    "\n",
    "pd.DataFrame(beta_stock, index = names_company, columns = ['Beta'])"
   ]
  },
  {
   "cell_type": "markdown",
   "metadata": {},
   "source": [
    "## Exercice 2"
   ]
  },
  {
   "cell_type": "code",
   "execution_count": null,
   "metadata": {},
   "outputs": [],
   "source": []
  },
  {
   "cell_type": "code",
   "execution_count": 7,
   "metadata": {},
   "outputs": [],
   "source": [
    "# Compute the alphas and betas of each stock thanks to the linear regression\n",
    "nb_asset = len(AR_100_const.columns) # Compute the number of colums to deal with\n",
    "betas = np.zeros(nb_asset) # Initialize an array with nb_asset entries to receive the beta\n",
    "alphas = np.zeros(nb_asset) # Initialize an array with nb_asset entries to receive the alpha\n",
    "std_alpha = np.zeros(nb_asset) # Initialize an array with nb_asset entries to receive the std of alpha\n",
    "\n",
    "for i in range(0, nb_asset):\n",
    "    zi =  AR_100_const.iloc[index_start:index_end, i].values - AR_US3M.iloc[index_start:index_end, 0].values\n",
    "    zm = AR_100.iloc[index_start:index_end, 1].values - AR_US3M.iloc[index_start:index_end, 0].values\n",
    "    X = sm.add_constant(zm)\n",
    "    y = zi\n",
    "    \n",
    "    # Fit regression on the data of interest and save the alpha, beta and std of alpha\n",
    "    reg = sm.OLS(endog = y, exog = X)\n",
    "    results = reg.fit()\n",
    "    betas[i] = results.params[1]\n",
    "    alphas[i] = results.params[0]\n",
    "    std_alpha[i] = results.bse[0]"
   ]
  },
  {
   "cell_type": "code",
   "execution_count": 8,
   "metadata": {},
   "outputs": [
    {
     "data": {
      "text/html": [
       "<div>\n",
       "<style scoped>\n",
       "    .dataframe tbody tr th:only-of-type {\n",
       "        vertical-align: middle;\n",
       "    }\n",
       "\n",
       "    .dataframe tbody tr th {\n",
       "        vertical-align: top;\n",
       "    }\n",
       "\n",
       "    .dataframe thead th {\n",
       "        text-align: right;\n",
       "    }\n",
       "</style>\n",
       "<table border=\"1\" class=\"dataframe\">\n",
       "  <thead>\n",
       "    <tr style=\"text-align: right;\">\n",
       "      <th></th>\n",
       "      <th>beta</th>\n",
       "      <th>alpha</th>\n",
       "      <th>std_alpha</th>\n",
       "      <th>t-value</th>\n",
       "    </tr>\n",
       "  </thead>\n",
       "  <tbody>\n",
       "    <tr>\n",
       "      <th>AES</th>\n",
       "      <td>1.012350</td>\n",
       "      <td>0.004353</td>\n",
       "      <td>0.002591</td>\n",
       "      <td>1.68</td>\n",
       "    </tr>\n",
       "    <tr>\n",
       "      <th>ALCOA</th>\n",
       "      <td>0.616899</td>\n",
       "      <td>0.002267</td>\n",
       "      <td>0.002010</td>\n",
       "      <td>1.13</td>\n",
       "    </tr>\n",
       "    <tr>\n",
       "      <th>ALLEGHENY TECHS.</th>\n",
       "      <td>0.703382</td>\n",
       "      <td>-0.001898</td>\n",
       "      <td>0.002084</td>\n",
       "      <td>0.91</td>\n",
       "    </tr>\n",
       "    <tr>\n",
       "      <th>AMER.ELEC.PWR.</th>\n",
       "      <td>0.262135</td>\n",
       "      <td>-0.000062</td>\n",
       "      <td>0.001372</td>\n",
       "      <td>0.05</td>\n",
       "    </tr>\n",
       "    <tr>\n",
       "      <th>AMER.EXPRESS</th>\n",
       "      <td>1.501551</td>\n",
       "      <td>0.001655</td>\n",
       "      <td>0.001557</td>\n",
       "      <td>1.06</td>\n",
       "    </tr>\n",
       "    <tr>\n",
       "      <th>...</th>\n",
       "      <td>...</td>\n",
       "      <td>...</td>\n",
       "      <td>...</td>\n",
       "      <td>...</td>\n",
       "    </tr>\n",
       "    <tr>\n",
       "      <th>WELLS FARGO &amp; CO</th>\n",
       "      <td>1.124238</td>\n",
       "      <td>0.001355</td>\n",
       "      <td>0.001535</td>\n",
       "      <td>0.88</td>\n",
       "    </tr>\n",
       "    <tr>\n",
       "      <th>WEYERHAEUSER</th>\n",
       "      <td>0.713880</td>\n",
       "      <td>-0.000244</td>\n",
       "      <td>0.001858</td>\n",
       "      <td>0.13</td>\n",
       "    </tr>\n",
       "    <tr>\n",
       "      <th>WILLIAMS COS.</th>\n",
       "      <td>0.817565</td>\n",
       "      <td>0.002626</td>\n",
       "      <td>0.002032</td>\n",
       "      <td>1.29</td>\n",
       "    </tr>\n",
       "    <tr>\n",
       "      <th>XEROX</th>\n",
       "      <td>1.351780</td>\n",
       "      <td>-0.001567</td>\n",
       "      <td>0.002970</td>\n",
       "      <td>0.53</td>\n",
       "    </tr>\n",
       "    <tr>\n",
       "      <th>3M CO.</th>\n",
       "      <td>0.562388</td>\n",
       "      <td>0.000410</td>\n",
       "      <td>0.001404</td>\n",
       "      <td>0.29</td>\n",
       "    </tr>\n",
       "  </tbody>\n",
       "</table>\n",
       "<p>95 rows × 4 columns</p>\n",
       "</div>"
      ],
      "text/plain": [
       "                      beta     alpha  std_alpha  t-value\n",
       "AES               1.012350  0.004353   0.002591     1.68\n",
       "ALCOA             0.616899  0.002267   0.002010     1.13\n",
       "ALLEGHENY TECHS.  0.703382 -0.001898   0.002084     0.91\n",
       "AMER.ELEC.PWR.    0.262135 -0.000062   0.001372     0.05\n",
       "AMER.EXPRESS      1.501551  0.001655   0.001557     1.06\n",
       "...                    ...       ...        ...      ...\n",
       "WELLS FARGO & CO  1.124238  0.001355   0.001535     0.88\n",
       "WEYERHAEUSER      0.713880 -0.000244   0.001858     0.13\n",
       "WILLIAMS COS.     0.817565  0.002626   0.002032     1.29\n",
       "XEROX             1.351780 -0.001567   0.002970     0.53\n",
       "3M CO.            0.562388  0.000410   0.001404     0.29\n",
       "\n",
       "[95 rows x 4 columns]"
      ]
     },
     "execution_count": 8,
     "metadata": {},
     "output_type": "execute_result"
    }
   ],
   "source": [
    "# Compute the t-value of the alpha --> alpha/std_alpha (if absolut value < 1.96 --> can not reject H0 (alpha = 0))\n",
    "pd.DataFrame(np.transpose(np.array([betas, alphas, std_alpha, np.around(abs(alphas/std_alpha), decimals=2)])), index = names_company, columns = ['beta', 'alpha', 'std_alpha', 't-value'])"
   ]
  },
  {
   "cell_type": "code",
   "execution_count": 9,
   "metadata": {},
   "outputs": [
    {
     "data": {
      "text/plain": [
       "90"
      ]
     },
     "execution_count": 9,
     "metadata": {},
     "output_type": "execute_result"
    }
   ],
   "source": [
    "# Compute the number of stocks (over 95 = nb_asset) with alpha = 0 (statistically speaking)\n",
    "np.sum(abs(alphas/std_alpha) < 1.96)"
   ]
  },
  {
   "cell_type": "code",
   "execution_count": 10,
   "metadata": {},
   "outputs": [],
   "source": [
    "# Fit regression on the remaining data and save the r-squared of each stocks\n",
    "index_start2 = int(np.where(S_P100index.index == '2001-08-16')[0] - 1)\n",
    "r2 = np.zeros(nb_asset)\n",
    "\n",
    "for i in range(0, nb_asset):\n",
    "    zi =  AR_100_const.iloc[index_start2:, i].values - AR_US3M.iloc[index_start2:, 0].values\n",
    "    zm = AR_100.iloc[index_start2:, 1].values - AR_US3M.iloc[index_start2:, 0].values\n",
    "    X = sm.add_constant(zm)\n",
    "    y = zi\n",
    "    \n",
    "    reg = sm.OLS(endog = y, exog = X, missing='drop')\n",
    "    results = reg.fit()\n",
    "    r2[i] = results.rsquared"
   ]
  },
  {
   "cell_type": "code",
   "execution_count": 11,
   "metadata": {},
   "outputs": [
    {
     "data": {
      "text/html": [
       "<div>\n",
       "<style scoped>\n",
       "    .dataframe tbody tr th:only-of-type {\n",
       "        vertical-align: middle;\n",
       "    }\n",
       "\n",
       "    .dataframe tbody tr th {\n",
       "        vertical-align: top;\n",
       "    }\n",
       "\n",
       "    .dataframe thead th {\n",
       "        text-align: right;\n",
       "    }\n",
       "</style>\n",
       "<table border=\"1\" class=\"dataframe\">\n",
       "  <thead>\n",
       "    <tr style=\"text-align: right;\">\n",
       "      <th></th>\n",
       "      <th>R-squared</th>\n",
       "    </tr>\n",
       "  </thead>\n",
       "  <tbody>\n",
       "    <tr>\n",
       "      <th>AES</th>\n",
       "      <td>0.19</td>\n",
       "    </tr>\n",
       "    <tr>\n",
       "      <th>ALCOA</th>\n",
       "      <td>0.64</td>\n",
       "    </tr>\n",
       "    <tr>\n",
       "      <th>ALLEGHENY TECHS.</th>\n",
       "      <td>0.39</td>\n",
       "    </tr>\n",
       "    <tr>\n",
       "      <th>AMER.ELEC.PWR.</th>\n",
       "      <td>0.05</td>\n",
       "    </tr>\n",
       "    <tr>\n",
       "      <th>AMER.EXPRESS</th>\n",
       "      <td>0.73</td>\n",
       "    </tr>\n",
       "    <tr>\n",
       "      <th>...</th>\n",
       "      <td>...</td>\n",
       "    </tr>\n",
       "    <tr>\n",
       "      <th>WELLS FARGO &amp; CO</th>\n",
       "      <td>0.39</td>\n",
       "    </tr>\n",
       "    <tr>\n",
       "      <th>WEYERHAEUSER</th>\n",
       "      <td>0.53</td>\n",
       "    </tr>\n",
       "    <tr>\n",
       "      <th>WILLIAMS COS.</th>\n",
       "      <td>0.15</td>\n",
       "    </tr>\n",
       "    <tr>\n",
       "      <th>XEROX</th>\n",
       "      <td>0.29</td>\n",
       "    </tr>\n",
       "    <tr>\n",
       "      <th>3M CO.</th>\n",
       "      <td>0.45</td>\n",
       "    </tr>\n",
       "  </tbody>\n",
       "</table>\n",
       "<p>95 rows × 1 columns</p>\n",
       "</div>"
      ],
      "text/plain": [
       "                  R-squared\n",
       "AES                    0.19\n",
       "ALCOA                  0.64\n",
       "ALLEGHENY TECHS.       0.39\n",
       "AMER.ELEC.PWR.         0.05\n",
       "AMER.EXPRESS           0.73\n",
       "...                     ...\n",
       "WELLS FARGO & CO       0.39\n",
       "WEYERHAEUSER           0.53\n",
       "WILLIAMS COS.          0.15\n",
       "XEROX                  0.29\n",
       "3M CO.                 0.45\n",
       "\n",
       "[95 rows x 1 columns]"
      ]
     },
     "execution_count": 11,
     "metadata": {},
     "output_type": "execute_result"
    }
   ],
   "source": [
    "# Compute the r-squared for each stocks\n",
    "pd.DataFrame(np.around(r2, decimals=2), index = names_company, columns = ['R-squared']) "
   ]
  },
  {
   "cell_type": "code",
   "execution_count": 12,
   "metadata": {},
   "outputs": [
    {
     "data": {
      "text/plain": [
       "0.32789473684210524"
      ]
     },
     "execution_count": 12,
     "metadata": {},
     "output_type": "execute_result"
    }
   ],
   "source": [
    "# Compute the average r-squared of each stocks\n",
    "statistics.mean(np.around(r2, decimals=2))"
   ]
  },
  {
   "cell_type": "code",
   "execution_count": null,
   "metadata": {},
   "outputs": [],
   "source": []
  }
 ],
 "metadata": {
  "kernelspec": {
   "display_name": "Python 3",
   "language": "python",
   "name": "python3"
  },
  "language_info": {
   "codemirror_mode": {
    "name": "ipython",
    "version": 3
   },
   "file_extension": ".py",
   "mimetype": "text/x-python",
   "name": "python",
   "nbconvert_exporter": "python",
   "pygments_lexer": "ipython3",
   "version": "3.7.4"
  }
 },
 "nbformat": 4,
 "nbformat_minor": 4
}
