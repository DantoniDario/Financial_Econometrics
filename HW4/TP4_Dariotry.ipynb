{
 "cells": [
  {
   "cell_type": "code",
   "execution_count": 213,
   "metadata": {},
   "outputs": [],
   "source": [
    "# import packages\n",
    "import pandas as pd\n",
    "import math\n",
    "import numpy as np\n",
    "import statsmodels.api as sm\n",
    "from scipy import stats\n",
    "import statistics\n",
    "import plotly.graph_objects as go\n",
    "from scipy.stats import norm\n",
    "from plotly.subplots import make_subplots\n",
    "from sklearn.neighbors import KernelDensity"
   ]
  },
  {
   "cell_type": "code",
   "execution_count": 214,
   "metadata": {},
   "outputs": [],
   "source": [
    "# Load the market prices\n",
    "S_P100index = pd.read_excel(\"/files/exercises/Homeworks/HW4/TP4.xls\", sheet_name = 'S&P100Index', skiprows = 4)\n",
    "S_P100index.columns = ['date','S&P100','S&P500']\n",
    "S_P100index = S_P100index.set_index('date')\n",
    "\n",
    "# Load the stocks prices\n",
    "S_P100const = pd.read_excel(\"/files/exercises/Homeworks/HW4/TP4.xls\", sheet_name = 'S&P100Constituents', skiprows = 4)\n",
    "S_P100const.rename(columns = {'Code': 'date'}, inplace=True)\n",
    "S_P100const = S_P100const.set_index('date')\n",
    "\n",
    "# Load the risk free rates\n",
    "TBill3Months = pd.read_excel(\"/files/exercises/Homeworks/HW4/TP4.xls\", sheet_name = 'TBill3Months', skiprows = 4)\n",
    "TBill3Months.columns = ['date','US bill 3m']\n",
    "TBill3Months = TBill3Months.set_index('date')\n",
    "\n",
    "# Load something\n",
    "FamaFrenchPortfolios = pd.read_excel(\"/files/exercises/Homeworks/HW4/TP4.xls\", sheet_name = 'FamaFrenchPortfolios', skiprows = 21)\n",
    "FamaFrenchPortfolios.columns = ['date','Small_Low BE/ME', 'Small_Med BE/ME', 'Small_High BE/ME','Big_Low BE/ME', 'Big_Med BE/ME', 'Big_High BE/ME']\n",
    "FamaFrenchPortfolios = FamaFrenchPortfolios.set_index('date')\n"
   ]
  },
  {
   "cell_type": "code",
   "execution_count": 215,
   "metadata": {},
   "outputs": [],
   "source": [
    "# Compute Arithmetic return for each market\n",
    "AR_100 = pd.DataFrame((S_P100index.iloc[1:,0:].values - S_P100index.iloc[0:-1,0:].values) / S_P100index.iloc[0:-1,0:].values,  columns = ['S&P100','S&P500'])\n",
    "\n",
    "# Compute Arithmetic return for each stocks\n",
    "AR_100_const = pd.DataFrame((S_P100const.iloc[1:,0:].values - S_P100const.iloc[0:-1,0:].values) / S_P100const.iloc[0:-1,0:].values)\n",
    "\n",
    "# Compute risk free rates (since it's given annualy we have to divide it by 100 and 52 to get weekly's rates)\n",
    "AR_US3M = pd.DataFrame((TBill3Months.iloc[1:,0:].values / (100*52)),  columns = ['US 3 month'])"
   ]
  },
  {
   "cell_type": "markdown",
   "metadata": {},
   "source": [
    "# Test of the CAPM : Time Series approach"
   ]
  },
  {
   "cell_type": "markdown",
   "metadata": {},
   "source": [
    "## Exercice 1"
   ]
  },
  {
   "cell_type": "code",
   "execution_count": 217,
   "metadata": {},
   "outputs": [],
   "source": [
    "# Compute the index of the return of interest\n",
    "index_start = int(np.where(S_P100index.index == '1992-11-12')[0])\n",
    "index_end = int(np.where(S_P100index.index == '2001-08-16')[0] - 1)"
   ]
  },
  {
   "cell_type": "code",
   "execution_count": 218,
   "metadata": {},
   "outputs": [
    {
     "data": {
      "text/plain": [
       "array([1.01282832, 0.61692253, 0.70226629, 0.26288461, 1.5011201 ,\n",
       "       1.19411279, 1.00994052, 0.42818723, 1.88042108, 0.90722787,\n",
       "       0.65578464, 0.62306518, 1.21958741, 1.21072348, 0.69737981,\n",
       "       0.98908595, 0.6996654 , 0.91723577, 0.63606875, 0.66963788,\n",
       "       0.46620781, 0.75001695, 1.72275657, 1.8230663 , 1.1711563 ,\n",
       "       0.74115045, 0.85334759, 1.13587674, 1.01787899, 0.60729716,\n",
       "       0.77763267, 0.59554323, 0.50778921, 1.79608723, 0.1663694 ,\n",
       "       0.19964571, 0.41426921, 1.1507459 , 0.82336302, 0.51092668,\n",
       "       1.25650684, 0.90455161, 0.66070636, 0.84820587, 1.04090396,\n",
       "       0.80745166, 0.37216813, 1.34582361, 1.39519633, 1.09302929,\n",
       "       1.30353747, 0.99158549, 0.63436943, 1.52609012, 0.67611415,\n",
       "       0.86039635, 0.91612017, 0.68343044, 1.16773832, 1.11395686,\n",
       "       0.72394591, 1.88697348, 1.21178647, 1.32617352, 1.97903644,\n",
       "       0.71619639, 1.57308012, 0.56170473, 0.88381527, 0.74861533,\n",
       "       0.50041142, 0.49944865, 1.408097  , 0.5003508 , 0.85799474,\n",
       "       0.45960206, 0.70371993, 0.72849671, 0.97625382, 0.13464863,\n",
       "       1.61016308, 0.94103735, 1.04962412, 0.93793044, 1.04524552,\n",
       "       1.01432606, 0.74255815, 1.39326453, 1.08870076, 0.89761322,\n",
       "       1.1245221 , 0.71308629, 0.81767886, 1.34961641, 0.56280739])"
      ]
     },
     "execution_count": 218,
     "metadata": {},
     "output_type": "execute_result"
    }
   ],
   "source": [
    "# Compute the beta of each stock thanks to the formula cov(ri,rm)/var(rm)\n",
    "beta_stock = np.ones(AR_100_const.shape[1])\n",
    "for i in range(0, AR_100_const.shape[1]):\n",
    "    beta_stock[i] = np.cov(AR_100_const.iloc[index_start:index_end, i].values, AR_100.iloc[index_start:index_end, 1].values)[0, 1] / np.cov(AR_100_const.iloc[index_start:index_end, i].values, AR_100.iloc[index_start:index_end, 1].values)[1, 1]\n",
    "beta_stock"
   ]
  },
  {
   "cell_type": "markdown",
   "metadata": {},
   "source": [
    "## Exercice 2"
   ]
  },
  {
   "cell_type": "code",
   "execution_count": 207,
   "metadata": {},
   "outputs": [],
   "source": [
    "# Compute the alphas and betas of each stock thanks to the linear regression\n",
    "nb_asset = len(AR_100_const.columns) # Compute the number of colums to deal with\n",
    "betas = np.zeros(nb_asset) # Initialize an array with nb_asset entries to receive the beta\n",
    "alphas = np.zeros(nb_asset) # Initialize an array with nb_asset entries to receive the alpha\n",
    "std_alpha = np.zeros(nb_asset) # Initialize an array with nb_asset entries to receive the std of alpha\n",
    "\n",
    "for i in range(0, nb_asset):\n",
    "    zi =  AR_100_const.iloc[index_start:index_end, i].values - AR_US3M.iloc[index_start:index_end, 0].values\n",
    "    zm = AR_100.iloc[index_start:index_end, 1].values - AR_US3M.iloc[index_start:index_end, 0].values\n",
    "    X = sm.add_constant(zm)\n",
    "    y = zi\n",
    "    \n",
    "    # Fit regression on the data of interest and save the alpha, beta and std of alpha\n",
    "    reg = sm.OLS(endog = y, exog = X, missing='drop')\n",
    "    results = reg.fit()\n",
    "    betas[i] = results.params[1]\n",
    "    alphas[i] = results.params[0]\n",
    "    std_alpha[i] = results.bse[0]"
   ]
  },
  {
   "cell_type": "code",
   "execution_count": 208,
   "metadata": {},
   "outputs": [
    {
     "data": {
      "text/plain": [
       "array([1.68, 1.13, 0.91, 0.05, 1.06, 1.52, 1.34, 0.94, 3.29, 0.38, 0.78,\n",
       "       0.29, 0.14, 0.66, 0.89, 0.17, 0.77, 0.05, 0.94, 0.18, 0.3 , 1.29,\n",
       "       1.95, 1.94, 2.88, 0.23, 0.82, 0.54, 0.36, 0.21, 0.06, 0.14, 0.89,\n",
       "       2.14, 0.12, 0.62, 0.86, 0.55, 0.76, 0.98, 1.73, 0.35, 0.06, 0.42,\n",
       "       0.58, 0.92, 0.07, 0.8 , 0.87, 0.3 , 1.86, 1.4 , 0.26, 0.34, 1.23,\n",
       "       0.02, 0.36, 0.39, 1.57, 1.4 , 0.65, 1.07, 1.85, 0.73, 0.32, 0.67,\n",
       "       2.13, 0.52, 1.51, 1.04, 0.25, 0.67, 0.69, 0.13, 0.36, 0.22, 0.54,\n",
       "       0.13, 0.39, 0.72, 1.48, 0.96, 2.09, 1.45, 0.2 , 1.58, 0.32, 0.31,\n",
       "       0.63, 0.02, 0.88, 0.13, 1.29, 0.53, 0.29])"
      ]
     },
     "execution_count": 208,
     "metadata": {},
     "output_type": "execute_result"
    }
   ],
   "source": [
    "# Compute the t-value of the alpha (if absolut value < 1.96 --> can not reject H0 (alpha = 0))\n",
    "np.around(abs(alphas/std_alpha), decimals=2)"
   ]
  },
  {
   "cell_type": "code",
   "execution_count": 209,
   "metadata": {},
   "outputs": [
    {
     "data": {
      "text/plain": [
       "90"
      ]
     },
     "execution_count": 209,
     "metadata": {},
     "output_type": "execute_result"
    }
   ],
   "source": [
    "# Compute the number of stock (over 95 = nb_asset) with alpha = 0 (statistically speaking)\n",
    "np.sum(abs(alphas/std_alpha) < 1.96)"
   ]
  },
  {
   "cell_type": "code",
   "execution_count": 210,
   "metadata": {},
   "outputs": [],
   "source": [
    "# Fit regression on the remaining data and save the r-squared of each stocks\n",
    "index_start2 = int(np.where(S_P100index.index == '2001-08-16')[0] - 1)\n",
    "r2 = np.zeros(nb_asset)\n",
    "\n",
    "for i in range(0, nb_asset):\n",
    "    zi =  AR_100_const.iloc[index_start2:, i].values - AR_US3M.iloc[index_start2:, 0].values\n",
    "    zm = AR_100.iloc[index_start2:, 1].values - AR_US3M.iloc[index_start2:, 0].values\n",
    "    X = sm.add_constant(zm)\n",
    "    y = zi\n",
    "    \n",
    "    reg = sm.OLS(endog = y, exog = X, missing='drop')\n",
    "    results = reg.fit()\n",
    "    r2[i] = results.rsquared"
   ]
  },
  {
   "cell_type": "code",
   "execution_count": 211,
   "metadata": {},
   "outputs": [
    {
     "data": {
      "text/plain": [
       "array([0.19, 0.64, 0.39, 0.05, 0.73, 0.57, 0.09, 0.06, 0.48, 0.32, 0.04,\n",
       "       0.29, 0.53, 0.67, 0.02, 0.31, 0.22, 0.55, 0.35, 0.46, 0.07, 0.12,\n",
       "       0.36, 0.75, 0.42, 0.01, 0.03, 0.3 , 0.56, 0.31, 0.41, 0.35, 0.32,\n",
       "       0.3 , 0.1 , 0.07, 0.49, 0.36, 0.43, 0.02, 0.59, 0.55, 0.09, 0.22,\n",
       "       0.34, 0.02, 0.04, 0.39, 0.42, 0.44, 0.4 , 0.42, 0.55, 0.62, 0.25,\n",
       "       0.35, 0.42, 0.36, 0.36, 0.28, 0.36, 0.71, 0.58, 0.51, 0.07, 0.43,\n",
       "       0.28, 0.12, 0.35, 0.14, 0.09, 0.02, 0.28, 0.  , 0.49, 0.16, 0.21,\n",
       "       0.32, 0.1 , 0.  , 0.51, 0.45, 0.31, 0.45, 0.52, 0.45, 0.22, 0.57,\n",
       "       0.36, 0.43, 0.39, 0.53, 0.15, 0.29, 0.45])"
      ]
     },
     "execution_count": 211,
     "metadata": {},
     "output_type": "execute_result"
    }
   ],
   "source": [
    "# Compute the r-squared for each stocks\n",
    "np.around(r2, decimals=2)"
   ]
  },
  {
   "cell_type": "code",
   "execution_count": 212,
   "metadata": {},
   "outputs": [
    {
     "data": {
      "text/plain": [
       "0.32789473684210524"
      ]
     },
     "execution_count": 212,
     "metadata": {},
     "output_type": "execute_result"
    }
   ],
   "source": [
    "# Compute the average r-squared of each stocks\n",
    "statistics.mean(np.around(r2, decimals=2))"
   ]
  },
  {
   "cell_type": "code",
   "execution_count": null,
   "metadata": {},
   "outputs": [],
   "source": []
  },
  {
   "cell_type": "code",
   "execution_count": null,
   "metadata": {},
   "outputs": [],
   "source": []
  }
 ],
 "metadata": {
  "kernelspec": {
   "display_name": "Python 3.8",
   "language": "python",
   "name": "datahub"
  },
  "language_info": {
   "codemirror_mode": {
    "name": "ipython",
    "version": 3
   },
   "file_extension": ".py",
   "mimetype": "text/x-python",
   "name": "python",
   "nbconvert_exporter": "python",
   "pygments_lexer": "ipython3",
   "version": "3.8.3"
  }
 },
 "nbformat": 4,
 "nbformat_minor": 4
}
