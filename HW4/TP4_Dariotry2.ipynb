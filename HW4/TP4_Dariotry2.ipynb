{
 "cells": [
  {
   "cell_type": "code",
   "execution_count": 1,
   "metadata": {},
   "outputs": [],
   "source": [
    "# import packages\n",
    "import pandas as pd\n",
    "import math\n",
    "import numpy as np\n",
    "import statsmodels.api as sm\n",
    "from scipy import stats\n",
    "import statistics\n",
    "import plotly.graph_objects as go\n",
    "from scipy.stats import norm\n",
    "from plotly.subplots import make_subplots\n",
    "from sklearn.neighbors import KernelDensity"
   ]
  },
  {
   "cell_type": "code",
   "execution_count": 2,
   "metadata": {},
   "outputs": [],
   "source": [
    "# Load the market prices\n",
    "S_P100index = pd.read_excel(\"/files/exercises/Homeworks/HW4/TP4.xls\", sheet_name = 'S&P100Index', skiprows = 4)\n",
    "S_P100index.columns = ['date','S&P100','S&P500']\n",
    "S_P100index = S_P100index.set_index('date')\n",
    "\n",
    "# Load the stocks prices\n",
    "S_P100const = pd.read_excel(\"/files/exercises/Homeworks/HW4/TP4.xls\", sheet_name = 'S&P100Constituents', skiprows = 3)\n",
    "S_P100const = S_P100const.drop([0])\n",
    "S_P100const.rename(columns = {'Name': 'date'}, inplace=True)\n",
    "S_P100const = S_P100const.set_index('date')\n",
    "S_P100const = S_P100const.astype(float)\n",
    "\n",
    "# Load the risk free rates\n",
    "TBill3Months = pd.read_excel(\"/files/exercises/Homeworks/HW4/TP4.xls\", sheet_name = 'TBill3Months', skiprows = 4)\n",
    "TBill3Months.columns = ['date','US bill 3m']\n",
    "TBill3Months = TBill3Months.set_index('date')\n",
    "\n",
    "# Load something\n",
    "FamaFrenchPortfolios = pd.read_excel(\"/files/exercises/Homeworks/HW4/TP4.xls\", sheet_name = 'FamaFrenchPortfolios', skiprows = 21)\n",
    "FamaFrenchPortfolios.columns = ['date','Small_Low BE/ME', 'Small_Med BE/ME', 'Small_High BE/ME','Big_Low BE/ME', 'Big_Med BE/ME', 'Big_High BE/ME']\n",
    "FamaFrenchPortfolios = FamaFrenchPortfolios.set_index('date')"
   ]
  },
  {
   "cell_type": "code",
   "execution_count": 3,
   "metadata": {},
   "outputs": [],
   "source": [
    "# Compute Arithmetic return for each market\n",
    "AR_100 = pd.DataFrame((S_P100index.iloc[1:,0:].values - S_P100index.iloc[0:-1,0:].values) / S_P100index.iloc[0:-1,0:].values,  columns = ['S&P100','S&P500'])\n",
    "\n",
    "# Compute Arithmetic return for each stocks\n",
    "names_company = S_P100const.columns\n",
    "AR_100_const = pd.DataFrame((S_P100const.iloc[1:,0:].values - S_P100const.iloc[0:-1,0:].values) / S_P100const.iloc[0:-1,0:].values, columns = names_company)\n",
    "\n",
    "# Compute risk free rates (since it's given annualy we have to divide it by 100 and 52 to get weekly's rates)\n",
    "AR_US3M = pd.DataFrame((TBill3Months.iloc[1:,0:].values / (100*52)),  columns = ['US 3 month'])"
   ]
  },
  {
   "cell_type": "markdown",
   "metadata": {},
   "source": [
    "# Test of the CAPM : Time Series approach"
   ]
  },
  {
   "cell_type": "markdown",
   "metadata": {},
   "source": [
    "## Exercice 1"
   ]
  },
  {
   "cell_type": "code",
   "execution_count": 4,
   "metadata": {},
   "outputs": [],
   "source": [
    "# Compute the index of the return of interest\n",
    "index_start = int(np.where(S_P100index.index == '1992-11-12')[0])\n",
    "index_end = int(np.where(S_P100index.index == '2001-08-16')[0] - 1)"
   ]
  },
  {
   "cell_type": "code",
   "execution_count": 5,
   "metadata": {},
   "outputs": [
    {
     "data": {
      "text/html": [
       "<div>\n",
       "<style scoped>\n",
       "    .dataframe tbody tr th:only-of-type {\n",
       "        vertical-align: middle;\n",
       "    }\n",
       "\n",
       "    .dataframe tbody tr th {\n",
       "        vertical-align: top;\n",
       "    }\n",
       "\n",
       "    .dataframe thead th {\n",
       "        text-align: right;\n",
       "    }\n",
       "</style>\n",
       "<table border=\"1\" class=\"dataframe\">\n",
       "  <thead>\n",
       "    <tr style=\"text-align: right;\">\n",
       "      <th></th>\n",
       "      <th>Beta</th>\n",
       "    </tr>\n",
       "  </thead>\n",
       "  <tbody>\n",
       "    <tr>\n",
       "      <th>AES</th>\n",
       "      <td>1.012828</td>\n",
       "    </tr>\n",
       "    <tr>\n",
       "      <th>ALCOA</th>\n",
       "      <td>0.616923</td>\n",
       "    </tr>\n",
       "    <tr>\n",
       "      <th>ALLEGHENY TECHS.</th>\n",
       "      <td>0.702266</td>\n",
       "    </tr>\n",
       "    <tr>\n",
       "      <th>AMER.ELEC.PWR.</th>\n",
       "      <td>0.262885</td>\n",
       "    </tr>\n",
       "    <tr>\n",
       "      <th>AMER.EXPRESS</th>\n",
       "      <td>1.501120</td>\n",
       "    </tr>\n",
       "    <tr>\n",
       "      <th>...</th>\n",
       "      <td>...</td>\n",
       "    </tr>\n",
       "    <tr>\n",
       "      <th>WELLS FARGO &amp; CO</th>\n",
       "      <td>1.124522</td>\n",
       "    </tr>\n",
       "    <tr>\n",
       "      <th>WEYERHAEUSER</th>\n",
       "      <td>0.713086</td>\n",
       "    </tr>\n",
       "    <tr>\n",
       "      <th>WILLIAMS COS.</th>\n",
       "      <td>0.817679</td>\n",
       "    </tr>\n",
       "    <tr>\n",
       "      <th>XEROX</th>\n",
       "      <td>1.349616</td>\n",
       "    </tr>\n",
       "    <tr>\n",
       "      <th>3M CO.</th>\n",
       "      <td>0.562807</td>\n",
       "    </tr>\n",
       "  </tbody>\n",
       "</table>\n",
       "<p>95 rows × 1 columns</p>\n",
       "</div>"
      ],
      "text/plain": [
       "                      Beta\n",
       "AES               1.012828\n",
       "ALCOA             0.616923\n",
       "ALLEGHENY TECHS.  0.702266\n",
       "AMER.ELEC.PWR.    0.262885\n",
       "AMER.EXPRESS      1.501120\n",
       "...                    ...\n",
       "WELLS FARGO & CO  1.124522\n",
       "WEYERHAEUSER      0.713086\n",
       "WILLIAMS COS.     0.817679\n",
       "XEROX             1.349616\n",
       "3M CO.            0.562807\n",
       "\n",
       "[95 rows x 1 columns]"
      ]
     },
     "execution_count": 5,
     "metadata": {},
     "output_type": "execute_result"
    }
   ],
   "source": [
    "# Compute the beta of each stock thanks to the formula cov(ri,rm)/var(rm)\n",
    "beta_stock = np.ones(AR_100_const.shape[1])\n",
    "for i in range(0, AR_100_const.shape[1]):\n",
    "    beta_stock[i] = np.cov(AR_100_const.iloc[index_start:index_end, i].values, AR_100.iloc[index_start:index_end, 1].values)[0, 1] / np.cov(AR_100_const.iloc[index_start:index_end, i].values, AR_100.iloc[index_start:index_end, 1].values)[1, 1]\n",
    "\n",
    "pd.DataFrame(beta_stock, index = names_company, columns = ['Beta'])"
   ]
  },
  {
   "cell_type": "markdown",
   "metadata": {},
   "source": [
    "## Exercice 2"
   ]
  },
  {
   "cell_type": "code",
   "execution_count": 6,
   "metadata": {},
   "outputs": [],
   "source": [
    "# Compute the alphas and betas of each stock thanks to the linear regression\n",
    "nb_asset = len(AR_100_const.columns) # Compute the number of colums to deal with\n",
    "betas = np.zeros(nb_asset) # Initialize an array with nb_asset entries to receive the beta\n",
    "alphas = np.zeros(nb_asset) # Initialize an array with nb_asset entries to receive the alpha\n",
    "std_alpha = np.zeros(nb_asset) # Initialize an array with nb_asset entries to receive the std of alpha\n",
    "\n",
    "for i in range(0, nb_asset):\n",
    "    zi =  AR_100_const.iloc[index_start:index_end, i].values - AR_US3M.iloc[index_start:index_end, 0].values\n",
    "    zm = AR_100.iloc[index_start:index_end, 1].values - AR_US3M.iloc[index_start:index_end, 0].values\n",
    "    X = sm.add_constant(zm)\n",
    "    y = zi\n",
    "    \n",
    "    # Fit regression on the data of interest and save the alpha, beta and std of alpha\n",
    "    reg = sm.OLS(endog = y, exog = X)\n",
    "    results = reg.fit()\n",
    "    betas[i] = results.params[1]\n",
    "    alphas[i] = results.params[0]\n",
    "    std_alpha[i] = results.bse[0]"
   ]
  },
  {
   "cell_type": "code",
   "execution_count": 7,
   "metadata": {},
   "outputs": [
    {
     "data": {
      "text/html": [
       "<div>\n",
       "<style scoped>\n",
       "    .dataframe tbody tr th:only-of-type {\n",
       "        vertical-align: middle;\n",
       "    }\n",
       "\n",
       "    .dataframe tbody tr th {\n",
       "        vertical-align: top;\n",
       "    }\n",
       "\n",
       "    .dataframe thead th {\n",
       "        text-align: right;\n",
       "    }\n",
       "</style>\n",
       "<table border=\"1\" class=\"dataframe\">\n",
       "  <thead>\n",
       "    <tr style=\"text-align: right;\">\n",
       "      <th></th>\n",
       "      <th>beta</th>\n",
       "      <th>alpha</th>\n",
       "      <th>std_alpha</th>\n",
       "      <th>t-value</th>\n",
       "    </tr>\n",
       "  </thead>\n",
       "  <tbody>\n",
       "    <tr>\n",
       "      <th>AES</th>\n",
       "      <td>1.012350</td>\n",
       "      <td>0.004353</td>\n",
       "      <td>0.002591</td>\n",
       "      <td>1.68</td>\n",
       "    </tr>\n",
       "    <tr>\n",
       "      <th>ALCOA</th>\n",
       "      <td>0.616899</td>\n",
       "      <td>0.002267</td>\n",
       "      <td>0.002010</td>\n",
       "      <td>1.13</td>\n",
       "    </tr>\n",
       "    <tr>\n",
       "      <th>ALLEGHENY TECHS.</th>\n",
       "      <td>0.703382</td>\n",
       "      <td>-0.001898</td>\n",
       "      <td>0.002084</td>\n",
       "      <td>0.91</td>\n",
       "    </tr>\n",
       "    <tr>\n",
       "      <th>AMER.ELEC.PWR.</th>\n",
       "      <td>0.262135</td>\n",
       "      <td>-0.000062</td>\n",
       "      <td>0.001372</td>\n",
       "      <td>0.05</td>\n",
       "    </tr>\n",
       "    <tr>\n",
       "      <th>AMER.EXPRESS</th>\n",
       "      <td>1.501551</td>\n",
       "      <td>0.001655</td>\n",
       "      <td>0.001557</td>\n",
       "      <td>1.06</td>\n",
       "    </tr>\n",
       "    <tr>\n",
       "      <th>...</th>\n",
       "      <td>...</td>\n",
       "      <td>...</td>\n",
       "      <td>...</td>\n",
       "      <td>...</td>\n",
       "    </tr>\n",
       "    <tr>\n",
       "      <th>WELLS FARGO &amp; CO</th>\n",
       "      <td>1.124238</td>\n",
       "      <td>0.001355</td>\n",
       "      <td>0.001535</td>\n",
       "      <td>0.88</td>\n",
       "    </tr>\n",
       "    <tr>\n",
       "      <th>WEYERHAEUSER</th>\n",
       "      <td>0.713880</td>\n",
       "      <td>-0.000244</td>\n",
       "      <td>0.001858</td>\n",
       "      <td>0.13</td>\n",
       "    </tr>\n",
       "    <tr>\n",
       "      <th>WILLIAMS COS.</th>\n",
       "      <td>0.817565</td>\n",
       "      <td>0.002626</td>\n",
       "      <td>0.002032</td>\n",
       "      <td>1.29</td>\n",
       "    </tr>\n",
       "    <tr>\n",
       "      <th>XEROX</th>\n",
       "      <td>1.351780</td>\n",
       "      <td>-0.001567</td>\n",
       "      <td>0.002970</td>\n",
       "      <td>0.53</td>\n",
       "    </tr>\n",
       "    <tr>\n",
       "      <th>3M CO.</th>\n",
       "      <td>0.562388</td>\n",
       "      <td>0.000410</td>\n",
       "      <td>0.001404</td>\n",
       "      <td>0.29</td>\n",
       "    </tr>\n",
       "  </tbody>\n",
       "</table>\n",
       "<p>95 rows × 4 columns</p>\n",
       "</div>"
      ],
      "text/plain": [
       "                      beta     alpha  std_alpha  t-value\n",
       "AES               1.012350  0.004353   0.002591     1.68\n",
       "ALCOA             0.616899  0.002267   0.002010     1.13\n",
       "ALLEGHENY TECHS.  0.703382 -0.001898   0.002084     0.91\n",
       "AMER.ELEC.PWR.    0.262135 -0.000062   0.001372     0.05\n",
       "AMER.EXPRESS      1.501551  0.001655   0.001557     1.06\n",
       "...                    ...       ...        ...      ...\n",
       "WELLS FARGO & CO  1.124238  0.001355   0.001535     0.88\n",
       "WEYERHAEUSER      0.713880 -0.000244   0.001858     0.13\n",
       "WILLIAMS COS.     0.817565  0.002626   0.002032     1.29\n",
       "XEROX             1.351780 -0.001567   0.002970     0.53\n",
       "3M CO.            0.562388  0.000410   0.001404     0.29\n",
       "\n",
       "[95 rows x 4 columns]"
      ]
     },
     "execution_count": 7,
     "metadata": {},
     "output_type": "execute_result"
    }
   ],
   "source": [
    "# Compute the t-value of the alpha --> alpha/std_alpha (if absolut value < 1.96 --> can not reject H0 (alpha = 0))\n",
    "pd.DataFrame(np.transpose(np.array([betas, alphas, std_alpha, np.around(abs(alphas/std_alpha), decimals=2)])), index = names_company, columns = ['beta', 'alpha', 'std_alpha', 't-value'])"
   ]
  },
  {
   "cell_type": "code",
   "execution_count": 8,
   "metadata": {},
   "outputs": [
    {
     "data": {
      "text/plain": [
       "90"
      ]
     },
     "execution_count": 8,
     "metadata": {},
     "output_type": "execute_result"
    }
   ],
   "source": [
    "# Compute the number of stocks (over 95 = nb_asset) with alpha = 0 (statistically speaking)\n",
    "np.sum(abs(alphas/std_alpha) < 1.96)"
   ]
  },
  {
   "cell_type": "code",
   "execution_count": 9,
   "metadata": {},
   "outputs": [],
   "source": [
    "# Fit regression on the remaining data and save the r-squared of each stocks\n",
    "index_start2 = int(np.where(S_P100index.index == '2001-08-16')[0] - 1)\n",
    "r2 = np.zeros(nb_asset)\n",
    "\n",
    "for i in range(0, nb_asset):\n",
    "    zi =  AR_100_const.iloc[index_start2:, i].values - AR_US3M.iloc[index_start2:, 0].values\n",
    "    zm = AR_100.iloc[index_start2:, 1].values - AR_US3M.iloc[index_start2:, 0].values\n",
    "    X = sm.add_constant(zm)\n",
    "    y = zi\n",
    "    \n",
    "    reg = sm.OLS(endog = y, exog = X, missing='drop')\n",
    "    results = reg.fit()\n",
    "    r2[i] = results.rsquared"
   ]
  },
  {
   "cell_type": "code",
   "execution_count": 10,
   "metadata": {},
   "outputs": [
    {
     "data": {
      "text/html": [
       "<div>\n",
       "<style scoped>\n",
       "    .dataframe tbody tr th:only-of-type {\n",
       "        vertical-align: middle;\n",
       "    }\n",
       "\n",
       "    .dataframe tbody tr th {\n",
       "        vertical-align: top;\n",
       "    }\n",
       "\n",
       "    .dataframe thead th {\n",
       "        text-align: right;\n",
       "    }\n",
       "</style>\n",
       "<table border=\"1\" class=\"dataframe\">\n",
       "  <thead>\n",
       "    <tr style=\"text-align: right;\">\n",
       "      <th></th>\n",
       "      <th>R-squared</th>\n",
       "    </tr>\n",
       "  </thead>\n",
       "  <tbody>\n",
       "    <tr>\n",
       "      <th>AES</th>\n",
       "      <td>0.19</td>\n",
       "    </tr>\n",
       "    <tr>\n",
       "      <th>ALCOA</th>\n",
       "      <td>0.64</td>\n",
       "    </tr>\n",
       "    <tr>\n",
       "      <th>ALLEGHENY TECHS.</th>\n",
       "      <td>0.39</td>\n",
       "    </tr>\n",
       "    <tr>\n",
       "      <th>AMER.ELEC.PWR.</th>\n",
       "      <td>0.05</td>\n",
       "    </tr>\n",
       "    <tr>\n",
       "      <th>AMER.EXPRESS</th>\n",
       "      <td>0.73</td>\n",
       "    </tr>\n",
       "    <tr>\n",
       "      <th>...</th>\n",
       "      <td>...</td>\n",
       "    </tr>\n",
       "    <tr>\n",
       "      <th>WELLS FARGO &amp; CO</th>\n",
       "      <td>0.39</td>\n",
       "    </tr>\n",
       "    <tr>\n",
       "      <th>WEYERHAEUSER</th>\n",
       "      <td>0.53</td>\n",
       "    </tr>\n",
       "    <tr>\n",
       "      <th>WILLIAMS COS.</th>\n",
       "      <td>0.15</td>\n",
       "    </tr>\n",
       "    <tr>\n",
       "      <th>XEROX</th>\n",
       "      <td>0.29</td>\n",
       "    </tr>\n",
       "    <tr>\n",
       "      <th>3M CO.</th>\n",
       "      <td>0.45</td>\n",
       "    </tr>\n",
       "  </tbody>\n",
       "</table>\n",
       "<p>95 rows × 1 columns</p>\n",
       "</div>"
      ],
      "text/plain": [
       "                  R-squared\n",
       "AES                    0.19\n",
       "ALCOA                  0.64\n",
       "ALLEGHENY TECHS.       0.39\n",
       "AMER.ELEC.PWR.         0.05\n",
       "AMER.EXPRESS           0.73\n",
       "...                     ...\n",
       "WELLS FARGO & CO       0.39\n",
       "WEYERHAEUSER           0.53\n",
       "WILLIAMS COS.          0.15\n",
       "XEROX                  0.29\n",
       "3M CO.                 0.45\n",
       "\n",
       "[95 rows x 1 columns]"
      ]
     },
     "execution_count": 10,
     "metadata": {},
     "output_type": "execute_result"
    }
   ],
   "source": [
    "# Compute the r-squared for each stocks\n",
    "pd.DataFrame(np.around(r2, decimals=2), index = names_company, columns = ['R-squared']) "
   ]
  },
  {
   "cell_type": "code",
   "execution_count": 11,
   "metadata": {},
   "outputs": [
    {
     "data": {
      "text/plain": [
       "0.32789473684210524"
      ]
     },
     "execution_count": 11,
     "metadata": {},
     "output_type": "execute_result"
    }
   ],
   "source": [
    "# Compute the average r-squared of each stocks\n",
    "statistics.mean(np.around(r2, decimals=2))"
   ]
  },
  {
   "cell_type": "markdown",
   "metadata": {},
   "source": [
    "# Test of the CAPM : Cross-Section approach"
   ]
  },
  {
   "cell_type": "markdown",
   "metadata": {},
   "source": [
    "## Exercice 1"
   ]
  },
  {
   "cell_type": "code",
   "execution_count": 12,
   "metadata": {},
   "outputs": [],
   "source": [
    "# Compute the index of the return of interest\n",
    "index_start3 = int(np.where(S_P100index.index == '1992-11-12')[0])\n",
    "index_end3 = int(np.where(S_P100index.index == '1996-11-14')[0] - 1)"
   ]
  },
  {
   "cell_type": "code",
   "execution_count": 13,
   "metadata": {},
   "outputs": [],
   "source": [
    "# Compute the alphas and betas of each stock thanks to the linear regression\n",
    "nb_asset = len(AR_100_const.columns) # Compute the number of colums to deal with\n",
    "betas1 = np.zeros(nb_asset) # Initialize an array with nb_asset entries to receive the beta\n",
    "\n",
    "for i in range(0, nb_asset):\n",
    "    zi =  AR_100_const.iloc[index_start3:index_end3, i].values - AR_US3M.iloc[index_start3:index_end3, 0].values\n",
    "    zm = AR_100.iloc[index_start3:index_end3, 1].values - AR_US3M.iloc[index_start3:index_end3, 0].values\n",
    "    X = sm.add_constant(zm)\n",
    "    y = zi\n",
    "    \n",
    "    # Fit regression on the data of interest and save the alpha, beta and std of alpha\n",
    "    reg = sm.OLS(endog = y, exog = X)\n",
    "    results = reg.fit()\n",
    "    betas1[i] = results.params[1]"
   ]
  },
  {
   "cell_type": "markdown",
   "metadata": {},
   "source": [
    "## Exercice 2"
   ]
  },
  {
   "cell_type": "code",
   "execution_count": 14,
   "metadata": {},
   "outputs": [],
   "source": [
    "index = np.argsort(betas1)\n",
    " \n",
    "P1 = index[0:10]\n",
    "P2 = index[10:20]\n",
    "P3 = index[20:30]\n",
    "P4 = index[30:40]\n",
    "P5 = index[40:50]\n",
    "P6 = index[50:60]\n",
    "P7 = index[60:70]\n",
    "P8 = index[70:80]\n",
    "P9 = index[80:90]\n",
    "P10 = index[90:95]"
   ]
  },
  {
   "cell_type": "markdown",
   "metadata": {},
   "source": [
    "## Exercice 3"
   ]
  },
  {
   "cell_type": "code",
   "execution_count": 15,
   "metadata": {},
   "outputs": [],
   "source": [
    "# Compute the index of the return of interest\n",
    "index_start4 = int(np.where(S_P100index.index == '1996-11-14')[0] - 1)\n",
    "index_end4 = int(np.where(S_P100index.index == '2000-11-16')[0] - 1)"
   ]
  },
  {
   "cell_type": "code",
   "execution_count": 16,
   "metadata": {},
   "outputs": [],
   "source": [
    "# Compute the alphas and betas of each stock thanks to the linear regression\n",
    "nb_asset = len(AR_100_const.columns) # Compute the number of colums to deal with\n",
    "betas2 = np.zeros(nb_asset) # Initialize an array with nb_asset entries to receive the beta\n",
    "\n",
    "for i in range(0, nb_asset):\n",
    "    zi =  AR_100_const.iloc[index_start4:index_end4, i].values - AR_US3M.iloc[index_start4:index_end4, 0].values\n",
    "    zm = AR_100.iloc[index_start4:index_end4, 1].values - AR_US3M.iloc[index_start4:index_end4, 0].values\n",
    "    X = sm.add_constant(zm)\n",
    "    y = zi\n",
    "    \n",
    "    # Fit regression on the data of interest and save the alpha, beta and std of alpha\n",
    "    reg = sm.OLS(endog = y, exog = X)\n",
    "    results = reg.fit()\n",
    "    betas2[i] = results.params[1]"
   ]
  },
  {
   "cell_type": "code",
   "execution_count": 17,
   "metadata": {},
   "outputs": [],
   "source": [
    "betaP1 = statistics.mean(betas2[P1])\n",
    "betaP2 = statistics.mean(betas2[P2])\n",
    "betaP3 = statistics.mean(betas2[P3])\n",
    "betaP4 = statistics.mean(betas2[P4])\n",
    "betaP5 = statistics.mean(betas2[P5])\n",
    "betaP6 = statistics.mean(betas2[P6])\n",
    "betaP7 = statistics.mean(betas2[P7])\n",
    "betaP8 = statistics.mean(betas2[P8])\n",
    "betaP9 = statistics.mean(betas2[P9])\n",
    "betaP10 = statistics.mean(betas2[P10])"
   ]
  },
  {
   "cell_type": "markdown",
   "metadata": {},
   "source": [
    "## Exercice 4"
   ]
  },
  {
   "cell_type": "code",
   "execution_count": 18,
   "metadata": {},
   "outputs": [],
   "source": [
    "index_start_test = int(np.where(S_P100index.index == '2000-11-23')[0] - 1)"
   ]
  },
  {
   "cell_type": "code",
   "execution_count": 19,
   "metadata": {},
   "outputs": [
    {
     "name": "stdout",
     "output_type": "stream",
     "text": [
      "                            OLS Regression Results                            \n",
      "==============================================================================\n",
      "Dep. Variable:                      y   R-squared:                       0.880\n",
      "Model:                            OLS   Adj. R-squared:                  0.865\n",
      "Method:                 Least Squares   F-statistic:                     58.59\n",
      "Date:                Sun, 18 Oct 2020   Prob (F-statistic):           5.99e-05\n",
      "Time:                        15:47:08   Log-Likelihood:                 31.501\n",
      "No. Observations:                  10   AIC:                            -59.00\n",
      "Df Residuals:                       8   BIC:                            -58.40\n",
      "Df Model:                           1                                         \n",
      "Covariance Type:            nonrobust                                         \n",
      "==============================================================================\n",
      "                 coef    std err          t      P>|t|      [0.025      0.975]\n",
      "------------------------------------------------------------------------------\n",
      "const          0.0465      0.011      4.321      0.003       0.022       0.071\n",
      "x1            -0.0829      0.011     -7.654      0.000      -0.108      -0.058\n",
      "==============================================================================\n",
      "Omnibus:                        1.397   Durbin-Watson:                   1.362\n",
      "Prob(Omnibus):                  0.497   Jarque-Bera (JB):                0.783\n",
      "Skew:                           0.261   Prob(JB):                        0.676\n",
      "Kurtosis:                       1.732   Cond. No.                         5.70\n",
      "==============================================================================\n",
      "\n",
      "Warnings:\n",
      "[1] Standard Errors assume that the covariance matrix of the errors is correctly specified.\n"
     ]
    },
    {
     "name": "stderr",
     "output_type": "stream",
     "text": [
      "/dhlib/lib/python3.8/site-packages/scipy/stats/stats.py:1603: UserWarning: kurtosistest only valid for n>=20 ... continuing anyway, n=10\n",
      "  warnings.warn(\"kurtosistest only valid for n>=20 ... continuing \"\n"
     ]
    }
   ],
   "source": [
    "ARP1 = statistics.mean(AR_100_const.iloc[index_start_test, :].values[P1]) - AR_US3M.iloc[index_start_test, 0]\n",
    "ARP2 = statistics.mean(AR_100_const.iloc[index_start_test, :].values[P2]) - AR_US3M.iloc[index_start_test, 0]\n",
    "ARP3 = statistics.mean(AR_100_const.iloc[index_start_test, :].values[P3]) - AR_US3M.iloc[index_start_test, 0]\n",
    "ARP4 = statistics.mean(AR_100_const.iloc[index_start_test, :].values[P4]) - AR_US3M.iloc[index_start_test, 0]\n",
    "ARP5 = statistics.mean(AR_100_const.iloc[index_start_test, :].values[P5]) - AR_US3M.iloc[index_start_test, 0]\n",
    "ARP6 = statistics.mean(AR_100_const.iloc[index_start_test, :].values[P6]) - AR_US3M.iloc[index_start_test, 0]\n",
    "ARP7 = statistics.mean(AR_100_const.iloc[index_start_test, :].values[P7]) - AR_US3M.iloc[index_start_test, 0]\n",
    "ARP8 = statistics.mean(AR_100_const.iloc[index_start_test, :].values[P8]) - AR_US3M.iloc[index_start_test, 0]\n",
    "ARP9 = statistics.mean(AR_100_const.iloc[index_start_test, :].values[P9]) - AR_US3M.iloc[index_start_test, 0]\n",
    "ARP10 = statistics.mean(AR_100_const.iloc[index_start_test, :].values[P10]) - AR_US3M.iloc[index_start_test, 0]\n",
    "    \n",
    "zi = np.array([ARP1, ARP2, ARP3, ARP4, ARP5, ARP6, ARP7, ARP8, ARP9, ARP10])\n",
    "bi = np.array([betaP1, betaP2, betaP3, betaP4, betaP5, betaP6, betaP7, betaP8, betaP9, betaP10])\n",
    "X = sm.add_constant(bi)\n",
    "y = zi\n",
    "    \n",
    "# Fit regression on the data of interest and save the alpha, beta and std of alpha\n",
    "reg = sm.OLS(endog = y, exog = X)\n",
    "results = reg.fit()\n",
    "print(results.summary())"
   ]
  },
  {
   "cell_type": "code",
   "execution_count": 20,
   "metadata": {},
   "outputs": [],
   "source": [
    "index_start5 = int(np.where(S_P100index.index == '2000-11-23')[0] - 1)\n",
    "index_end5 = int(np.where(S_P100index.index == '2002-11-14')[0] - 1)"
   ]
  },
  {
   "cell_type": "code",
   "execution_count": 21,
   "metadata": {},
   "outputs": [],
   "source": [
    "# Compute the alphas and betas of each stock thanks to the linear regression\n",
    "nb_date = len(range(index_start5, index_end5 + 1)) # Compute the number of line to deal with\n",
    "phi0 = np.zeros(nb_date) # Initialize an array with nb_asset entries to receive the phi0\n",
    "phi1 = np.zeros(nb_date) # Initialize an array with nb_asset entries to receive the phi0\n",
    "\n",
    "for i in range(index_start5, index_end5 + 1):\n",
    "    ARP1 = statistics.mean(AR_100_const.iloc[i, :].values[P1]) - AR_US3M.iloc[i, 0]\n",
    "    ARP2 = statistics.mean(AR_100_const.iloc[i, :].values[P2]) - AR_US3M.iloc[i, 0]\n",
    "    ARP3 = statistics.mean(AR_100_const.iloc[i, :].values[P3]) - AR_US3M.iloc[i, 0]\n",
    "    ARP4 = statistics.mean(AR_100_const.iloc[i, :].values[P4]) - AR_US3M.iloc[i, 0]\n",
    "    ARP5 = statistics.mean(AR_100_const.iloc[i, :].values[P5]) - AR_US3M.iloc[i, 0]\n",
    "    ARP6 = statistics.mean(AR_100_const.iloc[i, :].values[P6]) - AR_US3M.iloc[i, 0]\n",
    "    ARP7 = statistics.mean(AR_100_const.iloc[i, :].values[P7]) - AR_US3M.iloc[i, 0]\n",
    "    ARP8 = statistics.mean(AR_100_const.iloc[i, :].values[P8]) - AR_US3M.iloc[i, 0]\n",
    "    ARP9 = statistics.mean(AR_100_const.iloc[i, :].values[P9]) - AR_US3M.iloc[i, 0]\n",
    "    ARP10 = statistics.mean(AR_100_const.iloc[i, :].values[P10]) - AR_US3M.iloc[i, 0]\n",
    "    \n",
    "    zi = np.array([ARP1, ARP2, ARP3, ARP4, ARP5, ARP6, ARP7, ARP8, ARP9, ARP10])\n",
    "    bi = np.array([betaP1, betaP2, betaP3, betaP4, betaP5, betaP6, betaP7, betaP8, betaP9, betaP10])\n",
    "    X = sm.add_constant(bi)\n",
    "    y = zi\n",
    "    \n",
    "    # Fit regression on the data of interest and save the alpha, beta and std of alpha\n",
    "    reg = sm.OLS(endog = y, exog = X)\n",
    "    results = reg.fit()\n",
    "    phi0[i-index_start5] = results.params[0]\n",
    "    phi1[i-index_start5] = results.params[1]"
   ]
  },
  {
   "cell_type": "code",
   "execution_count": 22,
   "metadata": {},
   "outputs": [],
   "source": [
    "mean_phi0 = statistics.mean(phi0)\n",
    "mean_phi1 = statistics.mean(phi1)\n",
    "T = len(phi0)"
   ]
  },
  {
   "cell_type": "code",
   "execution_count": 23,
   "metadata": {},
   "outputs": [],
   "source": [
    "var_phi0 = np.sum((phi0-mean_phi0)**2)/(T*(T-1))\n",
    "sd_phi0 = math.sqrt(var_phi0)\n",
    "var_phi1 = np.sum((phi1-mean_phi1)**2)/(T*(T-1))\n",
    "sd_phi1 = math.sqrt(var_phi1)"
   ]
  },
  {
   "cell_type": "code",
   "execution_count": 24,
   "metadata": {},
   "outputs": [
    {
     "data": {
      "text/plain": [
       "True"
      ]
     },
     "execution_count": 24,
     "metadata": {},
     "output_type": "execute_result"
    }
   ],
   "source": [
    "# 1.98 (2-sided) for t-distribution with dof of 103\n",
    "abs(mean_phi0/sd_phi0) < 1.98"
   ]
  },
  {
   "cell_type": "code",
   "execution_count": 25,
   "metadata": {},
   "outputs": [
    {
     "data": {
      "text/plain": [
       "False"
      ]
     },
     "execution_count": 25,
     "metadata": {},
     "output_type": "execute_result"
    }
   ],
   "source": [
    "# 1.66 (1-sided) for t-distribution with dof of 103\n",
    "mean_phi1/sd_phi1 > 1.66"
   ]
  },
  {
   "cell_type": "markdown",
   "metadata": {},
   "source": [
    "# Alternatives to CAPM : Fama-French (1992) Model"
   ]
  },
  {
   "cell_type": "code",
   "execution_count": 26,
   "metadata": {},
   "outputs": [],
   "source": [
    "# Compute FamaFrenchPortfolios rates\n",
    "FFP = pd.DataFrame((FamaFrenchPortfolios.iloc[1:,0:].values / 100),  columns = ['Small_Low BE/ME', 'Small_Med BE/ME', 'Small_High BE/ME','Big_Low BE/ME', 'Big_Med BE/ME', 'Big_High BE/ME'])"
   ]
  },
  {
   "cell_type": "code",
   "execution_count": 27,
   "metadata": {},
   "outputs": [],
   "source": [
    "small_return = np.mean(FFP.iloc[:,0:3].values, axis = 1)\n",
    "big_return = np.mean(FFP.iloc[:,3:].values, axis = 1)\n",
    "High_return = np.mean(FFP.iloc[:,[2,5]].values, axis = 1)\n",
    "low_return = np.mean(FFP.iloc[:,[0,3]].values, axis = 1)\n",
    "SmB = small_return - big_return\n",
    "HmL = High_return - low_return"
   ]
  },
  {
   "cell_type": "code",
   "execution_count": 28,
   "metadata": {},
   "outputs": [],
   "source": [
    "# Compute the index of the return of interest\n",
    "index_start6 = int(np.where(S_P100index.index == '1992-11-12')[0])\n",
    "index_end6 = int(np.where(S_P100index.index == '2001-08-16')[0] - 1)"
   ]
  },
  {
   "cell_type": "code",
   "execution_count": 29,
   "metadata": {},
   "outputs": [],
   "source": [
    "# Compute the alphas and betas of each stock thanks to the linear regression\n",
    "nb_asset = len(FFP.columns) # Compute the number of colums to deal with\n",
    "alphas3 = np.zeros(nb_asset) # Initialize an array with nb_asset entries to receive the beta\n",
    "betas3 = np.zeros(nb_asset) # Initialize an array with nb_asset entries to receive the alpha\n",
    "r2_2 = np.zeros(nb_asset)\n",
    "r2_adj = np.zeros(nb_asset)\n",
    "\n",
    "for i in range(0, nb_asset):\n",
    "    zi =  FFP.iloc[index_start6:index_end6, i].values - AR_US3M.iloc[index_start6:index_end6, 0].values\n",
    "    zm = AR_100.iloc[index_start6:index_end6, 1].values - AR_US3M.iloc[index_start6:index_end6, 0].values\n",
    "    X = sm.add_constant(zm)\n",
    "    y = zi\n",
    "    \n",
    "    # Fit regression on the data of interest and save the alpha, beta and std of alpha\n",
    "    reg = sm.OLS(endog = y, exog = X)\n",
    "    results = reg.fit()\n",
    "    alphas3[i] = results.params[0]\n",
    "    betas3[i] = results.params[1]\n",
    "    r2_2[i] = results.rsquared\n",
    "    r2_adj[i] = results.rsquared_adj"
   ]
  },
  {
   "cell_type": "code",
   "execution_count": 30,
   "metadata": {},
   "outputs": [],
   "source": [
    "# Compute the alphas and betas of each stock thanks to the linear regression\n",
    "nb_asset = len(FFP.columns) # Compute the number of colums to deal with\n",
    "alphas4 = np.zeros(nb_asset) # Initialize an array with nb_asset entries to receive the beta\n",
    "betas4 = np.zeros(nb_asset) # Initialize an array with nb_asset entries to receive the alpha\n",
    "s4 = np.zeros(nb_asset) # Initialize an array with nb_asset entries to receive the std of alpha\n",
    "h4 = np.zeros(nb_asset) # Initialize an array with nb_asset entries to receive the std of alpha\n",
    "r2_24 = np.zeros(nb_asset)\n",
    "r2_adj4 = np.zeros(nb_asset)\n",
    "\n",
    "for i in range(0, nb_asset):\n",
    "    zi =  FFP.iloc[index_start6:index_end6, i].values - AR_US3M.iloc[index_start6:index_end6, 0].values\n",
    "    si =  SmB[index_start6:index_end6] - AR_US3M.iloc[index_start6:index_end6, 0].values\n",
    "    hi =  HmL[index_start6:index_end6] - AR_US3M.iloc[index_start6:index_end6, 0].values\n",
    "    zm = AR_100.iloc[index_start6:index_end6, 1].values - AR_US3M.iloc[index_start6:index_end6, 0].values\n",
    "    independent_vars = np.column_stack((zm, si, hi))\n",
    "    X = sm.add_constant(independent_vars)\n",
    "    y = zi\n",
    "    \n",
    "    # Fit regression on the data of interest and save the alpha, beta and std of alpha\n",
    "    reg = sm.OLS(endog = y, exog = X)\n",
    "    results = reg.fit()\n",
    "    alphas4[i] = results.params[0]\n",
    "    betas4[i] = results.params[1]\n",
    "    s4[i] = results.params[2]\n",
    "    h4[i] = results.params[3]\n",
    "    r2_24[i] = results.rsquared\n",
    "    r2_adj4[i] = results.rsquared_adj"
   ]
  },
  {
   "cell_type": "code",
   "execution_count": 31,
   "metadata": {},
   "outputs": [],
   "source": [
    "# Compute the index of the return of interest\n",
    "index_start7 = int(np.where(S_P100index.index == '2001-08-16')[0] - 1)"
   ]
  },
  {
   "cell_type": "code",
   "execution_count": 32,
   "metadata": {},
   "outputs": [],
   "source": [
    "# Compute the alphas and betas of each stock thanks to the linear regression\n",
    "nb_asset = len(FFP.columns) # Compute the number of colums to deal with\n",
    "alphas5 = np.zeros(nb_asset) # Initialize an array with nb_asset entries to receive the beta\n",
    "betas5 = np.zeros(nb_asset) # Initialize an array with nb_asset entries to receive the alpha\n",
    "s5 = np.zeros(nb_asset) # Initialize an array with nb_asset entries to receive the std of alpha\n",
    "h5 = np.zeros(nb_asset) # Initialize an array with nb_asset entries to receive the std of alpha\n",
    "r2_25 = np.zeros(nb_asset)\n",
    "r2_adj5 = np.zeros(nb_asset)\n",
    "\n",
    "for i in range(0, nb_asset):\n",
    "    zi =  FFP.iloc[index_start7:, i].values - AR_US3M.iloc[index_start7:, 0].values\n",
    "    si =  SmB[index_start7:] - AR_US3M.iloc[index_start7:, 0].values\n",
    "    hi =  HmL[index_start7:] - AR_US3M.iloc[index_start7:, 0].values\n",
    "    zm = AR_100.iloc[index_start7:, 1].values - AR_US3M.iloc[index_start7:, 0].values\n",
    "    independent_vars = np.column_stack((zm, si, hi))\n",
    "    X = sm.add_constant(independent_vars)\n",
    "    y = zi\n",
    "    \n",
    "    # Fit regression on the data of interest and save the alpha, beta and std of alpha\n",
    "    reg = sm.OLS(endog = y, exog = X)\n",
    "    results = reg.fit()\n",
    "    alphas5[i] = results.params[0]\n",
    "    betas5[i] = results.params[1]\n",
    "    s5[i] = results.params[2]\n",
    "    h5[i] = results.params[3]\n",
    "    r2_25[i] = results.rsquared\n",
    "    r2_adj5[i] = results.rsquared_adj"
   ]
  },
  {
   "cell_type": "code",
   "execution_count": null,
   "metadata": {},
   "outputs": [],
   "source": []
  }
 ],
 "metadata": {
  "kernelspec": {
   "display_name": "Python 3.8",
   "language": "python",
   "name": "datahub"
  },
  "language_info": {
   "codemirror_mode": {
    "name": "ipython",
    "version": 3
   },
   "file_extension": ".py",
   "mimetype": "text/x-python",
   "name": "python",
   "nbconvert_exporter": "python",
   "pygments_lexer": "ipython3",
   "version": "3.8.3"
  }
 },
 "nbformat": 4,
 "nbformat_minor": 4
}
