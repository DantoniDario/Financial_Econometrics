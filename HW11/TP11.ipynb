{
 "cells": [
  {
   "cell_type": "code",
   "execution_count": 1,
   "metadata": {},
   "outputs": [],
   "source": [
    "# import package\n",
    "import pandas as pd\n",
    "#import math\n",
    "import numpy as np\n",
    "import statsmodels.api as sm\n",
    "#import statistics\n",
    "#import plotly.graph_objects as go\n",
    "from scipy import stats\n",
    "#from plotly.subplots import make_subplots\n",
    "#from sklearn.neighbors import KernelDensity\n",
    "from statsmodels.stats.diagnostic import acorr_ljungbox\n",
    "import matplotlib.pyplot as plt"
   ]
  },
  {
   "cell_type": "markdown",
   "metadata": {},
   "source": [
    "## Computing Critical Values"
   ]
  },
  {
   "cell_type": "markdown",
   "metadata": {},
   "source": [
    "### 1."
   ]
  },
  {
   "cell_type": "code",
   "execution_count": 2,
   "metadata": {},
   "outputs": [],
   "source": [
    "simul = np.random.normal(0, 1, (100, 10000))"
   ]
  },
  {
   "cell_type": "code",
   "execution_count": 3,
   "metadata": {},
   "outputs": [],
   "source": [
    "Y = np.ones((100, 10000))\n",
    "for j in range(0,10000):\n",
    "    for i in range(0,100):\n",
    "        if i < 1:\n",
    "            Y[i, j] = 0 + simul[i,j]\n",
    "        else:\n",
    "            Y[i, j] = Y[i-1, j] + simul[i,j]\n",
    "            \n",
    "# Quicker method:            \n",
    "# for j in range(0,10000):\n",
    "#     Y[:, j] = np.cumsum(simul[:, 0])"
   ]
  },
  {
   "cell_type": "code",
   "execution_count": 4,
   "metadata": {},
   "outputs": [],
   "source": [
    "t_value = np.ones(10000)\n",
    "delta_Y = Y[1:,:] - Y[:-1, :]\n",
    "\n",
    "for i in range(0, 10000):\n",
    "    variables = Y[:-1,i].reshape(99, 1)\n",
    "    x = sm.add_constant(variables)\n",
    "    y = delta_Y[:, i]\n",
    "\n",
    "    reg1 = sm.OLS(endog = y, exog = x, missing = 'drop')\n",
    "    results = reg1.fit()\n",
    "    t_value[i] = results.tvalues[1]"
   ]
  },
  {
   "cell_type": "markdown",
   "metadata": {},
   "source": [
    "### 2."
   ]
  },
  {
   "cell_type": "code",
   "execution_count": 5,
   "metadata": {},
   "outputs": [],
   "source": [
    "simul_t = np.random.standard_t(98, 10000)"
   ]
  },
  {
   "cell_type": "code",
   "execution_count": 6,
   "metadata": {},
   "outputs": [
    {
     "data": {
      "image/png": "[encoded data removed]",
      "text/plain": [
       "<Figure size 576x432 with 1 Axes>"
      ]
     },
     "metadata": {
      "needs_background": "light"
     },
     "output_type": "display_data"
    }
   ],
   "source": [
    "plt.figure(figsize=(8,6))\n",
    "plt.hist(t_value, bins=50, alpha=0.5, label=\"Simulation under H0\")\n",
    "plt.hist(simul_t, bins=50, alpha=0.5, label=\"Student distribution\")\n",
    "plt.ylabel('Frequency')\n",
    "plt.title('Empirical vs theoritical t distribution')\n",
    "plt.legend(loc='upper right')\n",
    "plt.grid(alpha=0.3)\n",
    "plt.show()"
   ]
  },
  {
   "cell_type": "markdown",
   "metadata": {},
   "source": [
    "### 3."
   ]
  },
  {
   "cell_type": "code",
   "execution_count": 7,
   "metadata": {},
   "outputs": [],
   "source": [
    "critical_values = np.array([np.percentile(t_value, 0.01), np.percentile(t_value, 0.05), np.percentile(t_value, 0.1)])"
   ]
  },
  {
   "cell_type": "code",
   "execution_count": 8,
   "metadata": {},
   "outputs": [],
   "source": [
    "t_quantiles = stats.t(df=98).ppf((0.01, 0.05, 0.1))"
   ]
  },
  {
   "cell_type": "code",
   "execution_count": 9,
   "metadata": {},
   "outputs": [],
   "source": [
    "Fuller = np.array([-3.51, -2.89, -2.58])"
   ]
  },
  {
   "cell_type": "code",
   "execution_count": 10,
   "metadata": {},
   "outputs": [
    {
     "data": {
      "text/html": [
       "<div>\n",
       "<style scoped>\n",
       "    .dataframe tbody tr th:only-of-type {\n",
       "        vertical-align: middle;\n",
       "    }\n",
       "\n",
       "    .dataframe tbody tr th {\n",
       "        vertical-align: top;\n",
       "    }\n",
       "\n",
       "    .dataframe thead th {\n",
       "        text-align: right;\n",
       "    }\n",
       "</style>\n",
       "<table border=\"1\" class=\"dataframe\">\n",
       "  <thead>\n",
       "    <tr style=\"text-align: right;\">\n",
       "      <th></th>\n",
       "      <th>1%</th>\n",
       "      <th>5%</th>\n",
       "      <th>10%</th>\n",
       "    </tr>\n",
       "  </thead>\n",
       "  <tbody>\n",
       "    <tr>\n",
       "      <th>Empirical t-value</th>\n",
       "      <td>-4.436586</td>\n",
       "      <td>-4.364332</td>\n",
       "      <td>-4.16349</td>\n",
       "    </tr>\n",
       "    <tr>\n",
       "      <th>t distr.</th>\n",
       "      <td>-2.365002</td>\n",
       "      <td>-1.660551</td>\n",
       "      <td>-1.29025</td>\n",
       "    </tr>\n",
       "    <tr>\n",
       "      <th>Fuller</th>\n",
       "      <td>-3.510000</td>\n",
       "      <td>-2.890000</td>\n",
       "      <td>-2.58000</td>\n",
       "    </tr>\n",
       "  </tbody>\n",
       "</table>\n",
       "</div>"
      ],
      "text/plain": [
       "                         1%        5%      10%\n",
       "Empirical t-value -4.436586 -4.364332 -4.16349\n",
       "t distr.          -2.365002 -1.660551 -1.29025\n",
       "Fuller            -3.510000 -2.890000 -2.58000"
      ]
     },
     "execution_count": 10,
     "metadata": {},
     "output_type": "execute_result"
    }
   ],
   "source": [
    "pd.DataFrame(np.array([critical_values, t_quantiles, Fuller]), index = ['Empirical t-value', 't distr.', 'Fuller'], columns = ['1%', '5%', '10%'])"
   ]
  },
  {
   "cell_type": "markdown",
   "metadata": {},
   "source": [
    "## Testing Non-stationarity"
   ]
  },
  {
   "cell_type": "code",
   "execution_count": 11,
   "metadata": {},
   "outputs": [],
   "source": [
    "# load the data\n",
    "df = pd.read_excel('/Users/dantoni/HW11/data_monthly.xls')"
   ]
  },
  {
   "cell_type": "code",
   "execution_count": 12,
   "metadata": {},
   "outputs": [],
   "source": [
    "index = ['DAX','FTALL' ,'S&P500']\n",
    "\n",
    "# Compute Logarithm returns for each stock\n",
    "\n",
    "LR = pd.DataFrame(np.log(df.iloc[1:,:].values / df.iloc[0:-1,:].values),  columns = index)"
   ]
  },
  {
   "cell_type": "code",
   "execution_count": 13,
   "metadata": {},
   "outputs": [],
   "source": [
    "# Errors simulation in order to compute the new critical quantile with 300 data\n",
    "\n",
    "simul2 = np.random.normal(0, 1, (300, 10000))"
   ]
  },
  {
   "cell_type": "code",
   "execution_count": 14,
   "metadata": {},
   "outputs": [],
   "source": [
    "# Compute the series based on the null hypothesis\n",
    "\n",
    "Y2 = np.ones((300, 10000))\n",
    "for j in range(0,10000):\n",
    "    for i in range(0,300):\n",
    "        if i < 1:\n",
    "            Y2[i, j] = 0 + simul2[i,j]\n",
    "        else:\n",
    "            Y2[i, j] = Y2[i-1, j] + simul2[i,j]\n",
    "            \n",
    "# Quicker method:            \n",
    "# for j in range(0,10000):\n",
    "#     Y[:, j] = np.cumsum(simul[:, 0])"
   ]
  },
  {
   "cell_type": "code",
   "execution_count": 15,
   "metadata": {},
   "outputs": [],
   "source": [
    "# Store the t-values in an array\n",
    "\n",
    "t_value2 = np.ones(10000)\n",
    "delta_Y2 = Y2[1:,:] - Y2[:-1, :]\n",
    "\n",
    "for i in range(0, 10000):\n",
    "    variables2 = Y2[:-1,i].reshape(299, 1)\n",
    "    x2 = sm.add_constant(variables2)\n",
    "    y2 = delta_Y2[:, i]\n",
    "\n",
    "    reg2 = sm.OLS(endog = y2, exog = x2, missing = 'drop')\n",
    "    results2 = reg2.fit()\n",
    "    t_value2[i] = results2.tvalues[1]"
   ]
  },
  {
   "cell_type": "code",
   "execution_count": 16,
   "metadata": {},
   "outputs": [],
   "source": [
    "# Compute the t-value for each series of data (PRICE)\n",
    "\n",
    "t_value3 = np.ones(3)\n",
    "delta_price = df.values[1:,:] - df.values[:-1, :]\n",
    "\n",
    "for i in range(0, 3):\n",
    "    variables3 = df.values[:-1,i]\n",
    "    x3 = sm.add_constant(variables3)\n",
    "    y3 = delta_price[:, i]\n",
    "\n",
    "    reg3 = sm.OLS(endog = y3, exog = x3, missing = 'drop')\n",
    "    results3 = reg3.fit()\n",
    "    t_value3[i] = results3.tvalues[1]"
   ]
  },
  {
   "cell_type": "code",
   "execution_count": 17,
   "metadata": {},
   "outputs": [],
   "source": [
    "# Compute the t-value for each series of dataset (LOG RETURNS)\n",
    "\n",
    "t_value4 = np.ones(3)\n",
    "delta_LR = LR.values[1:,:] - LR.values[:-1, :]\n",
    "\n",
    "for i in range(0, 3):\n",
    "    variables4 = LR.values[:-1,i]\n",
    "    x4 = sm.add_constant(variables4)\n",
    "    y4 = delta_LR[:, i]\n",
    "\n",
    "    reg4 = sm.OLS(endog = y4, exog = x4, missing = 'drop')\n",
    "    results4 = reg4.fit()\n",
    "    t_value4[i] = results4.tvalues[1]"
   ]
  },
  {
   "cell_type": "code",
   "execution_count": 18,
   "metadata": {},
   "outputs": [],
   "source": [
    "critical_values2 = np.array([np.percentile(t_value2, 0.01), np.percentile(t_value2, 0.05), np.percentile(t_value2, 0.1)])"
   ]
  },
  {
   "cell_type": "code",
   "execution_count": 19,
   "metadata": {},
   "outputs": [
    {
     "name": "stdout",
     "output_type": "stream",
     "text": [
      "Critical quantile at 5%:  -4.169068635484845\n",
      "\n",
      "t-value for each dataset (PRICE):  [-1.04868001 -0.9936131  -0.23293973]\n"
     ]
    }
   ],
   "source": [
    "# Critical values estimated from the serie based on the null hypothesis\n",
    "print('Critical quantile at 5%: ', critical_values2[1])\n",
    "print()\n",
    "print('t-value for each dataset (PRICE): ', t_value3)"
   ]
  },
  {
   "cell_type": "markdown",
   "metadata": {},
   "source": [
    "The empirical quantile at 5% estimated on simulation is around -4.2 (depending of the set seed). Based on this value, all 3 t-values from each dataset (price) are above this value meaning that there is no evidence to reject H0 (No stationarity)."
   ]
  },
  {
   "cell_type": "code",
   "execution_count": 20,
   "metadata": {},
   "outputs": [
    {
     "name": "stdout",
     "output_type": "stream",
     "text": [
      "Critical quantile at 5%:  -4.169068635484845\n",
      "\n",
      "t-value for each dataset (RETURN):  [-16.60833743 -17.1860506  -16.99837835]\n"
     ]
    }
   ],
   "source": [
    "# Critical values estimated from the serie based on the null hypothesis\n",
    "print('Critical quantile at 5%: ', critical_values2[1])\n",
    "print()\n",
    "print('t-value for each dataset (RETURN): ', t_value4)"
   ]
  },
  {
   "cell_type": "markdown",
   "metadata": {},
   "source": [
    "The empirical quantile at 5% estimated on simulation is around -4.2 (depending of the set seed). Based on this value, all 3 t-values from each dataset (returns) are far below this value meaning that there is evidence to reject H0 (No stationarity)."
   ]
  },
  {
   "cell_type": "code",
   "execution_count": null,
   "metadata": {},
   "outputs": [],
   "source": []
  }
 ],
 "metadata": {
  "kernelspec": {
   "display_name": "Python 3",
   "language": "python",
   "name": "python3"
  },
  "language_info": {
   "codemirror_mode": {
    "name": "ipython",
    "version": 3
   },
   "file_extension": ".py",
   "mimetype": "text/x-python",
   "name": "python",
   "nbconvert_exporter": "python",
   "pygments_lexer": "ipython3",
   "version": "3.7.4"
  }
 },
 "nbformat": 4,
 "nbformat_minor": 4
}
