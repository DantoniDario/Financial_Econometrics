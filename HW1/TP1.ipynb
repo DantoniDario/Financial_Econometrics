{
 "cells": [
  {
   "cell_type": "code",
   "execution_count": 1,
   "metadata": {},
   "outputs": [],
   "source": [
    "# import package\n",
    "import pandas as pd\n",
    "import math\n",
    "import numpy as np\n",
    "import statsmodels.api as sm\n",
    "from scipy import stats\n",
    "import statistics"
   ]
  },
  {
   "cell_type": "code",
   "execution_count": 2,
   "metadata": {},
   "outputs": [],
   "source": [
    "# load the data\n",
    "df = pd.read_excel('/Users/dantoni/HW1/TP1.xls', skiprows = 4)"
   ]
  },
  {
   "cell_type": "markdown",
   "metadata": {},
   "source": [
    "# EXERCICE 1\n",
    "## EXERCICE 1.1"
   ]
  },
  {
   "cell_type": "code",
   "execution_count": 3,
   "metadata": {},
   "outputs": [],
   "source": [
    "# save data as an array of array (easier to manipulate)\n",
    "data_lag = np.array(df.iloc[:-1,1:])"
   ]
  },
  {
   "cell_type": "code",
   "execution_count": 4,
   "metadata": {},
   "outputs": [],
   "source": [
    "data = np.array(df.iloc[1:,1:])"
   ]
  },
  {
   "cell_type": "code",
   "execution_count": 5,
   "metadata": {},
   "outputs": [],
   "source": [
    "# Calculate the daily return for each stock (arithmetic)\n",
    "daily_return_ari = (data-data_lag)/data_lag"
   ]
  },
  {
   "cell_type": "code",
   "execution_count": 6,
   "metadata": {},
   "outputs": [],
   "source": [
    "# Calculate the daily return for each stock (log)\n",
    "daily_return_log = np.log(data/data_lag)"
   ]
  },
  {
   "cell_type": "code",
   "execution_count": 7,
   "metadata": {},
   "outputs": [
    {
     "data": {
      "text/html": [
       "<div>\n",
       "<style scoped>\n",
       "    .dataframe tbody tr th:only-of-type {\n",
       "        vertical-align: middle;\n",
       "    }\n",
       "\n",
       "    .dataframe tbody tr th {\n",
       "        vertical-align: top;\n",
       "    }\n",
       "\n",
       "    .dataframe thead th {\n",
       "        text-align: right;\n",
       "    }\n",
       "</style>\n",
       "<table border=\"1\" class=\"dataframe\">\n",
       "  <thead>\n",
       "    <tr style=\"text-align: right;\">\n",
       "      <th></th>\n",
       "      <th>Microsoft</th>\n",
       "      <th>Credit Suisse</th>\n",
       "      <th>Boeing</th>\n",
       "      <th>Coca Cola</th>\n",
       "      <th>Nike</th>\n",
       "    </tr>\n",
       "  </thead>\n",
       "  <tbody>\n",
       "    <tr>\n",
       "      <th>0</th>\n",
       "      <td>0.014440</td>\n",
       "      <td>0.014320</td>\n",
       "      <td>-0.026674</td>\n",
       "      <td>0.018500</td>\n",
       "      <td>-0.003098</td>\n",
       "    </tr>\n",
       "    <tr>\n",
       "      <th>1</th>\n",
       "      <td>-0.021352</td>\n",
       "      <td>0.000000</td>\n",
       "      <td>0.020694</td>\n",
       "      <td>0.015709</td>\n",
       "      <td>-0.004661</td>\n",
       "    </tr>\n",
       "    <tr>\n",
       "      <th>2</th>\n",
       "      <td>0.005455</td>\n",
       "      <td>-0.014118</td>\n",
       "      <td>-0.010411</td>\n",
       "      <td>0.000000</td>\n",
       "      <td>0.007804</td>\n",
       "    </tr>\n",
       "    <tr>\n",
       "      <th>3</th>\n",
       "      <td>0.016275</td>\n",
       "      <td>0.014320</td>\n",
       "      <td>0.000000</td>\n",
       "      <td>0.002900</td>\n",
       "      <td>-0.001549</td>\n",
       "    </tr>\n",
       "    <tr>\n",
       "      <th>4</th>\n",
       "      <td>-0.012456</td>\n",
       "      <td>-0.014118</td>\n",
       "      <td>-0.003322</td>\n",
       "      <td>-0.021205</td>\n",
       "      <td>0.006722</td>\n",
       "    </tr>\n",
       "    <tr>\n",
       "      <th>...</th>\n",
       "      <td>...</td>\n",
       "      <td>...</td>\n",
       "      <td>...</td>\n",
       "      <td>...</td>\n",
       "      <td>...</td>\n",
       "    </tr>\n",
       "    <tr>\n",
       "      <th>2603</th>\n",
       "      <td>0.007141</td>\n",
       "      <td>0.012346</td>\n",
       "      <td>-0.017049</td>\n",
       "      <td>-0.027542</td>\n",
       "      <td>0.032962</td>\n",
       "    </tr>\n",
       "    <tr>\n",
       "      <th>2604</th>\n",
       "      <td>0.046878</td>\n",
       "      <td>-0.036585</td>\n",
       "      <td>-0.032688</td>\n",
       "      <td>0.010675</td>\n",
       "      <td>-0.023596</td>\n",
       "    </tr>\n",
       "    <tr>\n",
       "      <th>2605</th>\n",
       "      <td>-0.012041</td>\n",
       "      <td>-0.017722</td>\n",
       "      <td>0.046897</td>\n",
       "      <td>0.034706</td>\n",
       "      <td>0.048101</td>\n",
       "    </tr>\n",
       "    <tr>\n",
       "      <th>2606</th>\n",
       "      <td>-0.015997</td>\n",
       "      <td>-0.023196</td>\n",
       "      <td>-0.007246</td>\n",
       "      <td>-0.002500</td>\n",
       "      <td>-0.005270</td>\n",
       "    </tr>\n",
       "    <tr>\n",
       "      <th>2607</th>\n",
       "      <td>0.029611</td>\n",
       "      <td>0.010554</td>\n",
       "      <td>0.018580</td>\n",
       "      <td>0.001253</td>\n",
       "      <td>-0.001325</td>\n",
       "    </tr>\n",
       "  </tbody>\n",
       "</table>\n",
       "<p>2608 rows × 5 columns</p>\n",
       "</div>"
      ],
      "text/plain": [
       "      Microsoft  Credit Suisse    Boeing  Coca Cola      Nike\n",
       "0      0.014440       0.014320 -0.026674   0.018500 -0.003098\n",
       "1     -0.021352       0.000000  0.020694   0.015709 -0.004661\n",
       "2      0.005455      -0.014118 -0.010411   0.000000  0.007804\n",
       "3      0.016275       0.014320  0.000000   0.002900 -0.001549\n",
       "4     -0.012456      -0.014118 -0.003322  -0.021205  0.006722\n",
       "...         ...            ...       ...        ...       ...\n",
       "2603   0.007141       0.012346 -0.017049  -0.027542  0.032962\n",
       "2604   0.046878      -0.036585 -0.032688   0.010675 -0.023596\n",
       "2605  -0.012041      -0.017722  0.046897   0.034706  0.048101\n",
       "2606  -0.015997      -0.023196 -0.007246  -0.002500 -0.005270\n",
       "2607   0.029611       0.010554  0.018580   0.001253 -0.001325\n",
       "\n",
       "[2608 rows x 5 columns]"
      ]
     },
     "execution_count": 7,
     "metadata": {},
     "output_type": "execute_result"
    }
   ],
   "source": [
    "# Compute the daily return for each stock (arithmetic) in data frame type\n",
    "daily_return_ari_df = pd.DataFrame(daily_return_ari, columns = ['Microsoft','Credit Suisse' ,'Boeing' ,'Coca Cola' ,'Nike'])\n",
    "daily_return_ari_df"
   ]
  },
  {
   "cell_type": "code",
   "execution_count": 8,
   "metadata": {},
   "outputs": [
    {
     "data": {
      "text/html": [
       "<div>\n",
       "<style scoped>\n",
       "    .dataframe tbody tr th:only-of-type {\n",
       "        vertical-align: middle;\n",
       "    }\n",
       "\n",
       "    .dataframe tbody tr th {\n",
       "        vertical-align: top;\n",
       "    }\n",
       "\n",
       "    .dataframe thead th {\n",
       "        text-align: right;\n",
       "    }\n",
       "</style>\n",
       "<table border=\"1\" class=\"dataframe\">\n",
       "  <thead>\n",
       "    <tr style=\"text-align: right;\">\n",
       "      <th></th>\n",
       "      <th>Microsoft</th>\n",
       "      <th>Credit Suisse</th>\n",
       "      <th>Boeing</th>\n",
       "      <th>Coca Cola</th>\n",
       "      <th>Nike</th>\n",
       "    </tr>\n",
       "  </thead>\n",
       "  <tbody>\n",
       "    <tr>\n",
       "      <th>0</th>\n",
       "      <td>0.014337</td>\n",
       "      <td>0.014218</td>\n",
       "      <td>-0.027036</td>\n",
       "      <td>0.018331</td>\n",
       "      <td>-0.003102</td>\n",
       "    </tr>\n",
       "    <tr>\n",
       "      <th>1</th>\n",
       "      <td>-0.021584</td>\n",
       "      <td>0.000000</td>\n",
       "      <td>0.020482</td>\n",
       "      <td>0.015587</td>\n",
       "      <td>-0.004672</td>\n",
       "    </tr>\n",
       "    <tr>\n",
       "      <th>2</th>\n",
       "      <td>0.005440</td>\n",
       "      <td>-0.014218</td>\n",
       "      <td>-0.010466</td>\n",
       "      <td>0.000000</td>\n",
       "      <td>0.007774</td>\n",
       "    </tr>\n",
       "    <tr>\n",
       "      <th>3</th>\n",
       "      <td>0.016144</td>\n",
       "      <td>0.014218</td>\n",
       "      <td>0.000000</td>\n",
       "      <td>0.002896</td>\n",
       "      <td>-0.001550</td>\n",
       "    </tr>\n",
       "    <tr>\n",
       "      <th>4</th>\n",
       "      <td>-0.012534</td>\n",
       "      <td>-0.014218</td>\n",
       "      <td>-0.003328</td>\n",
       "      <td>-0.021433</td>\n",
       "      <td>0.006699</td>\n",
       "    </tr>\n",
       "    <tr>\n",
       "      <th>...</th>\n",
       "      <td>...</td>\n",
       "      <td>...</td>\n",
       "      <td>...</td>\n",
       "      <td>...</td>\n",
       "      <td>...</td>\n",
       "    </tr>\n",
       "    <tr>\n",
       "      <th>2603</th>\n",
       "      <td>0.007116</td>\n",
       "      <td>0.012270</td>\n",
       "      <td>-0.017196</td>\n",
       "      <td>-0.027929</td>\n",
       "      <td>0.032430</td>\n",
       "    </tr>\n",
       "    <tr>\n",
       "      <th>2604</th>\n",
       "      <td>0.045812</td>\n",
       "      <td>-0.037271</td>\n",
       "      <td>-0.033235</td>\n",
       "      <td>0.010619</td>\n",
       "      <td>-0.023878</td>\n",
       "    </tr>\n",
       "    <tr>\n",
       "      <th>2605</th>\n",
       "      <td>-0.012114</td>\n",
       "      <td>-0.017880</td>\n",
       "      <td>0.045830</td>\n",
       "      <td>0.034117</td>\n",
       "      <td>0.046980</td>\n",
       "    </tr>\n",
       "    <tr>\n",
       "      <th>2606</th>\n",
       "      <td>-0.016126</td>\n",
       "      <td>-0.023469</td>\n",
       "      <td>-0.007273</td>\n",
       "      <td>-0.002503</td>\n",
       "      <td>-0.005284</td>\n",
       "    </tr>\n",
       "    <tr>\n",
       "      <th>2607</th>\n",
       "      <td>0.029181</td>\n",
       "      <td>0.010499</td>\n",
       "      <td>0.018409</td>\n",
       "      <td>0.001252</td>\n",
       "      <td>-0.001325</td>\n",
       "    </tr>\n",
       "  </tbody>\n",
       "</table>\n",
       "<p>2608 rows × 5 columns</p>\n",
       "</div>"
      ],
      "text/plain": [
       "      Microsoft  Credit Suisse    Boeing  Coca Cola      Nike\n",
       "0      0.014337       0.014218 -0.027036   0.018331 -0.003102\n",
       "1     -0.021584       0.000000  0.020482   0.015587 -0.004672\n",
       "2      0.005440      -0.014218 -0.010466   0.000000  0.007774\n",
       "3      0.016144       0.014218  0.000000   0.002896 -0.001550\n",
       "4     -0.012534      -0.014218 -0.003328  -0.021433  0.006699\n",
       "...         ...            ...       ...        ...       ...\n",
       "2603   0.007116       0.012270 -0.017196  -0.027929  0.032430\n",
       "2604   0.045812      -0.037271 -0.033235   0.010619 -0.023878\n",
       "2605  -0.012114      -0.017880  0.045830   0.034117  0.046980\n",
       "2606  -0.016126      -0.023469 -0.007273  -0.002503 -0.005284\n",
       "2607   0.029181       0.010499  0.018409   0.001252 -0.001325\n",
       "\n",
       "[2608 rows x 5 columns]"
      ]
     },
     "execution_count": 8,
     "metadata": {},
     "output_type": "execute_result"
    }
   ],
   "source": [
    "# Compute the daily return for each stock (log) in data frame type\n",
    "daily_return_log_df = pd.DataFrame(daily_return_log, columns = ['Microsoft','Credit Suisse' ,'Boeing' ,'Coca Cola' ,'Nike'])\n",
    "daily_return_log_df"
   ]
  },
  {
   "cell_type": "markdown",
   "metadata": {},
   "source": [
    "## EXERCICE 1.2"
   ]
  },
  {
   "cell_type": "code",
   "execution_count": 9,
   "metadata": {},
   "outputs": [],
   "source": [
    "# Calculate the sum of the daily returns for each stock (arithmetic)\n",
    "daily_return_ari_sum = sum(daily_return_ari[:,0:])\n",
    "\n",
    "# Calculate the sum of the daily returns for each stock (log)\n",
    "daily_return_log_sum = sum(daily_return_log[:,0:])"
   ]
  },
  {
   "cell_type": "code",
   "execution_count": 10,
   "metadata": {},
   "outputs": [],
   "source": [
    "# Calculate the whole return for each stock (arithmetic)\n",
    "data_first = np.array(df.iloc[:,1:])[0]\n",
    "data_last = np.array(df.iloc[:,1:])[-1]\n",
    "whole_return_ari = (data_last - data_first)/data_first\n",
    "\n",
    "# Calculate the whole return for each stock (log)\n",
    "whole_return_log = np.log(data_last/data_first)"
   ]
  },
  {
   "cell_type": "code",
   "execution_count": 11,
   "metadata": {},
   "outputs": [
    {
     "data": {
      "text/html": [
       "<div>\n",
       "<style scoped>\n",
       "    .dataframe tbody tr th:only-of-type {\n",
       "        vertical-align: middle;\n",
       "    }\n",
       "\n",
       "    .dataframe tbody tr th {\n",
       "        vertical-align: top;\n",
       "    }\n",
       "\n",
       "    .dataframe thead th {\n",
       "        text-align: right;\n",
       "    }\n",
       "</style>\n",
       "<table border=\"1\" class=\"dataframe\">\n",
       "  <thead>\n",
       "    <tr style=\"text-align: right;\">\n",
       "      <th></th>\n",
       "      <th>Microsoft</th>\n",
       "      <th>Credit Suisse</th>\n",
       "      <th>Boeing</th>\n",
       "      <th>Coca Cola</th>\n",
       "      <th>Nike</th>\n",
       "    </tr>\n",
       "  </thead>\n",
       "  <tbody>\n",
       "    <tr>\n",
       "      <th>daily</th>\n",
       "      <td>2.998090</td>\n",
       "      <td>-0.481085</td>\n",
       "      <td>1.070421</td>\n",
       "      <td>1.249556</td>\n",
       "      <td>1.593748</td>\n",
       "    </tr>\n",
       "    <tr>\n",
       "      <th>whole</th>\n",
       "      <td>8.602888</td>\n",
       "      <td>-0.542959</td>\n",
       "      <td>0.671203</td>\n",
       "      <td>1.397000</td>\n",
       "      <td>1.335570</td>\n",
       "    </tr>\n",
       "  </tbody>\n",
       "</table>\n",
       "</div>"
      ],
      "text/plain": [
       "       Microsoft  Credit Suisse    Boeing  Coca Cola      Nike\n",
       "daily   2.998090      -0.481085  1.070421   1.249556  1.593748\n",
       "whole   8.602888      -0.542959  0.671203   1.397000  1.335570"
      ]
     },
     "execution_count": 11,
     "metadata": {},
     "output_type": "execute_result"
    }
   ],
   "source": [
    "# Compare the sum of daily returns with the whole return (arithmetic) in data frame type\n",
    "compare_ar = pd.DataFrame(np.array([daily_return_ari_sum, whole_return_ari]), columns = ['Microsoft','Credit Suisse' ,'Boeing' ,'Coca Cola' ,'Nike'], index = ['daily', 'whole'])\n",
    "compare_ar"
   ]
  },
  {
   "cell_type": "code",
   "execution_count": 12,
   "metadata": {},
   "outputs": [
    {
     "data": {
      "text/html": [
       "<div>\n",
       "<style scoped>\n",
       "    .dataframe tbody tr th:only-of-type {\n",
       "        vertical-align: middle;\n",
       "    }\n",
       "\n",
       "    .dataframe tbody tr th {\n",
       "        vertical-align: top;\n",
       "    }\n",
       "\n",
       "    .dataframe thead th {\n",
       "        text-align: right;\n",
       "    }\n",
       "</style>\n",
       "<table border=\"1\" class=\"dataframe\">\n",
       "  <thead>\n",
       "    <tr style=\"text-align: right;\">\n",
       "      <th></th>\n",
       "      <th>Microsoft</th>\n",
       "      <th>Credit Suisse</th>\n",
       "      <th>Boeing</th>\n",
       "      <th>Coca Cola</th>\n",
       "      <th>Nike</th>\n",
       "    </tr>\n",
       "  </thead>\n",
       "  <tbody>\n",
       "    <tr>\n",
       "      <th>daily</th>\n",
       "      <td>2.262064</td>\n",
       "      <td>-0.782983</td>\n",
       "      <td>0.513544</td>\n",
       "      <td>0.874218</td>\n",
       "      <td>0.848256</td>\n",
       "    </tr>\n",
       "    <tr>\n",
       "      <th>whole</th>\n",
       "      <td>2.262064</td>\n",
       "      <td>-0.782983</td>\n",
       "      <td>0.513544</td>\n",
       "      <td>0.874218</td>\n",
       "      <td>0.848256</td>\n",
       "    </tr>\n",
       "  </tbody>\n",
       "</table>\n",
       "</div>"
      ],
      "text/plain": [
       "       Microsoft  Credit Suisse    Boeing  Coca Cola      Nike\n",
       "daily   2.262064      -0.782983  0.513544   0.874218  0.848256\n",
       "whole   2.262064      -0.782983  0.513544   0.874218  0.848256"
      ]
     },
     "execution_count": 12,
     "metadata": {},
     "output_type": "execute_result"
    }
   ],
   "source": [
    "# Compare the sum of daily returns with the whole return (log) in data frame type\n",
    "\n",
    "compare_log = pd.DataFrame(np.array([daily_return_log_sum, whole_return_log]), columns = ['Microsoft','Credit Suisse' ,'Boeing' ,'Coca Cola' ,'Nike'], index = ['daily', 'whole'])\n",
    "compare_log"
   ]
  },
  {
   "cell_type": "markdown",
   "metadata": {},
   "source": [
    "For the logarithm part, we can see the sum of the daily return is equal to the whole return. But not for the arithmetic part. This is a property and an advantage of the logarithm."
   ]
  },
  {
   "cell_type": "markdown",
   "metadata": {},
   "source": [
    "# Exercice 2"
   ]
  },
  {
   "cell_type": "markdown",
   "metadata": {},
   "source": [
    "We used only Microsoft for this exercice"
   ]
  },
  {
   "cell_type": "code",
   "execution_count": 13,
   "metadata": {},
   "outputs": [
    {
     "name": "stdout",
     "output_type": "stream",
     "text": [
      "\n",
      "Microsoft\n",
      "                            OLS Regression Results                            \n",
      "==============================================================================\n",
      "Dep. Variable:                      y   R-squared:                       0.001\n",
      "Model:                            OLS   Adj. R-squared:                 -0.000\n",
      "Method:                 Least Squares   F-statistic:                    0.6891\n",
      "Date:                Wed, 08 Dec 2021   Prob (F-statistic):              0.502\n",
      "Time:                        00:20:37   Log-Likelihood:                 6048.6\n",
      "No. Observations:                2606   AIC:                        -1.209e+04\n",
      "Df Residuals:                    2603   BIC:                        -1.207e+04\n",
      "Df Model:                           2                                         \n",
      "Covariance Type:            nonrobust                                         \n",
      "==============================================================================\n",
      "                 coef    std err          t      P>|t|      [0.025      0.975]\n",
      "------------------------------------------------------------------------------\n",
      "const          0.0012      0.000      2.547      0.011       0.000       0.002\n",
      "x1            -0.0106      0.020     -0.541      0.589      -0.049       0.028\n",
      "x2            -0.0205      0.020     -1.047      0.295      -0.059       0.018\n",
      "==============================================================================\n",
      "Omnibus:                      261.580   Durbin-Watson:                   2.001\n",
      "Prob(Omnibus):                  0.000   Jarque-Bera (JB):             1932.756\n",
      "Skew:                           0.118   Prob(JB):                         0.00\n",
      "Kurtosis:                       7.212   Cond. No.                         42.3\n",
      "==============================================================================\n",
      "\n",
      "Notes:\n",
      "[1] Standard Errors assume that the covariance matrix of the errors is correctly specified.\n",
      "\n",
      "Credit Suisse\n",
      "                            OLS Regression Results                            \n",
      "==============================================================================\n",
      "Dep. Variable:                      y   R-squared:                       0.027\n",
      "Model:                            OLS   Adj. R-squared:                  0.027\n",
      "Method:                 Least Squares   F-statistic:                     36.80\n",
      "Date:                Wed, 08 Dec 2021   Prob (F-statistic):           1.74e-16\n",
      "Time:                        00:20:37   Log-Likelihood:                 7248.9\n",
      "No. Observations:                2606   AIC:                        -1.449e+04\n",
      "Df Residuals:                    2603   BIC:                        -1.447e+04\n",
      "Df Model:                           2                                         \n",
      "Covariance Type:            nonrobust                                         \n",
      "==============================================================================\n",
      "                 coef    std err          t      P>|t|      [0.025      0.975]\n",
      "------------------------------------------------------------------------------\n",
      "const         -0.0002      0.000     -0.802      0.423      -0.001       0.000\n",
      "x1            -0.1541      0.020     -7.892      0.000      -0.192      -0.116\n",
      "x2            -0.0869      0.020     -4.447      0.000      -0.125      -0.049\n",
      "==============================================================================\n",
      "Omnibus:                      614.253   Durbin-Watson:                   2.014\n",
      "Prob(Omnibus):                  0.000   Jarque-Bera (JB):            30984.017\n",
      "Skew:                           0.147   Prob(JB):                         0.00\n",
      "Kurtosis:                      19.890   Cond. No.                         71.0\n",
      "==============================================================================\n",
      "\n",
      "Notes:\n",
      "[1] Standard Errors assume that the covariance matrix of the errors is correctly specified.\n",
      "\n",
      "Boeing\n",
      "                            OLS Regression Results                            \n",
      "==============================================================================\n",
      "Dep. Variable:                      y   R-squared:                       0.004\n",
      "Model:                            OLS   Adj. R-squared:                  0.003\n",
      "Method:                 Least Squares   F-statistic:                     4.706\n",
      "Date:                Wed, 08 Dec 2021   Prob (F-statistic):            0.00912\n",
      "Time:                        00:20:37   Log-Likelihood:                 6425.5\n",
      "No. Observations:                2606   AIC:                        -1.284e+04\n",
      "Df Residuals:                    2603   BIC:                        -1.283e+04\n",
      "Df Model:                           2                                         \n",
      "Covariance Type:            nonrobust                                         \n",
      "==============================================================================\n",
      "                 coef    std err          t      P>|t|      [0.025      0.975]\n",
      "------------------------------------------------------------------------------\n",
      "const          0.0004      0.000      1.060      0.289      -0.000       0.001\n",
      "x1             0.0214      0.020      1.095      0.274      -0.017       0.060\n",
      "x2            -0.0565      0.020     -2.887      0.004      -0.095      -0.018\n",
      "==============================================================================\n",
      "Omnibus:                      436.113   Durbin-Watson:                   2.001\n",
      "Prob(Omnibus):                  0.000   Jarque-Bera (JB):             5369.232\n",
      "Skew:                          -0.394   Prob(JB):                         0.00\n",
      "Kurtosis:                       9.988   Cond. No.                         49.0\n",
      "==============================================================================\n",
      "\n",
      "Notes:\n",
      "[1] Standard Errors assume that the covariance matrix of the errors is correctly specified.\n",
      "\n",
      "Coca Cola\n",
      "                            OLS Regression Results                            \n",
      "==============================================================================\n",
      "Dep. Variable:                      y   R-squared:                       0.003\n",
      "Model:                            OLS   Adj. R-squared:                  0.002\n",
      "Method:                 Least Squares   F-statistic:                     3.888\n",
      "Date:                Wed, 08 Dec 2021   Prob (F-statistic):             0.0206\n",
      "Time:                        00:20:37   Log-Likelihood:                 6929.7\n",
      "No. Observations:                2606   AIC:                        -1.385e+04\n",
      "Df Residuals:                    2603   BIC:                        -1.384e+04\n",
      "Df Model:                           2                                         \n",
      "Covariance Type:            nonrobust                                         \n",
      "==============================================================================\n",
      "                 coef    std err          t      P>|t|      [0.025      0.975]\n",
      "------------------------------------------------------------------------------\n",
      "const          0.0005      0.000      1.427      0.154      -0.000       0.001\n",
      "x1             0.0304      0.020      1.552      0.121      -0.008       0.069\n",
      "x2            -0.0462      0.020     -2.362      0.018      -0.085      -0.008\n",
      "==============================================================================\n",
      "Omnibus:                      207.514   Durbin-Watson:                   2.001\n",
      "Prob(Omnibus):                  0.000   Jarque-Bera (JB):             1184.410\n",
      "Skew:                           0.051   Prob(JB):                    6.44e-258\n",
      "Kurtosis:                       6.301   Cond. No.                         59.8\n",
      "==============================================================================\n",
      "\n",
      "Notes:\n",
      "[1] Standard Errors assume that the covariance matrix of the errors is correctly specified.\n"
     ]
    }
   ],
   "source": [
    "companie = ['Microsoft','Credit Suisse' ,'Boeing' ,'Coca Cola' ,'Nike']\n",
    "for i in range(0, 4):\n",
    "    variables = np.column_stack((daily_return_ari[1:-1, i], daily_return_ari[0:-2, i]))\n",
    "    x = sm.add_constant(variables)\n",
    "    y = daily_return_ari[2:, i]\n",
    "    reg1 = sm.OLS(endog = y, exog = x, missing = 'drop')\n",
    "    results = reg1.fit()\n",
    "    print()\n",
    "    print(companie[i])\n",
    "    print(results.summary())"
   ]
  },
  {
   "cell_type": "markdown",
   "metadata": {},
   "source": [
    "# Exercice 3"
   ]
  },
  {
   "cell_type": "markdown",
   "metadata": {},
   "source": [
    "## Exercice 3.1"
   ]
  },
  {
   "cell_type": "code",
   "execution_count": 14,
   "metadata": {},
   "outputs": [],
   "source": [
    "mu_hat_total = []\n",
    "sigma_hat_total = []\n",
    "for i in range(0,5):\n",
    "    mu_hat, sigma_hat = stats.norm.fit(daily_return_ari[:,i])\n",
    "    mu_hat_total.append(mu_hat)\n",
    "    sigma_hat_total.append(sigma_hat)"
   ]
  },
  {
   "cell_type": "code",
   "execution_count": 15,
   "metadata": {},
   "outputs": [],
   "source": [
    "norm_fit = pd.DataFrame([mu_hat_total, sigma_hat_total], columns = ['Microsoft','Credit Suisse' ,'Boeing' ,'Coca Cola' ,'Nike'], index = ['Mean', 'Sd'])"
   ]
  },
  {
   "cell_type": "code",
   "execution_count": 16,
   "metadata": {},
   "outputs": [
    {
     "data": {
      "text/html": [
       "<div>\n",
       "<style scoped>\n",
       "    .dataframe tbody tr th:only-of-type {\n",
       "        vertical-align: middle;\n",
       "    }\n",
       "\n",
       "    .dataframe tbody tr th {\n",
       "        vertical-align: top;\n",
       "    }\n",
       "\n",
       "    .dataframe thead th {\n",
       "        text-align: right;\n",
       "    }\n",
       "</style>\n",
       "<table border=\"1\" class=\"dataframe\">\n",
       "  <thead>\n",
       "    <tr style=\"text-align: right;\">\n",
       "      <th></th>\n",
       "      <th>Microsoft</th>\n",
       "      <th>Credit Suisse</th>\n",
       "      <th>Boeing</th>\n",
       "      <th>Coca Cola</th>\n",
       "      <th>Nike</th>\n",
       "    </tr>\n",
       "  </thead>\n",
       "  <tbody>\n",
       "    <tr>\n",
       "      <th>Mean</th>\n",
       "      <td>0.001150</td>\n",
       "      <td>-0.000184</td>\n",
       "      <td>0.000410</td>\n",
       "      <td>0.000479</td>\n",
       "      <td>0.000611</td>\n",
       "    </tr>\n",
       "    <tr>\n",
       "      <th>Sd</th>\n",
       "      <td>0.023757</td>\n",
       "      <td>0.015194</td>\n",
       "      <td>0.020596</td>\n",
       "      <td>0.016965</td>\n",
       "      <td>0.023874</td>\n",
       "    </tr>\n",
       "  </tbody>\n",
       "</table>\n",
       "</div>"
      ],
      "text/plain": [
       "      Microsoft  Credit Suisse    Boeing  Coca Cola      Nike\n",
       "Mean   0.001150      -0.000184  0.000410   0.000479  0.000611\n",
       "Sd     0.023757       0.015194  0.020596   0.016965  0.023874"
      ]
     },
     "execution_count": 16,
     "metadata": {},
     "output_type": "execute_result"
    }
   ],
   "source": [
    "norm_fit"
   ]
  },
  {
   "cell_type": "markdown",
   "metadata": {},
   "source": [
    "## Exercice 3.2"
   ]
  },
  {
   "cell_type": "code",
   "execution_count": 17,
   "metadata": {},
   "outputs": [],
   "source": [
    "mean_ = []\n",
    "var_ = []\n",
    "skew_ = []\n",
    "kurt_ = []\n",
    "for i in range(0,5):\n",
    "    mean_.append(statistics.mean(daily_return_ari_df.iloc[:,i]))\n",
    "    var_.append(statistics.variance(daily_return_ari_df.iloc[:,i]))\n",
    "    skew_.append(stats.skew(daily_return_ari_df.iloc[:,i]))\n",
    "    kurt_.append(stats.kurtosis(daily_return_ari_df.iloc[:,i], fisher = False))\n",
    "    \n",
    "centered_mom = pd.DataFrame([mean_, var_, skew_, kurt_], columns = ['Microsoft','Credit Suisse' ,'Boeing' ,'Coca Cola' ,'Nike'], index = ['Mean', 'Variance', 'Skewness', 'Kurtosis'])"
   ]
  },
  {
   "cell_type": "code",
   "execution_count": 18,
   "metadata": {},
   "outputs": [
    {
     "data": {
      "text/html": [
       "<div>\n",
       "<style scoped>\n",
       "    .dataframe tbody tr th:only-of-type {\n",
       "        vertical-align: middle;\n",
       "    }\n",
       "\n",
       "    .dataframe tbody tr th {\n",
       "        vertical-align: top;\n",
       "    }\n",
       "\n",
       "    .dataframe thead th {\n",
       "        text-align: right;\n",
       "    }\n",
       "</style>\n",
       "<table border=\"1\" class=\"dataframe\">\n",
       "  <thead>\n",
       "    <tr style=\"text-align: right;\">\n",
       "      <th></th>\n",
       "      <th>Microsoft</th>\n",
       "      <th>Credit Suisse</th>\n",
       "      <th>Boeing</th>\n",
       "      <th>Coca Cola</th>\n",
       "      <th>Nike</th>\n",
       "    </tr>\n",
       "  </thead>\n",
       "  <tbody>\n",
       "    <tr>\n",
       "      <th>Mean</th>\n",
       "      <td>0.001150</td>\n",
       "      <td>-0.000184</td>\n",
       "      <td>0.000410</td>\n",
       "      <td>0.000479</td>\n",
       "      <td>0.000611</td>\n",
       "    </tr>\n",
       "    <tr>\n",
       "      <th>Variance</th>\n",
       "      <td>0.000565</td>\n",
       "      <td>0.000231</td>\n",
       "      <td>0.000424</td>\n",
       "      <td>0.000288</td>\n",
       "      <td>0.000570</td>\n",
       "    </tr>\n",
       "    <tr>\n",
       "      <th>Skewness</th>\n",
       "      <td>0.127559</td>\n",
       "      <td>0.000530</td>\n",
       "      <td>-0.357708</td>\n",
       "      <td>0.061767</td>\n",
       "      <td>-0.055516</td>\n",
       "    </tr>\n",
       "    <tr>\n",
       "      <th>Kurtosis</th>\n",
       "      <td>7.172731</td>\n",
       "      <td>20.093120</td>\n",
       "      <td>9.915576</td>\n",
       "      <td>6.322332</td>\n",
       "      <td>9.165505</td>\n",
       "    </tr>\n",
       "  </tbody>\n",
       "</table>\n",
       "</div>"
      ],
      "text/plain": [
       "          Microsoft  Credit Suisse    Boeing  Coca Cola      Nike\n",
       "Mean       0.001150      -0.000184  0.000410   0.000479  0.000611\n",
       "Variance   0.000565       0.000231  0.000424   0.000288  0.000570\n",
       "Skewness   0.127559       0.000530 -0.357708   0.061767 -0.055516\n",
       "Kurtosis   7.172731      20.093120  9.915576   6.322332  9.165505"
      ]
     },
     "execution_count": 18,
     "metadata": {},
     "output_type": "execute_result"
    }
   ],
   "source": [
    "centered_mom"
   ]
  },
  {
   "cell_type": "code",
   "execution_count": 19,
   "metadata": {},
   "outputs": [
    {
     "data": {
      "text/html": [
       "<div>\n",
       "<style scoped>\n",
       "    .dataframe tbody tr th:only-of-type {\n",
       "        vertical-align: middle;\n",
       "    }\n",
       "\n",
       "    .dataframe tbody tr th {\n",
       "        vertical-align: top;\n",
       "    }\n",
       "\n",
       "    .dataframe thead th {\n",
       "        text-align: right;\n",
       "    }\n",
       "</style>\n",
       "<table border=\"1\" class=\"dataframe\">\n",
       "  <thead>\n",
       "    <tr style=\"text-align: right;\">\n",
       "      <th></th>\n",
       "      <th>Microsoft</th>\n",
       "      <th>Credit Suisse</th>\n",
       "      <th>Boeing</th>\n",
       "      <th>Coca Cola</th>\n",
       "      <th>Nike</th>\n",
       "    </tr>\n",
       "  </thead>\n",
       "  <tbody>\n",
       "    <tr>\n",
       "      <th>Normal Fit</th>\n",
       "      <td>0.00115</td>\n",
       "      <td>-0.000184</td>\n",
       "      <td>0.00041</td>\n",
       "      <td>0.000479</td>\n",
       "      <td>0.000611</td>\n",
       "    </tr>\n",
       "    <tr>\n",
       "      <th>Centered mom.</th>\n",
       "      <td>0.00115</td>\n",
       "      <td>-0.000184</td>\n",
       "      <td>0.00041</td>\n",
       "      <td>0.000479</td>\n",
       "      <td>0.000611</td>\n",
       "    </tr>\n",
       "  </tbody>\n",
       "</table>\n",
       "</div>"
      ],
      "text/plain": [
       "               Microsoft  Credit Suisse   Boeing  Coca Cola      Nike\n",
       "Normal Fit       0.00115      -0.000184  0.00041   0.000479  0.000611\n",
       "Centered mom.    0.00115      -0.000184  0.00041   0.000479  0.000611"
      ]
     },
     "execution_count": 19,
     "metadata": {},
     "output_type": "execute_result"
    }
   ],
   "source": [
    "compare_mean = pd.DataFrame([mu_hat_total, mean_], columns = ['Microsoft','Credit Suisse' ,'Boeing' ,'Coca Cola' ,'Nike'], index = ['Normal Fit', 'Centered mom.'])\n",
    "compare_mean"
   ]
  },
  {
   "cell_type": "code",
   "execution_count": 20,
   "metadata": {},
   "outputs": [
    {
     "data": {
      "text/html": [
       "<div>\n",
       "<style scoped>\n",
       "    .dataframe tbody tr th:only-of-type {\n",
       "        vertical-align: middle;\n",
       "    }\n",
       "\n",
       "    .dataframe tbody tr th {\n",
       "        vertical-align: top;\n",
       "    }\n",
       "\n",
       "    .dataframe thead th {\n",
       "        text-align: right;\n",
       "    }\n",
       "</style>\n",
       "<table border=\"1\" class=\"dataframe\">\n",
       "  <thead>\n",
       "    <tr style=\"text-align: right;\">\n",
       "      <th></th>\n",
       "      <th>Microsoft</th>\n",
       "      <th>Credit Suisse</th>\n",
       "      <th>Boeing</th>\n",
       "      <th>Coca Cola</th>\n",
       "      <th>Nike</th>\n",
       "    </tr>\n",
       "  </thead>\n",
       "  <tbody>\n",
       "    <tr>\n",
       "      <th>Normal Fit</th>\n",
       "      <td>0.023757</td>\n",
       "      <td>0.015194</td>\n",
       "      <td>0.020596</td>\n",
       "      <td>0.016965</td>\n",
       "      <td>0.023874</td>\n",
       "    </tr>\n",
       "    <tr>\n",
       "      <th>Centered mom.</th>\n",
       "      <td>0.023762</td>\n",
       "      <td>0.015197</td>\n",
       "      <td>0.020600</td>\n",
       "      <td>0.016968</td>\n",
       "      <td>0.023878</td>\n",
       "    </tr>\n",
       "  </tbody>\n",
       "</table>\n",
       "</div>"
      ],
      "text/plain": [
       "               Microsoft  Credit Suisse    Boeing  Coca Cola      Nike\n",
       "Normal Fit      0.023757       0.015194  0.020596   0.016965  0.023874\n",
       "Centered mom.   0.023762       0.015197  0.020600   0.016968  0.023878"
      ]
     },
     "execution_count": 20,
     "metadata": {},
     "output_type": "execute_result"
    }
   ],
   "source": [
    "compare_sd = pd.DataFrame([sigma_hat_total, np.sqrt(np.array(var_))], columns = ['Microsoft','Credit Suisse' ,'Boeing' ,'Coca Cola' ,'Nike'], index = ['Normal Fit', 'Centered mom.'])\n",
    "compare_sd\n"
   ]
  },
  {
   "cell_type": "markdown",
   "metadata": {},
   "source": [
    "## Exercice 3.3\n"
   ]
  },
  {
   "cell_type": "code",
   "execution_count": 21,
   "metadata": {},
   "outputs": [],
   "source": [
    "Cov_mat = np.cov(daily_return_ari_df, rowvar = False)"
   ]
  },
  {
   "cell_type": "code",
   "execution_count": 22,
   "metadata": {},
   "outputs": [
    {
     "data": {
      "text/html": [
       "<div>\n",
       "<style scoped>\n",
       "    .dataframe tbody tr th:only-of-type {\n",
       "        vertical-align: middle;\n",
       "    }\n",
       "\n",
       "    .dataframe tbody tr th {\n",
       "        vertical-align: top;\n",
       "    }\n",
       "\n",
       "    .dataframe thead th {\n",
       "        text-align: right;\n",
       "    }\n",
       "</style>\n",
       "<table border=\"1\" class=\"dataframe\">\n",
       "  <thead>\n",
       "    <tr style=\"text-align: right;\">\n",
       "      <th></th>\n",
       "      <th>Microsoft</th>\n",
       "      <th>Credit Suisse</th>\n",
       "      <th>Boeing</th>\n",
       "      <th>Coca Cola</th>\n",
       "      <th>Nike</th>\n",
       "    </tr>\n",
       "  </thead>\n",
       "  <tbody>\n",
       "    <tr>\n",
       "      <th>Microsoft</th>\n",
       "      <td>0.000565</td>\n",
       "      <td>0.000038</td>\n",
       "      <td>0.000104</td>\n",
       "      <td>0.000068</td>\n",
       "      <td>0.000106</td>\n",
       "    </tr>\n",
       "    <tr>\n",
       "      <th>Credit Suisse</th>\n",
       "      <td>0.000038</td>\n",
       "      <td>0.000231</td>\n",
       "      <td>0.000045</td>\n",
       "      <td>0.000022</td>\n",
       "      <td>0.000035</td>\n",
       "    </tr>\n",
       "    <tr>\n",
       "      <th>Boeing</th>\n",
       "      <td>0.000104</td>\n",
       "      <td>0.000045</td>\n",
       "      <td>0.000424</td>\n",
       "      <td>0.000073</td>\n",
       "      <td>0.000092</td>\n",
       "    </tr>\n",
       "    <tr>\n",
       "      <th>Coca Cola</th>\n",
       "      <td>0.000068</td>\n",
       "      <td>0.000022</td>\n",
       "      <td>0.000073</td>\n",
       "      <td>0.000288</td>\n",
       "      <td>0.000071</td>\n",
       "    </tr>\n",
       "    <tr>\n",
       "      <th>Nike</th>\n",
       "      <td>0.000106</td>\n",
       "      <td>0.000035</td>\n",
       "      <td>0.000092</td>\n",
       "      <td>0.000071</td>\n",
       "      <td>0.000570</td>\n",
       "    </tr>\n",
       "  </tbody>\n",
       "</table>\n",
       "</div>"
      ],
      "text/plain": [
       "               Microsoft  Credit Suisse    Boeing  Coca Cola      Nike\n",
       "Microsoft       0.000565       0.000038  0.000104   0.000068  0.000106\n",
       "Credit Suisse   0.000038       0.000231  0.000045   0.000022  0.000035\n",
       "Boeing          0.000104       0.000045  0.000424   0.000073  0.000092\n",
       "Coca Cola       0.000068       0.000022  0.000073   0.000288  0.000071\n",
       "Nike            0.000106       0.000035  0.000092   0.000071  0.000570"
      ]
     },
     "execution_count": 22,
     "metadata": {},
     "output_type": "execute_result"
    }
   ],
   "source": [
    "Cov_mat_df = pd.DataFrame(Cov_mat, columns = ['Microsoft','Credit Suisse' ,'Boeing' ,'Coca Cola' ,'Nike'], index = ['Microsoft','Credit Suisse' ,'Boeing' ,'Coca Cola' ,'Nike'])\n",
    "Cov_mat_df"
   ]
  },
  {
   "cell_type": "markdown",
   "metadata": {},
   "source": [
    "We can see that there is no (few) linearly dependance between companies' returns."
   ]
  },
  {
   "cell_type": "markdown",
   "metadata": {},
   "source": [
    "## Exercice 3.4"
   ]
  },
  {
   "cell_type": "code",
   "execution_count": 23,
   "metadata": {},
   "outputs": [
    {
     "name": "stdout",
     "output_type": "stream",
     "text": [
      "Microsoft (Left: Data - Right: Normal simulated)\n",
      "\n",
      "Mean: 0.00115, 0.00135\n",
      "Variance: 0.00056, 0.00057\n",
      "Skewness: 0.12756, -0.06924\n",
      "Kurtosis: 7.17273, 3.09020\n",
      "\n",
      "Credit Suisse (Left: Data - Right: Normal simulated)\n",
      "\n",
      "Mean: -0.00018, -0.00004\n",
      "Variance: 0.00023, 0.00023\n",
      "Skewness: 0.00053, -0.00703\n",
      "Kurtosis: 20.09312, 2.99253\n",
      "\n",
      "Boeing (Left: Data - Right: Normal simulated)\n",
      "\n",
      "Mean: 0.00041, -0.00031\n",
      "Variance: 0.00042, 0.00042\n",
      "Skewness: -0.35771, -0.06721\n",
      "Kurtosis: 9.91558, 3.01403\n",
      "\n",
      "Coca Cola (Left: Data - Right: Normal simulated)\n",
      "\n",
      "Mean: 0.00048, 0.00034\n",
      "Variance: 0.00029, 0.00028\n",
      "Skewness: 0.06177, -0.03045\n",
      "Kurtosis: 6.32233, 2.96976\n",
      "\n",
      "Nike (Left: Data - Right: Normal simulated)\n",
      "\n",
      "Mean: 0.00061, 0.00048\n",
      "Variance: 0.00057, 0.00057\n",
      "Skewness: -0.05552, -0.04504\n",
      "Kurtosis: 9.16550, 2.86564\n",
      "\n"
     ]
    }
   ],
   "source": [
    "companie = ['Microsoft','Credit Suisse' ,'Boeing' ,'Coca Cola' ,'Nike']\n",
    "for i in range(0,5):\n",
    "    simulation = np.random.normal(mu_hat_total[i], sigma_hat_total[i], 5000)\n",
    "    print(companie[i], '(Left: Data - Right: Normal simulated)')\n",
    "    print()\n",
    "    print('Mean: %.5f, %.5f' % (mean_[i], statistics.mean(simulation)))\n",
    "    print('Variance: %.5f, %.5f' % (var_[i], statistics.variance(simulation)))\n",
    "    print('Skewness: %.5f, %.5f' % (skew_[i], stats.skew(simulation)))\n",
    "    print('Kurtosis: %.5f, %.5f' % (kurt_[i], stats.kurtosis(simulation, fisher = False)))\n",
    "    print()"
   ]
  },
  {
   "cell_type": "markdown",
   "metadata": {},
   "source": [
    "Comment: Even if the mean, the variance and the skewness (not for every companies) are similar, because of the kurtosis, we can see that the returns are not following a normal distribution."
   ]
  },
  {
   "cell_type": "markdown",
   "metadata": {},
   "source": [
    "# Exercice 4"
   ]
  },
  {
   "cell_type": "code",
   "execution_count": 24,
   "metadata": {},
   "outputs": [],
   "source": [
    "number_of_bloc = math.floor(len(daily_return_ari_df)/500)\n",
    "mean_by_bloc = np.ones(number_of_bloc)\n",
    "var_by_bloc = np.ones(number_of_bloc)\n",
    "skew_by_bloc = np.ones(number_of_bloc)\n",
    "kurt_by_bloc = np.ones(number_of_bloc)"
   ]
  },
  {
   "cell_type": "code",
   "execution_count": 25,
   "metadata": {},
   "outputs": [
    {
     "name": "stdout",
     "output_type": "stream",
     "text": [
      "Microsoft\n",
      "Means:  [ 0.00063723  0.00177815  0.00280947  0.00101724 -0.00034287]\n",
      "Variances:  [0.00033988 0.00039845 0.00038994 0.00078267 0.00083382]\n",
      "Skewness:  [ 0.13785497 -0.02876188  0.40495714 -0.47520247  0.70014676]\n",
      "Kurtosis:  [3.62642647 4.04164113 4.34197077 6.14947181 8.66363664]\n",
      "\n",
      "Credit Suisse\n",
      "Means:  [-2.26037510e-04  4.06724196e-04  7.92359666e-05 -4.48820621e-04\n",
      " -5.40180315e-05]\n",
      "Variances:  [0.0001929  0.00016747 0.00010143 0.00024894 0.0003125 ]\n",
      "Skewness:  [-0.7187362  -0.0654893  -0.51800909 -0.12362837  1.4927527 ]\n",
      "Kurtosis:  [ 7.17127485  2.75642728  5.89336914 24.13898361 30.82996177]\n",
      "\n",
      "Boeing\n",
      "Means:  [ 3.97731672e-04  1.60352937e-03 -3.63959378e-05  3.03980498e-04\n",
      "  4.80226405e-04]\n",
      "Variances:  [0.00017873 0.00022409 0.00038123 0.0006509  0.00061695]\n",
      "Skewness:  [ 0.75040713  0.44906005 -0.57836824  0.01676647 -0.93301869]\n",
      "Kurtosis:  [ 6.75289353  3.57092906 12.55702548  7.86383665  8.97453934]\n",
      "\n",
      "Coca Cola\n",
      "Means:  [ 4.70775879e-04  1.56318893e-03  1.09549014e-03 -4.58033301e-04\n",
      "  9.23439117e-05]\n",
      "Variances:  [0.00015171 0.0001409  0.00025214 0.00054835 0.00030315]\n",
      "Skewness:  [ 0.37387572 -0.1287524   0.36601345  0.20483848  0.0661082 ]\n",
      "Kurtosis:  [4.04771165 3.46428587 4.70783937 4.9098877  5.30912891]\n",
      "\n",
      "Nike\n",
      "Means:  [-3.32901950e-04  2.69309624e-03 -6.72395502e-05  1.14246437e-04\n",
      "  1.06995985e-03]\n",
      "Variances:  [0.00036338 0.00027425 0.00050545 0.00107802 0.00062208]\n",
      "Skewness:  [-0.31525416  0.72601521 -0.00733029  0.35687822 -1.07228671]\n",
      "Kurtosis:  [ 6.52935014  4.99573714  8.41984554  6.57116774 11.27608872]\n",
      "\n"
     ]
    }
   ],
   "source": [
    "for i in companie:\n",
    "    for j in range(0,number_of_bloc):\n",
    "        mean_by_bloc[j] = statistics.mean(daily_return_ari_df[i][j*500:(j+1)*500])\n",
    "        var_by_bloc[j] = statistics.variance(daily_return_ari_df[i][j*500:(j+1)*500])\n",
    "        skew_by_bloc[j] = stats.skew(daily_return_ari_df[i][j*500:(j+1)*500])\n",
    "        kurt_by_bloc[j] = stats.kurtosis(daily_return_ari_df[i][j*500:(j+1)*500], fisher = False)\n",
    "    print(i)\n",
    "    print('Means: ', mean_by_bloc)\n",
    "    print('Variances: ', var_by_bloc)\n",
    "    print('Skewness: ', skew_by_bloc)\n",
    "    print('Kurtosis: ', kurt_by_bloc)\n",
    "    print()\n",
    "    "
   ]
  },
  {
   "cell_type": "markdown",
   "metadata": {},
   "source": [
    "We can see that the returns differ across the periods (sometimes higher return, sometime lower returns)."
   ]
  },
  {
   "cell_type": "markdown",
   "metadata": {},
   "source": [
    "# Exercice 5"
   ]
  },
  {
   "cell_type": "code",
   "execution_count": 26,
   "metadata": {},
   "outputs": [],
   "source": [
    "def moments(x):\n",
    "    from scipy import stats\n",
    "    import statistics\n",
    "    print(\"Mean :\", statistics.mean(x))\n",
    "    print(\"Variance :\", statistics.variance(x))\n",
    "    print(\"Skewness :\", stats.skew(x))\n",
    "    print(\"Kurtosis :\", stats.kurtosis(x, fisher = False))"
   ]
  },
  {
   "cell_type": "code",
   "execution_count": 27,
   "metadata": {},
   "outputs": [
    {
     "name": "stdout",
     "output_type": "stream",
     "text": [
      "Mean : 0.0011495742339471034\n",
      "Variance : 0.0005646352145123674\n",
      "Skewness : 0.12755925387046377\n",
      "Kurtosis : 7.172730500164688\n"
     ]
    }
   ],
   "source": [
    "moments(daily_return_ari_df['Microsoft'])"
   ]
  },
  {
   "cell_type": "markdown",
   "metadata": {},
   "source": [
    "Yes it makes sense to expect a non-normal distribution because of the kurtosis, which often exceeds 3."
   ]
  },
  {
   "cell_type": "code",
   "execution_count": null,
   "metadata": {},
   "outputs": [],
   "source": []
  }
 ],
 "metadata": {
  "kernelspec": {
   "display_name": "Python 3",
   "language": "python",
   "name": "python3"
  },
  "language_info": {
   "codemirror_mode": {
    "name": "ipython",
    "version": 3
   },
   "file_extension": ".py",
   "mimetype": "text/x-python",
   "name": "python",
   "nbconvert_exporter": "python",
   "pygments_lexer": "ipython3",
   "version": "3.7.4"
  }
 },
 "nbformat": 4,
 "nbformat_minor": 4
}
