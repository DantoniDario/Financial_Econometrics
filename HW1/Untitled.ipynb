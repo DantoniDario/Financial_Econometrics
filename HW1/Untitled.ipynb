{
 "cells": [
  {
   "cell_type": "code",
   "execution_count": 1,
   "metadata": {},
   "outputs": [
    {
     "name": "stdout",
     "output_type": "stream",
     "text": [
      "Collecting package metadata (current_repodata.json): done\n",
      "Solving environment: failed with initial frozen solve. Retrying with flexible solve.\n",
      "Collecting package metadata (repodata.json): done\n",
      "Solving environment: failed with initial frozen solve. Retrying with flexible solve.\n",
      "\n",
      "PackagesNotFoundError: The following packages are not available from current channels:\n",
      "\n",
      "  - arch\n",
      "\n",
      "Current channels:\n",
      "\n",
      "  - https://conda.anaconda.org/conda-forge/linux-64\n",
      "  - https://conda.anaconda.org/conda-forge/noarch\n",
      "  - https://repo.anaconda.com/pkgs/main/linux-64\n",
      "  - https://repo.anaconda.com/pkgs/main/noarch\n",
      "  - https://repo.anaconda.com/pkgs/r/linux-64\n",
      "  - https://repo.anaconda.com/pkgs/r/noarch\n",
      "\n",
      "To search for alternate channels that may provide the conda package you're\n",
      "looking for, navigate to\n",
      "\n",
      "    https://anaconda.org\n",
      "\n",
      "and use the search bar at the top of the page.\n",
      "\n",
      "\n",
      "\n",
      "Note: you may need to restart the kernel to use updated packages.\n"
     ]
    }
   ],
   "source": [
    "conda install arch"
   ]
  },
  {
   "cell_type": "code",
   "execution_count": 2,
   "metadata": {},
   "outputs": [
    {
     "name": "stdout",
     "output_type": "stream",
     "text": [
      "Collecting arch\n",
      "  Downloading arch-4.15-cp38-cp38-manylinux1_x86_64.whl (787 kB)\n",
      "\u001b[K     |████████████████████████████████| 787 kB 16.0 MB/s eta 0:00:01\n",
      "\u001b[?25hCollecting cython>=0.29.14\n",
      "  Downloading Cython-0.29.21-cp38-cp38-manylinux1_x86_64.whl (1.9 MB)\n",
      "\u001b[K     |████████████████████████████████| 1.9 MB 24.1 MB/s eta 0:00:01\n",
      "\u001b[?25hRequirement already satisfied: statsmodels>=0.9 in /dhlib/lib/python3.8/site-packages (from arch) (0.11.1)\n",
      "Collecting property-cached>=1.6.3\n",
      "  Downloading property_cached-1.6.4-py2.py3-none-any.whl (7.8 kB)\n",
      "Requirement already satisfied: scipy>=1.0.1 in /dhlib/lib/python3.8/site-packages (from arch) (1.5.2)\n",
      "Requirement already satisfied: pandas>=0.23 in /dhlib/lib/python3.8/site-packages (from arch) (1.0.5)\n",
      "Requirement already satisfied: numpy>=1.14 in /dhlib/lib/python3.8/site-packages (from arch) (1.18.5)\n",
      "Requirement already satisfied: patsy>=0.5 in /dhlib/lib/python3.8/site-packages (from statsmodels>=0.9->arch) (0.5.1)\n",
      "Requirement already satisfied: pytz>=2017.2 in /dhlib/lib/python3.8/site-packages (from pandas>=0.23->arch) (2020.1)\n",
      "Requirement already satisfied: python-dateutil>=2.6.1 in /dhlib/lib/python3.8/site-packages (from pandas>=0.23->arch) (2.8.1)\n",
      "Requirement already satisfied: six in /dhlib/lib/python3.8/site-packages (from patsy>=0.5->statsmodels>=0.9->arch) (1.15.0)\n",
      "Installing collected packages: cython, property-cached, arch\n",
      "Successfully installed arch-4.15 cython-0.29.21 property-cached-1.6.4\n",
      "Note: you may need to restart the kernel to use updated packages.\n"
     ]
    }
   ],
   "source": [
    "pip install arch"
   ]
  },
  {
   "cell_type": "code",
   "execution_count": null,
   "metadata": {},
   "outputs": [],
   "source": []
  }
 ],
 "metadata": {
  "kernelspec": {
   "display_name": "Python 3",
   "language": "python",
   "name": "python3"
  },
  "language_info": {
   "codemirror_mode": {
    "name": "ipython",
    "version": 3
   },
   "file_extension": ".py",
   "mimetype": "text/x-python",
   "name": "python",
   "nbconvert_exporter": "python",
   "pygments_lexer": "ipython3",
   "version": "3.7.4"
  }
 },
 "nbformat": 4,
 "nbformat_minor": 4
}
