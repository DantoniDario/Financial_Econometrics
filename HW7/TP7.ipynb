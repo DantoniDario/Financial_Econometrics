{
 "cells": [
  {
   "cell_type": "code",
   "execution_count": 1,
   "metadata": {},
   "outputs": [],
   "source": [
    "# import packages\n",
    "import pandas as pd\n",
    "import math\n",
    "import numpy as np\n",
    "#import statsmodels.api as sm\n",
    "from scipy import stats\n",
    "import statistics\n",
    "#import plotly.graph_objects as go\n",
    "from scipy.stats import norm\n",
    "#from plotly.subplots import make_subplots\n",
    "#from sklearn.neighbors import KernelDensity\n",
    "from scipy import optimize"
   ]
  },
  {
   "cell_type": "code",
   "execution_count": 2,
   "metadata": {},
   "outputs": [],
   "source": [
    "# Load the market prices\n",
    "df = pd.read_excel(\"/Users/dantoni/HW7/FIREDAT.xls\", header=None)\n",
    "df.columns = ['Date','DKK']"
   ]
  },
  {
   "cell_type": "markdown",
   "metadata": {},
   "source": [
    "## Fitting a Generalized Pareto Distribution"
   ]
  },
  {
   "cell_type": "markdown",
   "metadata": {},
   "source": [
    "### 1."
   ]
  },
  {
   "cell_type": "code",
   "execution_count": 3,
   "metadata": {},
   "outputs": [],
   "source": [
    "u1 = 10*10**6\n",
    "u2 = 20*10**6\n",
    "\n",
    "pos1 = df['DKK']>u1\n",
    "z1 = df['DKK'][pos1]\n",
    "pos2 = df['DKK']>u2\n",
    "z2 = df['DKK'][pos2]\n",
    "\n",
    "m1 = statistics.mean(z1)\n",
    "S_21 = np.var(z1)\n",
    "m2 = statistics.mean(z2)\n",
    "S_22 = np.var(z2)\n",
    "\n",
    "ksi1 = (1 - ((m1 - u1)**2)/S_21)/2\n",
    "sigma_hat1 = ((m1 - u1) / 2) * (((m1 - u1)**2) / S_21 + 1)\n",
    "\n",
    "ksi2 = (1 - ((m2 - u2)**2)/S_22)/2\n",
    "sigma_hat2 = ((m2 - u2) / 2) * (((m2 - u2)**2) / S_22 + 1)"
   ]
  },
  {
   "cell_type": "code",
   "execution_count": 4,
   "metadata": {},
   "outputs": [],
   "source": [
    "def GDPLogLikelihood(param, y):\n",
    "    ksi_ = param[0]\n",
    "    sigma_ = param[1]\n",
    "    fct = (1 + (ksi_ * y)/sigma_)**-((1 + ksi_)/ ksi_)/sigma_\n",
    "    return - np.sum(np.log(fct))"
   ]
  },
  {
   "cell_type": "code",
   "execution_count": 5,
   "metadata": {},
   "outputs": [
    {
     "name": "stdout",
     "output_type": "stream",
     "text": [
      "Optimization terminated successfully.\n",
      "         Current function value: 2181.333358\n",
      "         Iterations: 67\n",
      "         Function evaluations: 154\n",
      "Optimization terminated successfully.\n",
      "         Current function value: 798.206316\n",
      "         Iterations: 79\n",
      "         Function evaluations: 175\n"
     ]
    }
   ],
   "source": [
    "obs1 = z1.values - u1\n",
    "obs2 = z2.values - u2\n",
    "\n",
    "guesses1 = np.array([ksi1, sigma_hat1])\n",
    "guesses2 = np.array([ksi2, sigma_hat2])\n",
    "\n",
    "estimates_param1 = optimize.fmin(func = GDPLogLikelihood, x0 = guesses1, args = (obs1,))\n",
    "estimates_param2 = optimize.fmin(func = GDPLogLikelihood, x0 = guesses2, args = (obs2,))"
   ]
  },
  {
   "cell_type": "code",
   "execution_count": 6,
   "metadata": {},
   "outputs": [],
   "source": [
    "ksi1_est, sigma1_est = estimates_param1\n",
    "ksi2_est, sigma2_est = estimates_param2"
   ]
  },
  {
   "cell_type": "code",
   "execution_count": 7,
   "metadata": {},
   "outputs": [
    {
     "name": "stdout",
     "output_type": "stream",
     "text": [
      "For u = 10000000 : \n",
      "\n",
      "MM ksi / sigma:  0.3679452428005136 / 8883665.258412506 \n",
      "MLE ksi / sigma:  0.41483173557597164 / 8019108.368398156\n",
      "\n",
      "For u = 20000000 : \n",
      "\n",
      "MM ksi / sigma:  0.34314657562860407 / 14580369.363902751 \n",
      "MLE ksi / sigma:  0.5286889452917001 / 10954152.382569399\n"
     ]
    }
   ],
   "source": [
    "print('For u =', u1, ': ')\n",
    "print()\n",
    "print('MM ksi / sigma: ',ksi1,'/',sigma_hat1, '\\nMLE ksi / sigma: ',ksi1_est,'/', sigma1_est)\n",
    "print()\n",
    "print('For u =', u2, ': ')\n",
    "print()\n",
    "print('MM ksi / sigma: ',ksi2,'/',sigma_hat2, '\\nMLE ksi / sigma: ',ksi2_est,'/', sigma2_est)"
   ]
  },
  {
   "cell_type": "code",
   "execution_count": 8,
   "metadata": {},
   "outputs": [],
   "source": [
    "# We will use MM parameters\n",
    "\n",
    "p1 = statistics.mean(df['DKK'] <= u1)\n",
    "p2 = statistics.mean(df['DKK'] <= u2)\n",
    "\n",
    "sigma_tilda1 = sigma_hat1 * (1 - p1)**ksi1\n",
    "sigma_tilda2 = sigma_hat2 * (1 - p2)**ksi2\n",
    "\n",
    "mu_tilda1 = u1 - (sigma_tilda1 * ((1 - p1)**-ksi1 - 1)) / ksi1\n",
    "mu_tilda2 = u2 - (sigma_tilda2 * ((1 - p2)**-ksi2 - 1)) / ksi2"
   ]
  },
  {
   "cell_type": "markdown",
   "metadata": {},
   "source": [
    "## Computing the VaR and ES"
   ]
  },
  {
   "cell_type": "markdown",
   "metadata": {},
   "source": [
    "### 1."
   ]
  },
  {
   "cell_type": "code",
   "execution_count": 9,
   "metadata": {},
   "outputs": [],
   "source": [
    "p = 0.99\n",
    "\n",
    "VaR1 = mu_tilda1 + sigma_tilda1/ksi1 * ((1 - p)**(-ksi1) - 1)\n",
    "ES1 = VaR1 * (1 / (1 - ksi1) + (sigma_hat1 - ksi1 * u1) / ((1 - ksi1) * VaR1))\n",
    "\n",
    "\n",
    "VaR2 = mu_tilda2 + sigma_tilda2/ksi2 * ((1 - p)**(-ksi2) - 1)\n",
    "ES2 = VaR2 * (1 / (1 - ksi2) + (sigma_hat2 - ksi2 * u2) / ((1 - ksi2) * VaR2))"
   ]
  },
  {
   "cell_type": "code",
   "execution_count": 10,
   "metadata": {},
   "outputs": [
    {
     "name": "stdout",
     "output_type": "stream",
     "text": [
      "For u = 10000000 : \n",
      "\n",
      "VaR:  35320366.77604337 \n",
      "ES:  64115615.213478334\n",
      "\n",
      "For u = 20000000 : \n",
      "\n",
      "VaR:  35765460.9461749 \n",
      "ES:  66198785.27560148\n"
     ]
    }
   ],
   "source": [
    "print('For u =', u1, ': ')\n",
    "print()\n",
    "print('VaR: ',VaR1, '\\nES: ',ES1)\n",
    "print()\n",
    "print('For u =', u2, ': ')\n",
    "print()\n",
    "print('VaR: ',VaR2, '\\nES: ',ES2)"
   ]
  },
  {
   "cell_type": "markdown",
   "metadata": {},
   "source": [
    "### 2."
   ]
  },
  {
   "cell_type": "code",
   "execution_count": 11,
   "metadata": {},
   "outputs": [],
   "source": [
    "# With normal assumption and kernel estimation\n",
    "losses = df['DKK']\n",
    "mu = statistics.mean(losses)\n",
    "sigma = statistics.variance(losses)"
   ]
  },
  {
   "cell_type": "code",
   "execution_count": 12,
   "metadata": {},
   "outputs": [],
   "source": [
    "# Not sure if we have to take all the data set or just the one above the threshold\n",
    "# Under Gaussian assumption\n",
    "VaR_gaussian0 = mu + math.sqrt(sigma)*stats.norm.ppf(0.99)"
   ]
  },
  {
   "cell_type": "code",
   "execution_count": 13,
   "metadata": {},
   "outputs": [
    {
     "name": "stdout",
     "output_type": "stream",
     "text": [
      "Gaussian case : \n",
      "VaR:  25768910.005169176\n"
     ]
    }
   ],
   "source": [
    "print('Gaussian case : \\nVaR: ',VaR_gaussian0)"
   ]
  },
  {
   "cell_type": "code",
   "execution_count": 14,
   "metadata": {},
   "outputs": [],
   "source": [
    "def gaussianVaR(VaR, obs, bandwidth, alpha):\n",
    "    return (np.mean(stats.norm.cdf((obs - VaR)/bandwidth))-alpha)**2"
   ]
  },
  {
   "cell_type": "code",
   "execution_count": 15,
   "metadata": {},
   "outputs": [],
   "source": [
    "obs = np.array(losses)\n",
    "bandwidth = pow(len(losses), -0.2) * pow(statistics.variance(losses), 0.5)\n",
    "alpha = 0.01\n",
    "guesses5 = VaR_gaussian0"
   ]
  },
  {
   "cell_type": "code",
   "execution_count": 16,
   "metadata": {},
   "outputs": [
    {
     "name": "stdout",
     "output_type": "stream",
     "text": [
      "Optimization terminated successfully.\n",
      "         Current function value: 0.000000\n",
      "         Iterations: 39\n",
      "         Function evaluations: 78\n"
     ]
    }
   ],
   "source": [
    "estimates_Var0 = optimize.fmin(func = gaussianVaR, x0 = guesses5, args = (obs, bandwidth, alpha,))"
   ]
  },
  {
   "cell_type": "code",
   "execution_count": 17,
   "metadata": {},
   "outputs": [
    {
     "name": "stdout",
     "output_type": "stream",
     "text": [
      "Kernel case : \n",
      "VaR:  34582394.083543375\n"
     ]
    }
   ],
   "source": [
    "print('Kernel case : \\nVaR: ',estimates_Var0[0])"
   ]
  },
  {
   "cell_type": "code",
   "execution_count": null,
   "metadata": {},
   "outputs": [],
   "source": []
  }
 ],
 "metadata": {
  "kernelspec": {
   "display_name": "Python 3",
   "language": "python",
   "name": "python3"
  },
  "language_info": {
   "codemirror_mode": {
    "name": "ipython",
    "version": 3
   },
   "file_extension": ".py",
   "mimetype": "text/x-python",
   "name": "python",
   "nbconvert_exporter": "python",
   "pygments_lexer": "ipython3",
   "version": "3.7.4"
  }
 },
 "nbformat": 4,
 "nbformat_minor": 4
}
