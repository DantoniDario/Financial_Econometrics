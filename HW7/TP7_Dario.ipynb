{
 "cells": [
  {
   "cell_type": "code",
   "execution_count": 1,
   "metadata": {},
   "outputs": [],
   "source": [
    "# import packages\n",
    "import pandas as pd\n",
    "import math\n",
    "import numpy as np\n",
    "#import statsmodels.api as sm\n",
    "from scipy import stats\n",
    "import statistics\n",
    "#import plotly.graph_objects as go\n",
    "from scipy.stats import norm\n",
    "#from plotly.subplots import make_subplots\n",
    "#from sklearn.neighbors import KernelDensity\n",
    "from scipy import optimize"
   ]
  },
  {
   "cell_type": "code",
   "execution_count": 2,
   "metadata": {},
   "outputs": [],
   "source": [
    "# Load the market prices\n",
    "df = pd.read_excel(\"/files/exercises/Homeworks/HW7/FIREDAT.xls\", header=None)\n",
    "df.columns = ['Date','DKK']"
   ]
  },
  {
   "cell_type": "markdown",
   "metadata": {},
   "source": [
    "## Fitting a Generalized Pareto Distribution"
   ]
  },
  {
   "cell_type": "code",
   "execution_count": 3,
   "metadata": {},
   "outputs": [],
   "source": [
    "u1 = 10*10**6\n",
    "u2 = 20*10**6\n",
    "\n",
    "pos1 = df['DKK']>u1\n",
    "z1 = df['DKK'][pos1] - u1\n",
    "pos2 = df['DKK']>u2\n",
    "z2 = df['DKK'][pos2] - u2\n",
    "\n",
    "m1 = statistics.mean(z1)\n",
    "S_21 = statistics.variance(z1)\n",
    "m2 = statistics.mean(z2)\n",
    "S_22 = statistics.variance(z2)\n",
    "\n",
    "ksi1 = (1 - ((m1 - u1)**2)/S_21)/2\n",
    "sigma_hat1 = ((m1 - u1) / 2) * (((m1 - u1)**2) / S_21 + 1)\n",
    "\n",
    "ksi2 = (1 - ((m2 - u2)**2)/S_22)/2\n",
    "sigma_hat2 = ((m2 - u2) / 2) * (((m2 - u2)**2) / S_22 + 1)"
   ]
  },
  {
   "cell_type": "code",
   "execution_count": 34,
   "metadata": {},
   "outputs": [],
   "source": [
    "def GDPLogLikelihood(param, y):\n",
    "    fct = (1 + param[0] * y)**-((1 + param[0])/ param[0])/param[1]\n",
    "    return np.sum(np.log(fct))"
   ]
  },
  {
   "cell_type": "code",
   "execution_count": 35,
   "metadata": {},
   "outputs": [
    {
     "name": "stdout",
     "output_type": "stream",
     "text": [
      "Warning: Maximum number of function evaluations has been exceeded.\n",
      "Warning: Maximum number of function evaluations has been exceeded.\n"
     ]
    },
    {
     "name": "stderr",
     "output_type": "stream",
     "text": [
      "<ipython-input-34-4599922b44e5>:2: RuntimeWarning: invalid value encountered in power\n",
      "  fct = (1 + param[0] * y)**-((1 + param[0])/ param[0])/param[1]\n",
      "<ipython-input-34-4599922b44e5>:3: RuntimeWarning: divide by zero encountered in log\n",
      "  return np.sum(np.log(fct))\n"
     ]
    }
   ],
   "source": [
    "obs1 = z1.values\n",
    "obs2 = z2.values\n",
    "\n",
    "guesses1 = np.array([ksi1, sigma_hat1])\n",
    "guesses2 = np.array([ksi2, sigma_hat2])\n",
    "\n",
    "estimates_param1 = optimize.fmin(func = GDPLogLikelihood, x0 = guesses1, args = (obs1,))\n",
    "estimates_param2 = optimize.fmin(func = GDPLogLikelihood, x0 = guesses2, args = (obs2,))"
   ]
  },
  {
   "cell_type": "code",
   "execution_count": 36,
   "metadata": {},
   "outputs": [],
   "source": [
    "ksi1_est, sigma1_est = estimates_param1\n",
    "ksi2_est, sigma2_est = estimates_param2"
   ]
  },
  {
   "cell_type": "code",
   "execution_count": 37,
   "metadata": {},
   "outputs": [
    {
     "name": "stdout",
     "output_type": "stream",
     "text": [
      "For u = 10000000 : \n",
      "\n",
      "MM ksi / sigma:  0.48909448342069217 / 2071831.5157296795 \n",
      "MLE ksi / sigma:  0.01834104312827539 / 3761669.0957466913\n",
      "\n",
      "For u = 20000000 : \n",
      "\n",
      "MM ksi / sigma:  0.4984971665058604 / 1101949.7688230718 \n",
      "MLE ksi / sigma:  0.01869364374396998 / 2000727.5490193903\n"
     ]
    }
   ],
   "source": [
    "print('For u =', u1, ': ')\n",
    "print()\n",
    "print('MM ksi / sigma: ',ksi1,'/',sigma_hat1, '\\nMLE ksi / sigma: ',ksi1_est,'/', sigma1_est)\n",
    "print()\n",
    "print('For u =', u2, ': ')\n",
    "print()\n",
    "print('MM ksi / sigma: ',ksi2,'/',sigma_hat2, '\\nMLE ksi / sigma: ',ksi2_est,'/', sigma2_est)"
   ]
  },
  {
   "cell_type": "code",
   "execution_count": 8,
   "metadata": {},
   "outputs": [],
   "source": [
    "# We will use MM parameters\n",
    "\n",
    "p1 = statistics.mean(df['DKK'] <= u1)\n",
    "p2 = statistics.mean(df['DKK'] <= u2)\n",
    "\n",
    "sigma_tilda1 = sigma_hat1 * (1 - p1)**ksi1\n",
    "sigma_tilda2 = sigma_hat2 * (1 - p2)**ksi2\n",
    "\n",
    "mu_tilda1 = u1 - (sigma_tilda1 * ((1 - p1)**ksi1 - 1)) / ksi1\n",
    "mu_tilda2 = u2 - (sigma_tilda2 * ((1 - p2)**ksi2 - 1)) / ksi2"
   ]
  },
  {
   "cell_type": "markdown",
   "metadata": {},
   "source": [
    "## Computing the VaR and ES"
   ]
  },
  {
   "cell_type": "code",
   "execution_count": 9,
   "metadata": {},
   "outputs": [],
   "source": [
    "p = 0.01\n",
    "\n",
    "VaR1 = mu_tilda1 + sigma_tilda1/ksi1 * ((1 - p)**(-ksi1) - 1)\n",
    "ES1 = VaR1 * (1 / (1 - ksi1) + (sigma_hat1 - ksi1 * u1) / ((1 - ksi1) * VaR1))\n",
    "\n",
    "\n",
    "VaR2 = mu_tilda2 + sigma_tilda2/ksi2 * ((1 - p)**(-ksi2) - 1)\n",
    "ES2 = VaR2 * (1 / (1 - ksi2) + (sigma_hat2 - ksi2 * u2) / ((1 - ksi2) * VaR2))"
   ]
  },
  {
   "cell_type": "code",
   "execution_count": 10,
   "metadata": {},
   "outputs": [
    {
     "name": "stdout",
     "output_type": "stream",
     "text": [
      "1st VaR:  10846054.418208241 \n",
      "2nd VaR:  20297748.27793524\n"
     ]
    }
   ],
   "source": [
    "print('1st VaR: ',VaR1, '\\n2nd VaR: ',VaR2)"
   ]
  },
  {
   "cell_type": "code",
   "execution_count": 18,
   "metadata": {},
   "outputs": [],
   "source": [
    "# With normal assumption and kernel estimation\n",
    "losses = df['DKK']\n",
    "mu = statistics.mean(losses)\n",
    "sigma = statistics.variance(losses)"
   ]
  },
  {
   "cell_type": "code",
   "execution_count": 19,
   "metadata": {},
   "outputs": [],
   "source": [
    "# Not sure if we have to take all the data set or just the one above the threshold\n",
    "\n",
    "VaR_gaussian0 = - mu - math.sqrt(sigma)*stats.norm.ppf(0.01)\n",
    "VaR_gaussian1 = - m1 - math.sqrt(S_21)*stats.norm.ppf(0.01)\n",
    "VaR_gaussian2 = - m2 - math.sqrt(S_22)*stats.norm.ppf(0.01)"
   ]
  },
  {
   "cell_type": "code",
   "execution_count": 28,
   "metadata": {},
   "outputs": [
    {
     "name": "stdout",
     "output_type": "stream",
     "text": [
      "0th VaR:  17298310.12222603 (We like this one) \n",
      "1st VaR:  49822648.908226356 \n",
      "2nd VaR:  71040637.23970503\n"
     ]
    }
   ],
   "source": [
    "print('0th VaR: ',VaR_gaussian0, '(We like this one)','\\n1st VaR: ',VaR_gaussian1, '\\n2nd VaR: ',VaR_gaussian2)"
   ]
  },
  {
   "cell_type": "code",
   "execution_count": 14,
   "metadata": {},
   "outputs": [],
   "source": [
    "def gaussianVaR(VaR, obs, bandwidth, alpha):\n",
    "    return (np.mean(stats.norm.cdf((-VaR - obs)/bandwidth))-alpha)**2"
   ]
  },
  {
   "cell_type": "code",
   "execution_count": 23,
   "metadata": {},
   "outputs": [],
   "source": [
    "obs = np.array(losses)\n",
    "bandwidth = pow(len(losses), -0.2) * pow(statistics.variance(losses), 0.5)\n",
    "alpha = 0.01\n",
    "guesses3 = VaR_gaussian1\n",
    "guesses4 = VaR_gaussian2\n",
    "guesses5 = VaR_gaussian0"
   ]
  },
  {
   "cell_type": "code",
   "execution_count": 24,
   "metadata": {},
   "outputs": [
    {
     "name": "stdout",
     "output_type": "stream",
     "text": [
      "Optimization terminated successfully.\n",
      "         Current function value: 0.000000\n",
      "         Iterations: 42\n",
      "         Function evaluations: 84\n",
      "Optimization terminated successfully.\n",
      "         Current function value: 0.000100\n",
      "         Iterations: 36\n",
      "         Function evaluations: 107\n",
      "Optimization terminated successfully.\n",
      "         Current function value: 0.000100\n",
      "         Iterations: 37\n",
      "         Function evaluations: 110\n"
     ]
    }
   ],
   "source": [
    "estimates_Var0 = optimize.fmin(func = gaussianVaR, x0 = guesses5, args = (obs, bandwidth, alpha,))\n",
    "estimates_Var1 = optimize.fmin(func = gaussianVaR, x0 = guesses3, args = (obs, bandwidth, alpha,))\n",
    "estimates_Var2 = optimize.fmin(func = gaussianVaR, x0 = guesses4, args = (obs, bandwidth, alpha,))"
   ]
  },
  {
   "cell_type": "code",
   "execution_count": 29,
   "metadata": {},
   "outputs": [
    {
     "name": "stdout",
     "output_type": "stream",
     "text": [
      "0th VaR:  2950677.710089679 (We like this one) \n",
      "1st VaR:  49822648.908226356 \n",
      "2nd VaR:  71040637.23970503\n"
     ]
    }
   ],
   "source": [
    "print('0th VaR: ',estimates_Var0[0], '(We like this one)','\\n1st VaR: ',estimates_Var1[0], '\\n2nd VaR: ',estimates_Var2[0])"
   ]
  },
  {
   "cell_type": "code",
   "execution_count": null,
   "metadata": {},
   "outputs": [],
   "source": []
  }
 ],
 "metadata": {
  "kernelspec": {
   "display_name": "Python 3.8",
   "language": "python",
   "name": "datahub"
  },
  "language_info": {
   "codemirror_mode": {
    "name": "ipython",
    "version": 3
   },
   "file_extension": ".py",
   "mimetype": "text/x-python",
   "name": "python",
   "nbconvert_exporter": "python",
   "pygments_lexer": "ipython3",
   "version": "3.8.3"
  }
 },
 "nbformat": 4,
 "nbformat_minor": 4
}
