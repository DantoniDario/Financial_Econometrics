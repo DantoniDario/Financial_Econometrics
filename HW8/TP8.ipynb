{
 "cells": [
  {
   "cell_type": "code",
   "execution_count": 1,
   "metadata": {},
   "outputs": [],
   "source": [
    "# import packages\n",
    "#import pandas as pd\n",
    "import math\n",
    "import numpy as np\n",
    "#import statsmodels.api as sm\n",
    "from scipy import stats\n",
    "import statistics\n",
    "#import plotly.graph_objects as go\n",
    "#from scipy.stats import norm\n",
    "#from plotly.subplots import make_subplots\n",
    "#from sklearn.neighbors import KernelDensity\n",
    "#from scipy import optimize"
   ]
  },
  {
   "cell_type": "markdown",
   "metadata": {},
   "source": [
    "# The Delta Method"
   ]
  },
  {
   "cell_type": "markdown",
   "metadata": {},
   "source": [
    "## 1."
   ]
  },
  {
   "cell_type": "code",
   "execution_count": 2,
   "metadata": {},
   "outputs": [],
   "source": [
    "np.random.seed(0)\n",
    "simul = np.random.normal(1, 4, 100)"
   ]
  },
  {
   "cell_type": "markdown",
   "metadata": {},
   "source": [
    "## 2."
   ]
  },
  {
   "cell_type": "code",
   "execution_count": 3,
   "metadata": {},
   "outputs": [],
   "source": [
    "T = len(simul)\n",
    "mu = statistics.mean(simul)\n",
    "var = statistics.variance(simul)\n",
    "std = math.sqrt(var)\n",
    "\n",
    "SR_hat = mu/std"
   ]
  },
  {
   "cell_type": "markdown",
   "metadata": {},
   "source": [
    "## 3."
   ]
  },
  {
   "cell_type": "code",
   "execution_count": 4,
   "metadata": {},
   "outputs": [],
   "source": [
    "SIGMA = np.array([[std**2,0],[0, std**4]])\n",
    "deriv_g = np.array([[1/std, -mu/std**3/2]])\n",
    "var_SR = np.dot(np.dot(deriv_g, SIGMA), deriv_g.T)\n",
    "alpha = 0.05\n",
    "z = abs(stats.norm.ppf(alpha/2, 0, var_SR)[0,0])\n",
    "\n",
    "CI =[SR_hat - z/math.sqrt(T), SR_hat + z/math.sqrt(T)] "
   ]
  },
  {
   "cell_type": "code",
   "execution_count": 5,
   "metadata": {},
   "outputs": [
    {
     "name": "stdout",
     "output_type": "stream",
     "text": [
      "Delta Method:  [0.10526453182317333, 0.5064241550004103]\n"
     ]
    }
   ],
   "source": [
    "print('Delta Method: ', CI)"
   ]
  },
  {
   "cell_type": "code",
   "execution_count": 6,
   "metadata": {},
   "outputs": [],
   "source": [
    "# Other method: why they are not exactly equal? Here we used z of N(0,1) but we adapted the CI\n",
    "# for it...\n",
    "\n",
    "SIGMA_bis = np.array([[std**2,0],[0, std**4]])\n",
    "deriv_g_bis = np.array([[1/std, -mu/std**3/2]])\n",
    "var_SR_bis = np.dot(np.dot(deriv_g_bis, SIGMA_bis), deriv_g_bis.T)\n",
    "alpha_bis = 0.05\n",
    "z_bis = abs(stats.norm.ppf(alpha_bis/2))\n",
    "\n",
    "CI_bis =[SR_hat - z_bis*math.sqrt(var_SR_bis/T), SR_hat + z_bis*math.sqrt(var_SR_bis/T)] "
   ]
  },
  {
   "cell_type": "code",
   "execution_count": 7,
   "metadata": {},
   "outputs": [
    {
     "name": "stdout",
     "output_type": "stream",
     "text": [
      "Delta Method bis:  [0.10756948198465019, 0.5041192048389334]\n"
     ]
    }
   ],
   "source": [
    "print('Delta Method bis: ', CI_bis)"
   ]
  },
  {
   "cell_type": "markdown",
   "metadata": {},
   "source": [
    "# Bootstrap Confidence Interval"
   ]
  },
  {
   "cell_type": "markdown",
   "metadata": {},
   "source": [
    "## 1."
   ]
  },
  {
   "cell_type": "code",
   "execution_count": 8,
   "metadata": {},
   "outputs": [],
   "source": [
    "B = 2000\n",
    "samples = np.zeros((T, B))"
   ]
  },
  {
   "cell_type": "code",
   "execution_count": 9,
   "metadata": {},
   "outputs": [],
   "source": [
    "np.random.seed(1)\n",
    "for i in range(0,B):\n",
    "    samples[:, i] = simul[np.random.randint(T, size = T)]"
   ]
  },
  {
   "cell_type": "code",
   "execution_count": 10,
   "metadata": {},
   "outputs": [],
   "source": [
    "means_boot = np.mean(samples, axis = 0)\n",
    "variances_boot = np.var(samples, axis = 0)\n",
    "std_boot = np.sqrt(variances_boot)\n",
    "SR_boot = means_boot/std_boot"
   ]
  },
  {
   "cell_type": "markdown",
   "metadata": {},
   "source": [
    "## 2."
   ]
  },
  {
   "cell_type": "code",
   "execution_count": 11,
   "metadata": {},
   "outputs": [],
   "source": [
    "CI_boot = [2*SR_hat - np.quantile(SR_boot, 1-alpha/2), 2*SR_hat - np.quantile(SR_boot, alpha/2)]"
   ]
  },
  {
   "cell_type": "markdown",
   "metadata": {},
   "source": [
    "## 3."
   ]
  },
  {
   "cell_type": "code",
   "execution_count": 12,
   "metadata": {},
   "outputs": [
    {
     "name": "stdout",
     "output_type": "stream",
     "text": [
      "Delta Method:  [0.10526453182317333, 0.5064241550004103] \n",
      "Indep. Bootstrap:  [0.08571935206131231, 0.4999193136352459]\n"
     ]
    }
   ],
   "source": [
    "print('Delta Method: ', CI, '\\nIndep. Bootstrap: ', CI_boot)"
   ]
  },
  {
   "cell_type": "markdown",
   "metadata": {},
   "source": [
    "They look quite closed. We would say that Boostrap is a good approximation."
   ]
  },
  {
   "cell_type": "markdown",
   "metadata": {},
   "source": [
    "# Dependent Data: The Block Bootstrap"
   ]
  },
  {
   "cell_type": "markdown",
   "metadata": {},
   "source": [
    "## 1."
   ]
  },
  {
   "cell_type": "code",
   "execution_count": 13,
   "metadata": {},
   "outputs": [],
   "source": [
    "samples_2 = np.zeros((T, B))\n",
    "k = 10\n",
    "\n",
    "for i in range(0,B):\n",
    "    blocks = np.random.randint(int(T/10), size = int(T/k))\n",
    "    low = blocks*k\n",
    "    high = (blocks+1)*k\n",
    "    b1 = np.array(range(low[0], high[0]))\n",
    "    b2 = np.array(range(low[1], high[1]))\n",
    "    b3 = np.array(range(low[2], high[2]))\n",
    "    b4 = np.array(range(low[3], high[3]))\n",
    "    b5 = np.array(range(low[4], high[4]))\n",
    "    b6 = np.array(range(low[5], high[5]))\n",
    "    b7 = np.array(range(low[6], high[6]))\n",
    "    b8 = np.array(range(low[7], high[7]))\n",
    "    b9 = np.array(range(low[8], high[8]))\n",
    "    b10 = np.array(range(low[9], high[9]))\n",
    "    samples_2[:, i] = simul[np.array([b1, b2, b3, b4, b5, b6, b7, b8, b9, b10]).reshape(T)]"
   ]
  },
  {
   "cell_type": "code",
   "execution_count": 14,
   "metadata": {},
   "outputs": [],
   "source": [
    "means_boot2 = np.mean(samples_2, axis = 0)\n",
    "variances_boot2 = np.var(samples_2, axis = 0)\n",
    "std_boot2 = np.sqrt(variances_boot2)\n",
    "SR_boot2 = means_boot2/std_boot2"
   ]
  },
  {
   "cell_type": "markdown",
   "metadata": {},
   "source": [
    "## 2."
   ]
  },
  {
   "cell_type": "code",
   "execution_count": 15,
   "metadata": {},
   "outputs": [],
   "source": [
    "CI_boot2 = [2*SR_hat - np.quantile(SR_boot2, 1-alpha/2), 2*SR_hat - np.quantile(SR_boot2, alpha/2)]"
   ]
  },
  {
   "cell_type": "markdown",
   "metadata": {},
   "source": [
    "## 3."
   ]
  },
  {
   "cell_type": "code",
   "execution_count": 16,
   "metadata": {},
   "outputs": [
    {
     "name": "stdout",
     "output_type": "stream",
     "text": [
      "Delta Method:  [0.10526453182317333, 0.5064241550004103] \n",
      "Indep. Bootstrap:  [0.08571935206131231, 0.4999193136352459] \n",
      "Dep. Bootstrap:  [0.029804777126439252, 0.5672597293175453]\n"
     ]
    }
   ],
   "source": [
    "print('Delta Method: ', CI, '\\nIndep. Bootstrap: ', CI_boot, '\\nDep. Bootstrap: ', CI_boot2)"
   ]
  },
  {
   "cell_type": "markdown",
   "metadata": {},
   "source": [
    "Blocked bootstrap is wider."
   ]
  },
  {
   "cell_type": "code",
   "execution_count": null,
   "metadata": {},
   "outputs": [],
   "source": []
  }
 ],
 "metadata": {
  "kernelspec": {
   "display_name": "Python 3",
   "language": "python",
   "name": "python3"
  },
  "language_info": {
   "codemirror_mode": {
    "name": "ipython",
    "version": 3
   },
   "file_extension": ".py",
   "mimetype": "text/x-python",
   "name": "python",
   "nbconvert_exporter": "python",
   "pygments_lexer": "ipython3",
   "version": "3.7.4"
  }
 },
 "nbformat": 4,
 "nbformat_minor": 4
}
