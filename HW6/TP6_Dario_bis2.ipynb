{
 "cells": [
  {
   "cell_type": "code",
   "execution_count": 1,
   "metadata": {},
   "outputs": [],
   "source": [
    "# import packages\n",
    "import pandas as pd\n",
    "import math\n",
    "import numpy as np\n",
    "import statsmodels.api as sm\n",
    "from scipy import stats\n",
    "import statistics\n",
    "import plotly.graph_objects as go\n",
    "from scipy.stats import norm\n",
    "from plotly.subplots import make_subplots\n",
    "from sklearn.neighbors import KernelDensity\n",
    "from scipy import optimize"
   ]
  },
  {
   "cell_type": "code",
   "execution_count": 2,
   "metadata": {},
   "outputs": [],
   "source": [
    "data = pd.read_excel(\"/files/exercises/Homeworks/HW6/TP6.xls\", skiprows = 4)\n",
    "data = data.drop([0])\n",
    "data = data.drop('Name', axis = 1)\n",
    "data = data.astype(float)\n",
    "names_company = data.columns"
   ]
  },
  {
   "cell_type": "markdown",
   "metadata": {},
   "source": [
    "## Quantile estimation"
   ]
  },
  {
   "cell_type": "code",
   "execution_count": 3,
   "metadata": {},
   "outputs": [
    {
     "name": "stdout",
     "output_type": "stream",
     "text": [
      "Quantile 5% : -0.09334706228021589 \n",
      "Quantile 1% : -0.14053384957574752\n"
     ]
    }
   ],
   "source": [
    "quant_5 = np.quantile(data.iloc[:,0], 0.05)\n",
    "quant_1 = np.quantile(data.iloc[:,0], 0.01)\n",
    "print('Quantile 5% :', quant_5, '\\nQuantile 1% :', quant_1)"
   ]
  },
  {
   "cell_type": "markdown",
   "metadata": {},
   "source": [
    "## VaR estimation"
   ]
  },
  {
   "cell_type": "code",
   "execution_count": 4,
   "metadata": {},
   "outputs": [],
   "source": [
    "weights = np.array([np.repeat(0.1,10)])"
   ]
  },
  {
   "cell_type": "code",
   "execution_count": 5,
   "metadata": {},
   "outputs": [
    {
     "data": {
      "text/html": [
       "<div>\n",
       "<style scoped>\n",
       "    .dataframe tbody tr th:only-of-type {\n",
       "        vertical-align: middle;\n",
       "    }\n",
       "\n",
       "    .dataframe tbody tr th {\n",
       "        vertical-align: top;\n",
       "    }\n",
       "\n",
       "    .dataframe thead th {\n",
       "        text-align: right;\n",
       "    }\n",
       "</style>\n",
       "<table border=\"1\" class=\"dataframe\">\n",
       "  <thead>\n",
       "    <tr style=\"text-align: right;\">\n",
       "      <th></th>\n",
       "      <th>Portfolio</th>\n",
       "    </tr>\n",
       "  </thead>\n",
       "  <tbody>\n",
       "    <tr>\n",
       "      <th>0</th>\n",
       "      <td>0.025861</td>\n",
       "    </tr>\n",
       "    <tr>\n",
       "      <th>1</th>\n",
       "      <td>0.032298</td>\n",
       "    </tr>\n",
       "    <tr>\n",
       "      <th>2</th>\n",
       "      <td>0.011041</td>\n",
       "    </tr>\n",
       "    <tr>\n",
       "      <th>3</th>\n",
       "      <td>0.014583</td>\n",
       "    </tr>\n",
       "    <tr>\n",
       "      <th>4</th>\n",
       "      <td>0.003000</td>\n",
       "    </tr>\n",
       "    <tr>\n",
       "      <th>...</th>\n",
       "      <td>...</td>\n",
       "    </tr>\n",
       "    <tr>\n",
       "      <th>238</th>\n",
       "      <td>0.099928</td>\n",
       "    </tr>\n",
       "    <tr>\n",
       "      <th>239</th>\n",
       "      <td>0.012049</td>\n",
       "    </tr>\n",
       "    <tr>\n",
       "      <th>240</th>\n",
       "      <td>0.012102</td>\n",
       "    </tr>\n",
       "    <tr>\n",
       "      <th>241</th>\n",
       "      <td>0.014551</td>\n",
       "    </tr>\n",
       "    <tr>\n",
       "      <th>242</th>\n",
       "      <td>-0.021279</td>\n",
       "    </tr>\n",
       "  </tbody>\n",
       "</table>\n",
       "<p>243 rows × 1 columns</p>\n",
       "</div>"
      ],
      "text/plain": [
       "     Portfolio\n",
       "0     0.025861\n",
       "1     0.032298\n",
       "2     0.011041\n",
       "3     0.014583\n",
       "4     0.003000\n",
       "..         ...\n",
       "238   0.099928\n",
       "239   0.012049\n",
       "240   0.012102\n",
       "241   0.014551\n",
       "242  -0.021279\n",
       "\n",
       "[243 rows x 1 columns]"
      ]
     },
     "execution_count": 5,
     "metadata": {},
     "output_type": "execute_result"
    }
   ],
   "source": [
    "pf = pd.DataFrame(np.dot(weights, data.values.T).T, columns = ['Portfolio'])\n",
    "pf"
   ]
  },
  {
   "cell_type": "code",
   "execution_count": 6,
   "metadata": {},
   "outputs": [],
   "source": [
    "means = np.array([np.ones(10)])\n",
    "for i in range(0,10):\n",
    "    means[0,i] = stats.norm.fit(data.iloc[:,i].values)[0]"
   ]
  },
  {
   "cell_type": "code",
   "execution_count": 7,
   "metadata": {},
   "outputs": [
    {
     "data": {
      "text/html": [
       "<div>\n",
       "<style scoped>\n",
       "    .dataframe tbody tr th:only-of-type {\n",
       "        vertical-align: middle;\n",
       "    }\n",
       "\n",
       "    .dataframe tbody tr th {\n",
       "        vertical-align: top;\n",
       "    }\n",
       "\n",
       "    .dataframe thead th {\n",
       "        text-align: right;\n",
       "    }\n",
       "</style>\n",
       "<table border=\"1\" class=\"dataframe\">\n",
       "  <thead>\n",
       "    <tr style=\"text-align: right;\">\n",
       "      <th></th>\n",
       "      <th>Estim. mean</th>\n",
       "    </tr>\n",
       "  </thead>\n",
       "  <tbody>\n",
       "    <tr>\n",
       "      <th>AMER.EXPRESS</th>\n",
       "      <td>0.002125</td>\n",
       "    </tr>\n",
       "    <tr>\n",
       "      <th>AOL TIME WARNER</th>\n",
       "      <td>0.006818</td>\n",
       "    </tr>\n",
       "    <tr>\n",
       "      <th>AT &amp; T</th>\n",
       "      <td>-0.001802</td>\n",
       "    </tr>\n",
       "    <tr>\n",
       "      <th>BLACK &amp; DECKER</th>\n",
       "      <td>0.001037</td>\n",
       "    </tr>\n",
       "    <tr>\n",
       "      <th>COLGATE - PALM.</th>\n",
       "      <td>0.001985</td>\n",
       "    </tr>\n",
       "    <tr>\n",
       "      <th>FORD MOTOR</th>\n",
       "      <td>-0.002714</td>\n",
       "    </tr>\n",
       "    <tr>\n",
       "      <th>MCDONALDS</th>\n",
       "      <td>-0.000633</td>\n",
       "    </tr>\n",
       "    <tr>\n",
       "      <th>PFIZER</th>\n",
       "      <td>0.001445</td>\n",
       "    </tr>\n",
       "    <tr>\n",
       "      <th>TEXAS INSTS.</th>\n",
       "      <td>0.003713</td>\n",
       "    </tr>\n",
       "    <tr>\n",
       "      <th>WAL MART STORES</th>\n",
       "      <td>0.004473</td>\n",
       "    </tr>\n",
       "  </tbody>\n",
       "</table>\n",
       "</div>"
      ],
      "text/plain": [
       "                 Estim. mean\n",
       "AMER.EXPRESS        0.002125\n",
       "AOL TIME WARNER     0.006818\n",
       "AT & T             -0.001802\n",
       "BLACK & DECKER      0.001037\n",
       "COLGATE - PALM.     0.001985\n",
       "FORD MOTOR         -0.002714\n",
       "MCDONALDS          -0.000633\n",
       "PFIZER              0.001445\n",
       "TEXAS INSTS.        0.003713\n",
       "WAL MART STORES     0.004473"
      ]
     },
     "execution_count": 7,
     "metadata": {},
     "output_type": "execute_result"
    }
   ],
   "source": [
    "pd.DataFrame(means.T, index = names_company, columns = ['Estim. mean'])"
   ]
  },
  {
   "cell_type": "code",
   "execution_count": 8,
   "metadata": {},
   "outputs": [
    {
     "data": {
      "text/html": [
       "<div>\n",
       "<style scoped>\n",
       "    .dataframe tbody tr th:only-of-type {\n",
       "        vertical-align: middle;\n",
       "    }\n",
       "\n",
       "    .dataframe tbody tr th {\n",
       "        vertical-align: top;\n",
       "    }\n",
       "\n",
       "    .dataframe thead th {\n",
       "        text-align: right;\n",
       "    }\n",
       "</style>\n",
       "<table border=\"1\" class=\"dataframe\">\n",
       "  <thead>\n",
       "    <tr style=\"text-align: right;\">\n",
       "      <th></th>\n",
       "      <th>AMER.EXPRESS</th>\n",
       "      <th>AOL TIME WARNER</th>\n",
       "      <th>AT &amp; T</th>\n",
       "      <th>BLACK &amp; DECKER</th>\n",
       "      <th>COLGATE - PALM.</th>\n",
       "      <th>FORD MOTOR</th>\n",
       "      <th>MCDONALDS</th>\n",
       "      <th>PFIZER</th>\n",
       "      <th>TEXAS INSTS.</th>\n",
       "      <th>WAL MART STORES</th>\n",
       "    </tr>\n",
       "  </thead>\n",
       "  <tbody>\n",
       "    <tr>\n",
       "      <th>AMER.EXPRESS</th>\n",
       "      <td>0.003577</td>\n",
       "      <td>0.002002</td>\n",
       "      <td>0.001275</td>\n",
       "      <td>0.001368</td>\n",
       "      <td>0.000972</td>\n",
       "      <td>0.001493</td>\n",
       "      <td>0.000864</td>\n",
       "      <td>0.000968</td>\n",
       "      <td>0.001806</td>\n",
       "      <td>0.001452</td>\n",
       "    </tr>\n",
       "    <tr>\n",
       "      <th>AOL TIME WARNER</th>\n",
       "      <td>0.002002</td>\n",
       "      <td>0.008194</td>\n",
       "      <td>0.002115</td>\n",
       "      <td>0.000926</td>\n",
       "      <td>0.000208</td>\n",
       "      <td>0.001560</td>\n",
       "      <td>0.001164</td>\n",
       "      <td>0.001167</td>\n",
       "      <td>0.002718</td>\n",
       "      <td>0.001538</td>\n",
       "    </tr>\n",
       "    <tr>\n",
       "      <th>AT &amp; T</th>\n",
       "      <td>0.001275</td>\n",
       "      <td>0.002115</td>\n",
       "      <td>0.003846</td>\n",
       "      <td>0.000431</td>\n",
       "      <td>-0.000034</td>\n",
       "      <td>0.000832</td>\n",
       "      <td>0.000449</td>\n",
       "      <td>0.000317</td>\n",
       "      <td>0.001796</td>\n",
       "      <td>0.000930</td>\n",
       "    </tr>\n",
       "    <tr>\n",
       "      <th>BLACK &amp; DECKER</th>\n",
       "      <td>0.001368</td>\n",
       "      <td>0.000926</td>\n",
       "      <td>0.000431</td>\n",
       "      <td>0.003101</td>\n",
       "      <td>0.000768</td>\n",
       "      <td>0.001107</td>\n",
       "      <td>0.000757</td>\n",
       "      <td>0.000343</td>\n",
       "      <td>0.000951</td>\n",
       "      <td>0.001151</td>\n",
       "    </tr>\n",
       "    <tr>\n",
       "      <th>COLGATE - PALM.</th>\n",
       "      <td>0.000972</td>\n",
       "      <td>0.000208</td>\n",
       "      <td>-0.000034</td>\n",
       "      <td>0.000768</td>\n",
       "      <td>0.002235</td>\n",
       "      <td>0.000434</td>\n",
       "      <td>0.000517</td>\n",
       "      <td>0.000827</td>\n",
       "      <td>-0.000140</td>\n",
       "      <td>0.000795</td>\n",
       "    </tr>\n",
       "    <tr>\n",
       "      <th>FORD MOTOR</th>\n",
       "      <td>0.001493</td>\n",
       "      <td>0.001560</td>\n",
       "      <td>0.000832</td>\n",
       "      <td>0.001107</td>\n",
       "      <td>0.000434</td>\n",
       "      <td>0.002637</td>\n",
       "      <td>0.000662</td>\n",
       "      <td>0.000491</td>\n",
       "      <td>0.001297</td>\n",
       "      <td>0.000983</td>\n",
       "    </tr>\n",
       "    <tr>\n",
       "      <th>MCDONALDS</th>\n",
       "      <td>0.000864</td>\n",
       "      <td>0.001164</td>\n",
       "      <td>0.000449</td>\n",
       "      <td>0.000757</td>\n",
       "      <td>0.000517</td>\n",
       "      <td>0.000662</td>\n",
       "      <td>0.002075</td>\n",
       "      <td>0.000531</td>\n",
       "      <td>0.000690</td>\n",
       "      <td>0.000546</td>\n",
       "    </tr>\n",
       "    <tr>\n",
       "      <th>PFIZER</th>\n",
       "      <td>0.000968</td>\n",
       "      <td>0.001167</td>\n",
       "      <td>0.000317</td>\n",
       "      <td>0.000343</td>\n",
       "      <td>0.000827</td>\n",
       "      <td>0.000491</td>\n",
       "      <td>0.000531</td>\n",
       "      <td>0.002227</td>\n",
       "      <td>0.000341</td>\n",
       "      <td>0.000761</td>\n",
       "    </tr>\n",
       "    <tr>\n",
       "      <th>TEXAS INSTS.</th>\n",
       "      <td>0.001806</td>\n",
       "      <td>0.002718</td>\n",
       "      <td>0.001796</td>\n",
       "      <td>0.000951</td>\n",
       "      <td>-0.000140</td>\n",
       "      <td>0.001297</td>\n",
       "      <td>0.000690</td>\n",
       "      <td>0.000341</td>\n",
       "      <td>0.006745</td>\n",
       "      <td>0.000842</td>\n",
       "    </tr>\n",
       "    <tr>\n",
       "      <th>WAL MART STORES</th>\n",
       "      <td>0.001452</td>\n",
       "      <td>0.001538</td>\n",
       "      <td>0.000930</td>\n",
       "      <td>0.001151</td>\n",
       "      <td>0.000795</td>\n",
       "      <td>0.000983</td>\n",
       "      <td>0.000546</td>\n",
       "      <td>0.000761</td>\n",
       "      <td>0.000842</td>\n",
       "      <td>0.002521</td>\n",
       "    </tr>\n",
       "  </tbody>\n",
       "</table>\n",
       "</div>"
      ],
      "text/plain": [
       "                 AMER.EXPRESS  AOL TIME WARNER    AT & T  BLACK & DECKER  \\\n",
       "AMER.EXPRESS         0.003577         0.002002  0.001275        0.001368   \n",
       "AOL TIME WARNER      0.002002         0.008194  0.002115        0.000926   \n",
       "AT & T               0.001275         0.002115  0.003846        0.000431   \n",
       "BLACK & DECKER       0.001368         0.000926  0.000431        0.003101   \n",
       "COLGATE - PALM.      0.000972         0.000208 -0.000034        0.000768   \n",
       "FORD MOTOR           0.001493         0.001560  0.000832        0.001107   \n",
       "MCDONALDS            0.000864         0.001164  0.000449        0.000757   \n",
       "PFIZER               0.000968         0.001167  0.000317        0.000343   \n",
       "TEXAS INSTS.         0.001806         0.002718  0.001796        0.000951   \n",
       "WAL MART STORES      0.001452         0.001538  0.000930        0.001151   \n",
       "\n",
       "                 COLGATE - PALM.  FORD MOTOR  MCDONALDS    PFIZER  \\\n",
       "AMER.EXPRESS            0.000972    0.001493   0.000864  0.000968   \n",
       "AOL TIME WARNER         0.000208    0.001560   0.001164  0.001167   \n",
       "AT & T                 -0.000034    0.000832   0.000449  0.000317   \n",
       "BLACK & DECKER          0.000768    0.001107   0.000757  0.000343   \n",
       "COLGATE - PALM.         0.002235    0.000434   0.000517  0.000827   \n",
       "FORD MOTOR              0.000434    0.002637   0.000662  0.000491   \n",
       "MCDONALDS               0.000517    0.000662   0.002075  0.000531   \n",
       "PFIZER                  0.000827    0.000491   0.000531  0.002227   \n",
       "TEXAS INSTS.           -0.000140    0.001297   0.000690  0.000341   \n",
       "WAL MART STORES         0.000795    0.000983   0.000546  0.000761   \n",
       "\n",
       "                 TEXAS INSTS.  WAL MART STORES  \n",
       "AMER.EXPRESS         0.001806         0.001452  \n",
       "AOL TIME WARNER      0.002718         0.001538  \n",
       "AT & T               0.001796         0.000930  \n",
       "BLACK & DECKER       0.000951         0.001151  \n",
       "COLGATE - PALM.     -0.000140         0.000795  \n",
       "FORD MOTOR           0.001297         0.000983  \n",
       "MCDONALDS            0.000690         0.000546  \n",
       "PFIZER               0.000341         0.000761  \n",
       "TEXAS INSTS.         0.006745         0.000842  \n",
       "WAL MART STORES      0.000842         0.002521  "
      ]
     },
     "execution_count": 8,
     "metadata": {},
     "output_type": "execute_result"
    }
   ],
   "source": [
    "AR1 = data.iloc[:,0].values\n",
    "AR2 = data.iloc[:,1].values\n",
    "AR3 = data.iloc[:,2].values\n",
    "AR4 = data.iloc[:,3].values\n",
    "AR5 = data.iloc[:,4].values\n",
    "AR6 = data.iloc[:,5].values\n",
    "AR7 = data.iloc[:,6].values\n",
    "AR8 = data.iloc[:,7].values\n",
    "AR9 = data.iloc[:,8].values\n",
    "AR10 = data.iloc[:,9].values\n",
    "\n",
    "cov_asset = np.cov(np.array([AR1, AR2, AR3, AR4, AR5, AR6, AR7, AR8, AR9, AR10]))\n",
    "pd.DataFrame(cov_asset, index = names_company, columns = names_company)"
   ]
  },
  {
   "cell_type": "code",
   "execution_count": 9,
   "metadata": {},
   "outputs": [
    {
     "name": "stdout",
     "output_type": "stream",
     "text": [
      "Skewness:  0.06314676534352914 \n",
      "Kurtosis:  1.1646283780273032\n"
     ]
    }
   ],
   "source": [
    "print('Skewness: ', stats.skew(pf.values)[0], '\\nKurtosis: ', stats.kurtosis(pf.values)[0])"
   ]
  },
  {
   "cell_type": "code",
   "execution_count": 10,
   "metadata": {},
   "outputs": [],
   "source": [
    "VaR = - np.dot(weights, means.T) - math.sqrt(np.dot(np.dot(weights, cov_asset.T), weights.T))*stats.norm.ppf(0.05)"
   ]
  },
  {
   "cell_type": "code",
   "execution_count": 11,
   "metadata": {},
   "outputs": [],
   "source": [
    "def gaussianVaR(VaR, obs, bandwidth, alpha):\n",
    "    return (np.mean(stats.norm.cdf((-VaR - obs)/bandwidth))-alpha)**2"
   ]
  },
  {
   "cell_type": "code",
   "execution_count": 12,
   "metadata": {},
   "outputs": [],
   "source": [
    "obs = np.reshape(pf.values, 243)\n",
    "bandwidth = pow(len(pf), -0.2) * pow(statistics.variance(np.reshape(pf.values, 243)), 0.5)\n",
    "alpha = 0.05\n",
    "guesses = -0.2"
   ]
  },
  {
   "cell_type": "code",
   "execution_count": 13,
   "metadata": {},
   "outputs": [
    {
     "name": "stdout",
     "output_type": "stream",
     "text": [
      "Optimization terminated successfully.\n",
      "         Current function value: 0.000000\n",
      "         Iterations: 17\n",
      "         Function evaluations: 34\n"
     ]
    }
   ],
   "source": [
    "estimates_Var = optimize.fmin(func = gaussianVaR, x0 = guesses, args = (obs, bandwidth, alpha,))"
   ]
  },
  {
   "cell_type": "code",
   "execution_count": 14,
   "metadata": {},
   "outputs": [
    {
     "name": "stdout",
     "output_type": "stream",
     "text": [
      "Normal VaR:  0.05606581682634763 \n",
      "Kernel VaR:  0.0580468749999995\n"
     ]
    }
   ],
   "source": [
    "print('Normal VaR: ', VaR[0,0], '\\nKernel VaR: ', estimates_Var[0])"
   ]
  },
  {
   "cell_type": "markdown",
   "metadata": {},
   "source": [
    "## Sensitivities of VaR"
   ]
  },
  {
   "cell_type": "code",
   "execution_count": 15,
   "metadata": {},
   "outputs": [],
   "source": [
    "FOC = - means.T - np.dot(cov_asset, weights.T) / math.sqrt(np.dot(np.dot(weights, cov_asset.T), weights.T)) * stats.norm.ppf(0.05)"
   ]
  },
  {
   "cell_type": "code",
   "execution_count": 16,
   "metadata": {},
   "outputs": [],
   "source": [
    "def gaussiankernel(obs_x, obs_y, VaR_hat, bandwidth = None):\n",
    "    \"\"\"\n",
    "    kernel_pdf = gaussiankernel(obs,nb_column,bandwidth)\n",
    "    \n",
    "    The function gaussiankernel estimates the density of the distribution underlying the sample with the non-parametric gaussian kernel method.  \n",
    "    \n",
    "    Remark:\n",
    "    - The density is estimated between the min and the max of the sample of observations, for nb_points equidistant points.\n",
    "\n",
    "    Parameters\n",
    "    ----------\n",
    "    obs : array\n",
    "        a vector of observations \n",
    "    nb_column : int\n",
    "        the number of points where the density is estimated (see the remark) \n",
    "    bandwidth : double\n",
    "        the length of the window (optional argument)\n",
    "    \n",
    "    Returns\n",
    "    -------\n",
    "    kernel_pdf\n",
    "        a matrix (2, nb_points) where the first row contains the estimation points and the second row contains the values of the density. \n",
    "\n",
    "    \"\"\"\n",
    "\n",
    "    # the following calculations require obs to be an one-column array.\n",
    "    if not isinstance(obs_x, np.ndarray):\n",
    "        print('Error: please transfer the input variable to an array first!')\n",
    "    if not isinstance(obs_y, np.ndarray):\n",
    "        print('Error: please transfer the input variable to an array first!')\n",
    "    #if obs_x.ndim != 1:\n",
    "    #    print('Error: please transfer the input variable to an one-dimensional array!')\n",
    "\n",
    "    nb_obs = len(obs_x)\n",
    "    nb_column = obs_y.shape[1]\n",
    "    \n",
    "    # The 3rd input argument of the function gaussiankernel is optional.\n",
    "    # If no value is passed for the bandwith, the program will a \"rule of thumb\" value: (https://en.wikipedia.org/wiki/Kernel_density_estimation)\n",
    "    if bandwidth is None:\n",
    "        bandwidth = pow(nb_obs, -0.2) * pow(statistics.variance(obs_x.reshape(243)), 0.5)\n",
    "        \n",
    "\n",
    "    # We calculate all the points in one step by using the functions mean and the kronecker product.\n",
    "    # This is the most compact and efficient writing as it optimizes the use of the preprogrammed functions. You should \"vectorize\" the code at best to obtain a good performance.\n",
    "    # Check the help on different functions for more details.\n",
    "\n",
    "    x = (np.outer(obs_x, np.ones(nb_column)) + VaR_hat)/bandwidth\n",
    "    k = np.exp(-0.5*np.power(x, 2))/np.power(2*math.pi,0.5)\n",
    "    y = obs_y\n",
    "    f_above = np.mean((-y*k), axis = 0)/bandwidth\n",
    "    f_below = np.mean(k, axis=0)/bandwidth\n",
    "    f = f_above/f_below\n",
    "    kernel_pdf = f\n",
    "    \n",
    "    # Slow way: \n",
    "#     def calc_kernel(obs, x, bandwidth):\n",
    "#        return mean(np.exp((-0.5)*np.power((obs - x)/bandwidth, 2)))/bandwidth/np.power(2*pi,0.5)\n",
    "#     f = np.array([calc_kernel(obs, x, bandwidth) for x in kernel_pdf])\n",
    "\n",
    "    return np.array([kernel_pdf])"
   ]
  },
  {
   "cell_type": "code",
   "execution_count": 17,
   "metadata": {},
   "outputs": [],
   "source": [
    "obs_x = pf.values\n",
    "obs_y = data.values\n",
    "VaR_hat = estimates_Var"
   ]
  },
  {
   "cell_type": "code",
   "execution_count": 18,
   "metadata": {},
   "outputs": [],
   "source": [
    "FOC1 = gaussiankernel(obs_x, obs_y, VaR_hat)"
   ]
  },
  {
   "cell_type": "code",
   "execution_count": 19,
   "metadata": {},
   "outputs": [
    {
     "data": {
      "text/html": [
       "<div>\n",
       "<style scoped>\n",
       "    .dataframe tbody tr th:only-of-type {\n",
       "        vertical-align: middle;\n",
       "    }\n",
       "\n",
       "    .dataframe tbody tr th {\n",
       "        vertical-align: top;\n",
       "    }\n",
       "\n",
       "    .dataframe thead th {\n",
       "        text-align: right;\n",
       "    }\n",
       "</style>\n",
       "<table border=\"1\" class=\"dataframe\">\n",
       "  <thead>\n",
       "    <tr style=\"text-align: right;\">\n",
       "      <th></th>\n",
       "      <th>Normal FOC</th>\n",
       "      <th>Kernel FOC</th>\n",
       "    </tr>\n",
       "  </thead>\n",
       "  <tbody>\n",
       "    <tr>\n",
       "      <th>AMER.EXPRESS</th>\n",
       "      <td>0.071833</td>\n",
       "      <td>0.066372</td>\n",
       "    </tr>\n",
       "    <tr>\n",
       "      <th>AOL TIME WARNER</th>\n",
       "      <td>0.094409</td>\n",
       "      <td>0.087888</td>\n",
       "    </tr>\n",
       "    <tr>\n",
       "      <th>AT &amp; T</th>\n",
       "      <td>0.057860</td>\n",
       "      <td>0.059784</td>\n",
       "    </tr>\n",
       "    <tr>\n",
       "      <th>BLACK &amp; DECKER</th>\n",
       "      <td>0.050080</td>\n",
       "      <td>0.042863</td>\n",
       "    </tr>\n",
       "    <tr>\n",
       "      <th>COLGATE - PALM.</th>\n",
       "      <td>0.028872</td>\n",
       "      <td>0.023658</td>\n",
       "    </tr>\n",
       "    <tr>\n",
       "      <th>FORD MOTOR</th>\n",
       "      <td>0.056605</td>\n",
       "      <td>0.048324</td>\n",
       "    </tr>\n",
       "    <tr>\n",
       "      <th>MCDONALDS</th>\n",
       "      <td>0.039339</td>\n",
       "      <td>0.039191</td>\n",
       "    </tr>\n",
       "    <tr>\n",
       "      <th>PFIZER</th>\n",
       "      <td>0.035928</td>\n",
       "      <td>0.038356</td>\n",
       "    </tr>\n",
       "    <tr>\n",
       "      <th>TEXAS INSTS.</th>\n",
       "      <td>0.076203</td>\n",
       "      <td>0.055747</td>\n",
       "    </tr>\n",
       "    <tr>\n",
       "      <th>WAL MART STORES</th>\n",
       "      <td>0.049530</td>\n",
       "      <td>0.048673</td>\n",
       "    </tr>\n",
       "  </tbody>\n",
       "</table>\n",
       "</div>"
      ],
      "text/plain": [
       "                 Normal FOC  Kernel FOC \n",
       "AMER.EXPRESS       0.071833     0.066372\n",
       "AOL TIME WARNER    0.094409     0.087888\n",
       "AT & T             0.057860     0.059784\n",
       "BLACK & DECKER     0.050080     0.042863\n",
       "COLGATE - PALM.    0.028872     0.023658\n",
       "FORD MOTOR         0.056605     0.048324\n",
       "MCDONALDS          0.039339     0.039191\n",
       "PFIZER             0.035928     0.038356\n",
       "TEXAS INSTS.       0.076203     0.055747\n",
       "WAL MART STORES    0.049530     0.048673"
      ]
     },
     "execution_count": 19,
     "metadata": {},
     "output_type": "execute_result"
    }
   ],
   "source": [
    "pd.DataFrame(np.array([FOC.reshape(10), FOC1.reshape(10)]).T, index = names_company, columns = ['Normal FOC', 'Kernel FOC '])"
   ]
  },
  {
   "cell_type": "markdown",
   "metadata": {},
   "source": [
    "## Comparison with mean-variance optimization"
   ]
  },
  {
   "cell_type": "code",
   "execution_count": 20,
   "metadata": {},
   "outputs": [],
   "source": [
    "def min_var(weight, obj):\n",
    "    return np.dot(np.dot(weight, cov_asset.T), weight.T)\n",
    "\n",
    "def min_VaR(weight, obj):\n",
    "    return - np.dot(weight, means.T) - math.sqrt(np.dot(np.dot(weight, cov_asset.T), weight.T)) * stats.norm.ppf(0.05)\n",
    "\n",
    "def constr(weight):\n",
    "    return sum(weight) - 1\n",
    "\n",
    "def constr1(weight):\n",
    "    return np.dot(weight, means.T) - obj  "
   ]
  },
  {
   "cell_type": "code",
   "execution_count": 21,
   "metadata": {},
   "outputs": [],
   "source": [
    "guesses = np.array([np.repeat(0.1,10)])\n",
    "obj = 0.05\n",
    "# bnds = np.array(((0,1),)*10)\n",
    "cons = [{'type':'eq', 'fun': constr},\n",
    "        {'type':'eq', 'fun': constr1}]\n",
    "\n",
    "opt_weight = optimize.minimize(min_var, x0 = guesses, constraints=cons, args = (obj,))"
   ]
  },
  {
   "cell_type": "code",
   "execution_count": 22,
   "metadata": {},
   "outputs": [],
   "source": [
    "guesses = np.array([np.repeat(0.1,10)])\n",
    "obj = 0.05\n",
    "# bnds = np.array(((0,1),)*10)\n",
    "cons = [{'type':'eq', 'fun': constr},\n",
    "        {'type':'eq', 'fun': constr1}]\n",
    "\n",
    "opt_weight2 = optimize.minimize(min_VaR, x0 = guesses,constraints = cons, args = (obj,))"
   ]
  },
  {
   "cell_type": "code",
   "execution_count": 23,
   "metadata": {},
   "outputs": [
    {
     "data": {
      "text/html": [
       "<div>\n",
       "<style scoped>\n",
       "    .dataframe tbody tr th:only-of-type {\n",
       "        vertical-align: middle;\n",
       "    }\n",
       "\n",
       "    .dataframe tbody tr th {\n",
       "        vertical-align: top;\n",
       "    }\n",
       "\n",
       "    .dataframe thead th {\n",
       "        text-align: right;\n",
       "    }\n",
       "</style>\n",
       "<table border=\"1\" class=\"dataframe\">\n",
       "  <thead>\n",
       "    <tr style=\"text-align: right;\">\n",
       "      <th></th>\n",
       "      <th>Variance Weights</th>\n",
       "      <th>VaR Weights</th>\n",
       "    </tr>\n",
       "  </thead>\n",
       "  <tbody>\n",
       "    <tr>\n",
       "      <th>AMER.EXPRESS</th>\n",
       "      <td>0.503727</td>\n",
       "      <td>0.472200</td>\n",
       "    </tr>\n",
       "    <tr>\n",
       "      <th>AOL TIME WARNER</th>\n",
       "      <td>1.667726</td>\n",
       "      <td>1.659891</td>\n",
       "    </tr>\n",
       "    <tr>\n",
       "      <th>AT &amp; T</th>\n",
       "      <td>-2.014054</td>\n",
       "      <td>-2.074609</td>\n",
       "    </tr>\n",
       "    <tr>\n",
       "      <th>BLACK &amp; DECKER</th>\n",
       "      <td>0.063238</td>\n",
       "      <td>0.037133</td>\n",
       "    </tr>\n",
       "    <tr>\n",
       "      <th>COLGATE - PALM.</th>\n",
       "      <td>1.260279</td>\n",
       "      <td>1.229583</td>\n",
       "    </tr>\n",
       "    <tr>\n",
       "      <th>FORD MOTOR</th>\n",
       "      <td>-3.812319</td>\n",
       "      <td>-3.779030</td>\n",
       "    </tr>\n",
       "    <tr>\n",
       "      <th>MCDONALDS</th>\n",
       "      <td>-1.334333</td>\n",
       "      <td>-1.216435</td>\n",
       "    </tr>\n",
       "    <tr>\n",
       "      <th>PFIZER</th>\n",
       "      <td>-0.063521</td>\n",
       "      <td>-0.147484</td>\n",
       "    </tr>\n",
       "    <tr>\n",
       "      <th>TEXAS INSTS.</th>\n",
       "      <td>1.167979</td>\n",
       "      <td>1.187441</td>\n",
       "    </tr>\n",
       "    <tr>\n",
       "      <th>WAL MART STORES</th>\n",
       "      <td>3.561278</td>\n",
       "      <td>3.631312</td>\n",
       "    </tr>\n",
       "  </tbody>\n",
       "</table>\n",
       "</div>"
      ],
      "text/plain": [
       "                 Variance Weights  VaR Weights\n",
       "AMER.EXPRESS             0.503727     0.472200\n",
       "AOL TIME WARNER          1.667726     1.659891\n",
       "AT & T                  -2.014054    -2.074609\n",
       "BLACK & DECKER           0.063238     0.037133\n",
       "COLGATE - PALM.          1.260279     1.229583\n",
       "FORD MOTOR              -3.812319    -3.779030\n",
       "MCDONALDS               -1.334333    -1.216435\n",
       "PFIZER                  -0.063521    -0.147484\n",
       "TEXAS INSTS.             1.167979     1.187441\n",
       "WAL MART STORES          3.561278     3.631312"
      ]
     },
     "execution_count": 23,
     "metadata": {},
     "output_type": "execute_result"
    }
   ],
   "source": [
    "pd.DataFrame(np.array([opt_weight.x ,opt_weight2.x]).T, index = names_company, columns = ['Variance Weights', 'VaR Weights'])"
   ]
  },
  {
   "cell_type": "code",
   "execution_count": 24,
   "metadata": {},
   "outputs": [],
   "source": [
    "# Same as befor but with weights bounded between 0 and 1\n",
    "\n",
    "guesses = np.array([np.repeat(0.1,10)])\n",
    "obj = 0.05\n",
    "bnds = np.array(((0,1),)*10)\n",
    "cons = [{'type':'eq', 'fun': constr},\n",
    "        {'type':'eq', 'fun': constr1}]\n",
    "\n",
    "opt_weight3 = optimize.minimize(min_var, x0 = guesses, constraints=cons, bounds = bnds,args = (obj,))"
   ]
  },
  {
   "cell_type": "code",
   "execution_count": 25,
   "metadata": {},
   "outputs": [],
   "source": [
    "# Same as befor but with weights bounded between 0 and 1\n",
    "\n",
    "guesses = np.array([np.repeat(0.1,10)])\n",
    "obj = 0.05\n",
    "bnds = np.array(((0,1),)*10)\n",
    "cons = [{'type':'eq', 'fun': constr},\n",
    "        {'type':'eq', 'fun': constr1}]\n",
    "\n",
    "opt_weight4 = optimize.minimize(min_VaR, x0 = guesses,constraints = cons, bounds = bnds, args = (obj,))"
   ]
  },
  {
   "cell_type": "code",
   "execution_count": 26,
   "metadata": {},
   "outputs": [
    {
     "data": {
      "text/html": [
       "<div>\n",
       "<style scoped>\n",
       "    .dataframe tbody tr th:only-of-type {\n",
       "        vertical-align: middle;\n",
       "    }\n",
       "\n",
       "    .dataframe tbody tr th {\n",
       "        vertical-align: top;\n",
       "    }\n",
       "\n",
       "    .dataframe thead th {\n",
       "        text-align: right;\n",
       "    }\n",
       "</style>\n",
       "<table border=\"1\" class=\"dataframe\">\n",
       "  <thead>\n",
       "    <tr style=\"text-align: right;\">\n",
       "      <th></th>\n",
       "      <th>Variance Weights</th>\n",
       "      <th>VaR Weights</th>\n",
       "    </tr>\n",
       "  </thead>\n",
       "  <tbody>\n",
       "    <tr>\n",
       "      <th>AMER.EXPRESS</th>\n",
       "      <td>5.562569e-15</td>\n",
       "      <td>3.119275e-15</td>\n",
       "    </tr>\n",
       "    <tr>\n",
       "      <th>AOL TIME WARNER</th>\n",
       "      <td>1.000000e+00</td>\n",
       "      <td>1.000000e+00</td>\n",
       "    </tr>\n",
       "    <tr>\n",
       "      <th>AT &amp; T</th>\n",
       "      <td>1.367787e-15</td>\n",
       "      <td>2.825843e-16</td>\n",
       "    </tr>\n",
       "    <tr>\n",
       "      <th>BLACK &amp; DECKER</th>\n",
       "      <td>1.630759e-15</td>\n",
       "      <td>1.850033e-15</td>\n",
       "    </tr>\n",
       "    <tr>\n",
       "      <th>COLGATE - PALM.</th>\n",
       "      <td>2.754217e-13</td>\n",
       "      <td>1.809728e-15</td>\n",
       "    </tr>\n",
       "    <tr>\n",
       "      <th>FORD MOTOR</th>\n",
       "      <td>6.421574e-16</td>\n",
       "      <td>5.705941e-16</td>\n",
       "    </tr>\n",
       "    <tr>\n",
       "      <th>MCDONALDS</th>\n",
       "      <td>1.379218e-15</td>\n",
       "      <td>1.631209e-15</td>\n",
       "    </tr>\n",
       "    <tr>\n",
       "      <th>PFIZER</th>\n",
       "      <td>7.621037e-16</td>\n",
       "      <td>1.077486e-13</td>\n",
       "    </tr>\n",
       "    <tr>\n",
       "      <th>TEXAS INSTS.</th>\n",
       "      <td>8.643746e-15</td>\n",
       "      <td>1.828454e-14</td>\n",
       "    </tr>\n",
       "    <tr>\n",
       "      <th>WAL MART STORES</th>\n",
       "      <td>1.022985e-11</td>\n",
       "      <td>6.825562e-13</td>\n",
       "    </tr>\n",
       "  </tbody>\n",
       "</table>\n",
       "</div>"
      ],
      "text/plain": [
       "                 Variance Weights   VaR Weights\n",
       "AMER.EXPRESS         5.562569e-15  3.119275e-15\n",
       "AOL TIME WARNER      1.000000e+00  1.000000e+00\n",
       "AT & T               1.367787e-15  2.825843e-16\n",
       "BLACK & DECKER       1.630759e-15  1.850033e-15\n",
       "COLGATE - PALM.      2.754217e-13  1.809728e-15\n",
       "FORD MOTOR           6.421574e-16  5.705941e-16\n",
       "MCDONALDS            1.379218e-15  1.631209e-15\n",
       "PFIZER               7.621037e-16  1.077486e-13\n",
       "TEXAS INSTS.         8.643746e-15  1.828454e-14\n",
       "WAL MART STORES      1.022985e-11  6.825562e-13"
      ]
     },
     "execution_count": 26,
     "metadata": {},
     "output_type": "execute_result"
    }
   ],
   "source": [
    "pd.DataFrame(np.array([opt_weight3.x ,opt_weight4.x]).T, index = names_company, columns = ['Variance Weights', 'VaR Weights'])"
   ]
  },
  {
   "cell_type": "markdown",
   "metadata": {},
   "source": [
    "## optional"
   ]
  },
  {
   "cell_type": "code",
   "execution_count": 198,
   "metadata": {},
   "outputs": [],
   "source": [
    "weights_kurt1 = np.array([np.array([0.2, 0.075, 0.2, 0.075, 0.075, 0.075, 0.075, 0.075, 0.075, 0.075])])\n",
    "weights_kurt3 = np.array([np.array([0, 0, 0, 0, 0, 0, 0.3879, 0, 0.6121, 0])])\n",
    "weights_kurt5 = np.array([np.array([0, 0, 0, 0, 0, 0, 0, 0, 1, 0])])"
   ]
  },
  {
   "cell_type": "code",
   "execution_count": 200,
   "metadata": {},
   "outputs": [
    {
     "data": {
      "text/plain": [
       "3.954532555157238"
      ]
     },
     "execution_count": 200,
     "metadata": {},
     "output_type": "execute_result"
    }
   ],
   "source": [
    "stats.kurtosis(np.dot(weights_kurt1, data.values.T).reshape(243), fisher = False)"
   ]
  },
  {
   "cell_type": "code",
   "execution_count": 201,
   "metadata": {},
   "outputs": [
    {
     "data": {
      "text/plain": [
       "3.000058543899553"
      ]
     },
     "execution_count": 201,
     "metadata": {},
     "output_type": "execute_result"
    }
   ],
   "source": [
    "stats.kurtosis(np.dot(weights_kurt3, data.values.T).reshape(243), fisher = False)"
   ]
  },
  {
   "cell_type": "code",
   "execution_count": 202,
   "metadata": {},
   "outputs": [
    {
     "data": {
      "text/plain": [
       "2.8721412081158753"
      ]
     },
     "execution_count": 202,
     "metadata": {},
     "output_type": "execute_result"
    }
   ],
   "source": [
    "stats.kurtosis(np.dot(weights_kurt5, data.values.T).reshape(243), fisher = False)"
   ]
  },
  {
   "cell_type": "code",
   "execution_count": 203,
   "metadata": {},
   "outputs": [],
   "source": [
    "pf_kurt1 = pd.DataFrame(np.dot(weights_kurt1, data.values.T).T, columns = ['Portfolio'])\n",
    "pf_kurt3 = pd.DataFrame(np.dot(weights_kurt3, data.values.T).T, columns = ['Portfolio'])\n",
    "pf_kurt5 = pd.DataFrame(np.dot(weights_kurt5, data.values.T).T, columns = ['Portfolio'])"
   ]
  },
  {
   "cell_type": "code",
   "execution_count": 204,
   "metadata": {},
   "outputs": [],
   "source": [
    "VaR1 = - np.dot(weights_kurt1, means.T) - math.sqrt(np.dot(np.dot(weights_kurt1, cov_asset.T), weights_kurt1.T))*stats.norm.ppf(0.05)\n",
    "VaR3 = - np.dot(weights_kurt3, means.T) - math.sqrt(np.dot(np.dot(weights_kurt3, cov_asset.T), weights_kurt3.T))*stats.norm.ppf(0.05)\n",
    "VaR5 = - np.dot(weights_kurt5, means.T) - math.sqrt(np.dot(np.dot(weights_kurt5, cov_asset.T), weights_kurt5.T))*stats.norm.ppf(0.05)"
   ]
  },
  {
   "cell_type": "code",
   "execution_count": 209,
   "metadata": {},
   "outputs": [],
   "source": [
    "alpha = 0.05\n",
    "guesses = -0.2"
   ]
  },
  {
   "cell_type": "code",
   "execution_count": 210,
   "metadata": {},
   "outputs": [
    {
     "name": "stdout",
     "output_type": "stream",
     "text": [
      "Optimization terminated successfully.\n",
      "         Current function value: 0.000000\n",
      "         Iterations: 17\n",
      "         Function evaluations: 34\n",
      "Optimization terminated successfully.\n",
      "         Current function value: 0.000000\n",
      "         Iterations: 17\n",
      "         Function evaluations: 34\n",
      "Optimization terminated successfully.\n",
      "         Current function value: 0.000000\n",
      "         Iterations: 19\n",
      "         Function evaluations: 38\n"
     ]
    }
   ],
   "source": [
    "obs = np.reshape(pf_kurt1.values, 243)\n",
    "bandwidth = pow(len(pf_kurt1), -0.2) * pow(statistics.variance(np.reshape(pf_kurt1.values, 243)), 0.5)\n",
    "estimates_Var1 = optimize.fmin(func = gaussianVaR, x0 = guesses, args = (obs, bandwidth, alpha,))\n",
    "\n",
    "obs = np.reshape(pf_kurt3.values, 243)\n",
    "bandwidth = pow(len(pf_kurt3), -0.2) * pow(statistics.variance(np.reshape(pf_kurt3.values, 243)), 0.5)\n",
    "estimates_Var3 = optimize.fmin(func = gaussianVaR, x0 = guesses, args = (obs, bandwidth, alpha,))\n",
    "\n",
    "obs = np.reshape(pf_kurt5.values, 243)\n",
    "bandwidth = pow(len(pf_kurt5), -0.2) * pow(statistics.variance(np.reshape(pf_kurt5.values, 243)), 0.5)\n",
    "estimates_Var5 = optimize.fmin(func = gaussianVaR, x0 = guesses, args = (obs, bandwidth, alpha,))"
   ]
  },
  {
   "cell_type": "code",
   "execution_count": 221,
   "metadata": {},
   "outputs": [
    {
     "data": {
      "text/html": [
       "<div>\n",
       "<style scoped>\n",
       "    .dataframe tbody tr th:only-of-type {\n",
       "        vertical-align: middle;\n",
       "    }\n",
       "\n",
       "    .dataframe tbody tr th {\n",
       "        vertical-align: top;\n",
       "    }\n",
       "\n",
       "    .dataframe thead th {\n",
       "        text-align: right;\n",
       "    }\n",
       "</style>\n",
       "<table border=\"1\" class=\"dataframe\">\n",
       "  <thead>\n",
       "    <tr style=\"text-align: right;\">\n",
       "      <th></th>\n",
       "      <th>Normal VaR</th>\n",
       "      <th>Kernel VaR</th>\n",
       "    </tr>\n",
       "  </thead>\n",
       "  <tbody>\n",
       "    <tr>\n",
       "      <th>Kurtosis &gt; 3</th>\n",
       "      <td>0.0595692</td>\n",
       "      <td>0.0627344</td>\n",
       "    </tr>\n",
       "    <tr>\n",
       "      <th>Kurtosis = 3</th>\n",
       "      <td>0.090539</td>\n",
       "      <td>0.0935156</td>\n",
       "    </tr>\n",
       "    <tr>\n",
       "      <th>Kurtosis &lt; 3</th>\n",
       "      <td>0.131376</td>\n",
       "      <td>0.137266</td>\n",
       "    </tr>\n",
       "  </tbody>\n",
       "</table>\n",
       "</div>"
      ],
      "text/plain": [
       "             Normal VaR Kernel VaR \n",
       "Kurtosis > 3  0.0595692   0.0627344\n",
       "Kurtosis = 3   0.090539   0.0935156\n",
       "Kurtosis < 3   0.131376    0.137266"
      ]
     },
     "execution_count": 221,
     "metadata": {},
     "output_type": "execute_result"
    }
   ],
   "source": [
    "pd.DataFrame(np.array([VaR1, estimates_Var1, VaR3, estimates_Var3,VaR5, estimates_Var5]).reshape(3,2), index = ['Kurtosis > 3', 'Kurtosis = 3', 'Kurtosis < 3'], columns = ['Normal VaR', 'Kernel VaR '])"
   ]
  },
  {
   "cell_type": "code",
   "execution_count": null,
   "metadata": {},
   "outputs": [],
   "source": []
  }
 ],
 "metadata": {
  "kernelspec": {
   "display_name": "Python 3.8",
   "language": "python",
   "name": "datahub"
  },
  "language_info": {
   "codemirror_mode": {
    "name": "ipython",
    "version": 3
   },
   "file_extension": ".py",
   "mimetype": "text/x-python",
   "name": "python",
   "nbconvert_exporter": "python",
   "pygments_lexer": "ipython3",
   "version": "3.8.3"
  }
 },
 "nbformat": 4,
 "nbformat_minor": 4
}
